{
 "cells": [
  {
   "cell_type": "code",
   "execution_count": 36,
   "metadata": {},
   "outputs": [],
   "source": [
    "import pandas as pd\n",
    "import numpy as np\n",
    "import matplotlib.pyplot as plt\n",
    "import matplotlib.image as mpimg\n",
    "import seaborn as sns\n",
    "from sklearn.metrics import confusion_matrix, mean_squared_error\n",
    "from sklearn.model_selection import train_test_split\n",
    "from sklearn import preprocessing\n",
    "from sklearn.linear_model import LinearRegression\n",
    "from sklearn.model_selection import KFold\n",
    "from sklearn.preprocessing import StandardScaler, MinMaxScaler\n",
    "from sklearn.model_selection import train_test_split\n",
    "from keras.callbacks import ModelCheckpoint\n",
    "import xgboost as xgb\n",
    "from sklearn.preprocessing import LabelEncoder\n",
    "from scipy.stats import norm, skew #for some statistics\n",
    "from sklearn.model_selection import KFold, cross_val_score, train_test_split\n",
    "import lightgbm as lgb\n",
    "from keras.models import Sequential\n",
    "from keras.layers import Dense, Dropout, Flatten, Conv2D, MaxPool2D\n",
    "from keras.utils.np_utils import to_categorical # convert to one-hot-encoding\n",
    "from keras.wrappers.scikit_learn import KerasRegressor\n",
    "from scipy.special import boxcox1p\n",
    "\n",
    "import itertools\n",
    "import math\n",
    "from scipy import stats\n",
    "\n",
    "%matplotlib inline\n",
    "\n",
    "# pd.set_option(\"display.max_rows\", 10)\n",
    "\n",
    "np.random.seed(2)"
   ]
  },
  {
   "cell_type": "code",
   "execution_count": 37,
   "metadata": {},
   "outputs": [
    {
     "name": "stdout",
     "output_type": "stream",
     "text": [
      "(1460, 81)\n",
      "(1459, 80)\n"
     ]
    }
   ],
   "source": [
    "# Load the data\n",
    "train = pd.read_csv(\"../input/train.csv\")\n",
    "test = pd.read_csv(\"../input/test.csv\")\n",
    "\n",
    "print(train.shape)\n",
    "print(test.shape)"
   ]
  },
  {
   "cell_type": "code",
   "execution_count": 38,
   "metadata": {},
   "outputs": [
    {
     "data": {
      "text/plain": [
       "Index(['MSSubClass', 'MSZoning', 'LotFrontage', 'LotArea', 'Street', 'Alley',\n",
       "       'LotShape', 'LandContour', 'Utilities', 'LotConfig', 'LandSlope',\n",
       "       'Neighborhood', 'Condition1', 'Condition2', 'BldgType', 'HouseStyle',\n",
       "       'OverallQual', 'OverallCond', 'YearBuilt', 'YearRemodAdd', 'RoofStyle',\n",
       "       'RoofMatl', 'Exterior1st', 'Exterior2nd', 'MasVnrType', 'MasVnrArea',\n",
       "       'ExterQual', 'ExterCond', 'Foundation', 'BsmtQual', 'BsmtCond',\n",
       "       'BsmtExposure', 'BsmtFinType1', 'BsmtFinSF1', 'BsmtFinType2',\n",
       "       'BsmtFinSF2', 'BsmtUnfSF', 'TotalBsmtSF', 'Heating', 'HeatingQC',\n",
       "       'CentralAir', 'Electrical', '1stFlrSF', '2ndFlrSF', 'LowQualFinSF',\n",
       "       'GrLivArea', 'BsmtFullBath', 'BsmtHalfBath', 'FullBath', 'HalfBath',\n",
       "       'BedroomAbvGr', 'KitchenAbvGr', 'KitchenQual', 'TotRmsAbvGrd',\n",
       "       'Functional', 'Fireplaces', 'FireplaceQu', 'GarageType', 'GarageYrBlt',\n",
       "       'GarageFinish', 'GarageCars', 'GarageArea', 'GarageQual', 'GarageCond',\n",
       "       'PavedDrive', 'WoodDeckSF', 'OpenPorchSF', 'EnclosedPorch', '3SsnPorch',\n",
       "       'ScreenPorch', 'PoolArea', 'PoolQC', 'Fence', 'MiscFeature', 'MiscVal',\n",
       "       'MoSold', 'YrSold', 'SaleType', 'SaleCondition', 'SalePrice'],\n",
       "      dtype='object')"
      ]
     },
     "execution_count": 38,
     "metadata": {},
     "output_type": "execute_result"
    }
   ],
   "source": [
    "train = train.drop('Id', axis=1)\n",
    "train.columns\n"
   ]
  },
  {
   "cell_type": "code",
   "execution_count": 39,
   "metadata": {},
   "outputs": [
    {
     "data": {
      "text/plain": [
       "MSSubClass         int64\n",
       "MSZoning          object\n",
       "LotFrontage      float64\n",
       "LotArea            int64\n",
       "Street            object\n",
       "Alley             object\n",
       "LotShape          object\n",
       "LandContour       object\n",
       "Utilities         object\n",
       "LotConfig         object\n",
       "LandSlope         object\n",
       "Neighborhood      object\n",
       "Condition1        object\n",
       "Condition2        object\n",
       "BldgType          object\n",
       "HouseStyle        object\n",
       "OverallQual        int64\n",
       "OverallCond        int64\n",
       "YearBuilt          int64\n",
       "YearRemodAdd       int64\n",
       "RoofStyle         object\n",
       "RoofMatl          object\n",
       "Exterior1st       object\n",
       "Exterior2nd       object\n",
       "MasVnrType        object\n",
       "MasVnrArea       float64\n",
       "ExterQual         object\n",
       "ExterCond         object\n",
       "Foundation        object\n",
       "BsmtQual          object\n",
       "                  ...   \n",
       "BedroomAbvGr       int64\n",
       "KitchenAbvGr       int64\n",
       "KitchenQual       object\n",
       "TotRmsAbvGrd       int64\n",
       "Functional        object\n",
       "Fireplaces         int64\n",
       "FireplaceQu       object\n",
       "GarageType        object\n",
       "GarageYrBlt      float64\n",
       "GarageFinish      object\n",
       "GarageCars         int64\n",
       "GarageArea         int64\n",
       "GarageQual        object\n",
       "GarageCond        object\n",
       "PavedDrive        object\n",
       "WoodDeckSF         int64\n",
       "OpenPorchSF        int64\n",
       "EnclosedPorch      int64\n",
       "3SsnPorch          int64\n",
       "ScreenPorch        int64\n",
       "PoolArea           int64\n",
       "PoolQC            object\n",
       "Fence             object\n",
       "MiscFeature       object\n",
       "MiscVal            int64\n",
       "MoSold             int64\n",
       "YrSold             int64\n",
       "SaleType          object\n",
       "SaleCondition     object\n",
       "SalePrice          int64\n",
       "Length: 80, dtype: object"
      ]
     },
     "execution_count": 39,
     "metadata": {},
     "output_type": "execute_result"
    }
   ],
   "source": [
    "train.dtypes"
   ]
  },
  {
   "cell_type": "markdown",
   "metadata": {},
   "source": [
    "# TODO:\n",
    "    * Remove outliers\n",
    "    * Fill missing data with modes calculated for similar data"
   ]
  },
  {
   "cell_type": "markdown",
   "metadata": {},
   "source": [
    "# Filling NaNs\n",
    "\n",
    "## TODO: spend some more time on these columns"
   ]
  },
  {
   "cell_type": "code",
   "execution_count": 52,
   "metadata": {},
   "outputs": [
    {
     "name": "stdout",
     "output_type": "stream",
     "text": [
      "Fixes remaining on train set\n",
      " Series([], dtype: int64)\n",
      "Fixes remaining on test set\n",
      " Series([], dtype: int64)\n"
     ]
    }
   ],
   "source": [
    "cols_with_none_as_nan = [\n",
    "    \"PoolQC\", \n",
    "    \"MiscFeature\", \n",
    "    \"Alley\", \n",
    "    \"Fence\", \n",
    "    \"FireplaceQu\", \n",
    "    'GarageType', \n",
    "    'GarageFinish', \n",
    "    'GarageQual', \n",
    "    'GarageCond', \n",
    "    'BsmtQual', \n",
    "    'BsmtCond', \n",
    "    'BsmtExposure', \n",
    "    'Electrical', \n",
    "    'BsmtFinType1', \n",
    "    'BsmtFinType2', \n",
    "    \"MasVnrType\",\n",
    "    'MSZoning',\n",
    "    'Utilities',\n",
    "    'Exterior1st',\n",
    "    'Exterior2nd',\n",
    "    'KitchenQual',\n",
    "    'Functional',\n",
    "    'SaleType']\n",
    "\n",
    "\n",
    "# fill missing text fields with a default string\n",
    "object_columns = train.select_dtypes(include=[object])\n",
    "test_object_columns = test.select_dtypes(include=[object])\n",
    "\n",
    "# for these colunms the string 'None' will be inserted in place of nan\n",
    "for col in cols_with_none_as_nan:\n",
    "    object_columns.loc[:, col] = object_columns.loc[:, col].fillna('None')\n",
    "    test_object_columns.loc[:, col] = test_object_columns.loc[:, col].fillna('None')\n",
    "\n",
    "remaining_fix = object_columns.isnull().sum()\n",
    "print('Fixes remaining on train set\\n', remaining_fix[remaining_fix>0])\n",
    "\n",
    "remaining_fix = test_object_columns.isnull().sum()\n",
    "print('Fixes remaining on test set\\n',remaining_fix[remaining_fix>0])"
   ]
  },
  {
   "cell_type": "code",
   "execution_count": 53,
   "metadata": {},
   "outputs": [
    {
     "name": "stdout",
     "output_type": "stream",
     "text": [
      "Fixes remaining on train set\n",
      " LotFrontage    259\n",
      "MasVnrArea       8\n",
      "GarageYrBlt     81\n",
      "dtype: int64\n",
      "Fixes remaining on test set\n",
      " LotFrontage     227\n",
      "MasVnrArea       15\n",
      "BsmtFinSF1        1\n",
      "BsmtFinSF2        1\n",
      "BsmtUnfSF         1\n",
      "TotalBsmtSF       1\n",
      "BsmtFullBath      2\n",
      "BsmtHalfBath      2\n",
      "GarageYrBlt      78\n",
      "GarageCars        1\n",
      "GarageArea        1\n",
      "dtype: int64\n"
     ]
    }
   ],
   "source": [
    "int_columns = train.select_dtypes(include=[int, float])\n",
    "\n",
    "remaining_fix = int_columns.isnull().sum()\n",
    "print('Fixes remaining on train set\\n',remaining_fix[remaining_fix>0])\n",
    "\n",
    "test_int_columns = test.select_dtypes(include=[int, float])\n",
    "\n",
    "remaining_fix = test_int_columns.isnull().sum()\n",
    "print('Fixes remaining on test set\\n',remaining_fix[remaining_fix>0])"
   ]
  },
  {
   "cell_type": "code",
   "execution_count": 55,
   "metadata": {},
   "outputs": [
    {
     "name": "stdout",
     "output_type": "stream",
     "text": [
      "Fixes remaining on train set\n",
      " Series([], dtype: int64)\n",
      "Fixes remaining on test set\n",
      " Series([], dtype: int64)\n"
     ]
    }
   ],
   "source": [
    "cols_with_zero_as_nan = ['MasVnrArea', \n",
    "                         'GarageYrBlt',\n",
    "                         'BsmtFinSF1',\n",
    "                         'BsmtFinSF2',\n",
    "                         'BsmtUnfSF',\n",
    "                         'TotalBsmtSF',\n",
    "                         'BsmtFullBath',\n",
    "                         'BsmtHalfBath',\n",
    "                         'GarageCars',\n",
    "                         'GarageArea',\n",
    "                        ]\n",
    "cols_with_mean_as_nan = ['LotFrontage']\n",
    "\n",
    "# for these colunms the mean will be inserted in place of nan\n",
    "for col in cols_with_mean_as_nan:\n",
    "    int_columns.loc[:, col] = int_columns.loc[:, col].fillna(int_columns[col].mean())\n",
    "    test_int_columns.loc[:, col] = test_int_columns.loc[:, col].fillna(test_int_columns[col].mean())\n",
    "\n",
    "# for these colunms a zero will be inserted in place of nan\n",
    "for col in cols_with_zero_as_nan:\n",
    "    int_columns.loc[:, col] = int_columns.loc[:, col].fillna(0)\n",
    "    test_int_columns.loc[:, col] = test_int_columns.loc[:, col].fillna(0)\n",
    "\n",
    "\n",
    "remaining_fix = int_columns.isnull().sum()\n",
    "print('Fixes remaining on train set\\n',remaining_fix[remaining_fix>0])\n",
    "\n",
    "remaining_fix = test_int_columns.isnull().sum()\n",
    "print('Fixes remaining on test set\\n',remaining_fix[remaining_fix>0])"
   ]
  },
  {
   "cell_type": "markdown",
   "metadata": {},
   "source": [
    "# Features skewness\n",
    "## TODO understand why skewness correction gives worse results"
   ]
  },
  {
   "cell_type": "code",
   "execution_count": 56,
   "metadata": {},
   "outputs": [
    {
     "name": "stdout",
     "output_type": "stream",
     "text": [
      "There are 23 skewed numerical features to Box Cox transform\n",
      "\n",
      "Skew > .75 in numerical features: \n",
      "\n",
      "                    Skew\n",
      "MiscVal        24.451640\n",
      "PoolArea       14.813135\n",
      "LotArea        12.195142\n",
      "3SsnPorch      10.293752\n",
      "LowQualFinSF    9.002080\n",
      "KitchenAbvGr    4.483784\n",
      "BsmtFinSF2      4.250888\n",
      "ScreenPorch     4.117977\n",
      "BsmtHalfBath    4.099186\n",
      "GarageYrBlt     3.865524\n",
      "EnclosedPorch   3.086696\n",
      "MasVnrArea      2.674865\n",
      "LotFrontage     2.382499\n",
      "OpenPorchSF     2.361912\n",
      "SalePrice       1.880941\n",
      "BsmtFinSF1      1.683771\n",
      "WoodDeckSF      1.539792\n",
      "TotalBsmtSF     1.522688\n",
      "MSSubClass      1.406210\n",
      "1stFlrSF        1.375342\n",
      "GrLivArea       1.365156\n",
      "BsmtUnfSF       0.919323\n",
      "2ndFlrSF        0.812194\n"
     ]
    }
   ],
   "source": [
    "skewed_feats = int_columns.apply(lambda x: abs(skew(x.dropna()))).sort_values(ascending=False)\n",
    "skewness = pd.DataFrame({'Skew': skewed_feats})\n",
    "skewness = skewness[abs(skewness) > 0.75].dropna()\n",
    "print(\"There are {} skewed numerical features to Box Cox transform\".format(skewness.shape[0]))\n",
    "\n",
    "print(\"\\nSkew > .75 in numerical features: \\n\")\n",
    "print(skewness)\n",
    "\n",
    "# Fix skewness\n",
    "skewed_features = skewness.index\n",
    "lam = 0.15\n",
    "#for feat in skewed_features:\n",
    "#    if feat == 'SalePrice': continue\n",
    "#    int_columns[feat] = boxcox1p(int_columns[feat], lam)\n"
   ]
  },
  {
   "cell_type": "markdown",
   "metadata": {},
   "source": [
    "# Enconding string columns with LabelEncoder"
   ]
  },
  {
   "cell_type": "code",
   "execution_count": 57,
   "metadata": {},
   "outputs": [
    {
     "name": "stdout",
     "output_type": "stream",
     "text": [
      "522 distinct labels generated\n"
     ]
    },
    {
     "data": {
      "text/html": [
       "<div>\n",
       "<style scoped>\n",
       "    .dataframe tbody tr th:only-of-type {\n",
       "        vertical-align: middle;\n",
       "    }\n",
       "\n",
       "    .dataframe tbody tr th {\n",
       "        vertical-align: top;\n",
       "    }\n",
       "\n",
       "    .dataframe thead th {\n",
       "        text-align: right;\n",
       "    }\n",
       "</style>\n",
       "<table border=\"1\" class=\"dataframe\">\n",
       "  <thead>\n",
       "    <tr style=\"text-align: right;\">\n",
       "      <th></th>\n",
       "      <th>MSZoning</th>\n",
       "      <th>Street</th>\n",
       "      <th>Alley</th>\n",
       "      <th>LotShape</th>\n",
       "      <th>LandContour</th>\n",
       "      <th>Utilities</th>\n",
       "      <th>LotConfig</th>\n",
       "      <th>LandSlope</th>\n",
       "      <th>Neighborhood</th>\n",
       "      <th>Condition1</th>\n",
       "      <th>...</th>\n",
       "      <th>GarageType</th>\n",
       "      <th>GarageFinish</th>\n",
       "      <th>GarageQual</th>\n",
       "      <th>GarageCond</th>\n",
       "      <th>PavedDrive</th>\n",
       "      <th>PoolQC</th>\n",
       "      <th>Fence</th>\n",
       "      <th>MiscFeature</th>\n",
       "      <th>SaleType</th>\n",
       "      <th>SaleCondition</th>\n",
       "    </tr>\n",
       "  </thead>\n",
       "  <tbody>\n",
       "    <tr>\n",
       "      <th>0</th>\n",
       "      <td>133</td>\n",
       "      <td>126</td>\n",
       "      <td>114</td>\n",
       "      <td>140</td>\n",
       "      <td>89</td>\n",
       "      <td>12</td>\n",
       "      <td>87</td>\n",
       "      <td>78</td>\n",
       "      <td>41</td>\n",
       "      <td>115</td>\n",
       "      <td>...</td>\n",
       "      <td>17</td>\n",
       "      <td>131</td>\n",
       "      <td>155</td>\n",
       "      <td>155</td>\n",
       "      <td>173</td>\n",
       "      <td>114</td>\n",
       "      <td>114</td>\n",
       "      <td>114</td>\n",
       "      <td>165</td>\n",
       "      <td>116</td>\n",
       "    </tr>\n",
       "    <tr>\n",
       "      <th>1</th>\n",
       "      <td>133</td>\n",
       "      <td>126</td>\n",
       "      <td>114</td>\n",
       "      <td>140</td>\n",
       "      <td>89</td>\n",
       "      <td>12</td>\n",
       "      <td>54</td>\n",
       "      <td>78</td>\n",
       "      <td>163</td>\n",
       "      <td>59</td>\n",
       "      <td>...</td>\n",
       "      <td>17</td>\n",
       "      <td>131</td>\n",
       "      <td>155</td>\n",
       "      <td>155</td>\n",
       "      <td>173</td>\n",
       "      <td>114</td>\n",
       "      <td>114</td>\n",
       "      <td>114</td>\n",
       "      <td>165</td>\n",
       "      <td>116</td>\n",
       "    </tr>\n",
       "    <tr>\n",
       "      <th>2</th>\n",
       "      <td>133</td>\n",
       "      <td>126</td>\n",
       "      <td>114</td>\n",
       "      <td>83</td>\n",
       "      <td>89</td>\n",
       "      <td>12</td>\n",
       "      <td>87</td>\n",
       "      <td>78</td>\n",
       "      <td>41</td>\n",
       "      <td>115</td>\n",
       "      <td>...</td>\n",
       "      <td>17</td>\n",
       "      <td>131</td>\n",
       "      <td>155</td>\n",
       "      <td>155</td>\n",
       "      <td>173</td>\n",
       "      <td>114</td>\n",
       "      <td>114</td>\n",
       "      <td>114</td>\n",
       "      <td>165</td>\n",
       "      <td>116</td>\n",
       "    </tr>\n",
       "    <tr>\n",
       "      <th>3</th>\n",
       "      <td>133</td>\n",
       "      <td>126</td>\n",
       "      <td>114</td>\n",
       "      <td>83</td>\n",
       "      <td>89</td>\n",
       "      <td>12</td>\n",
       "      <td>47</td>\n",
       "      <td>78</td>\n",
       "      <td>48</td>\n",
       "      <td>115</td>\n",
       "      <td>...</td>\n",
       "      <td>50</td>\n",
       "      <td>162</td>\n",
       "      <td>155</td>\n",
       "      <td>155</td>\n",
       "      <td>173</td>\n",
       "      <td>114</td>\n",
       "      <td>114</td>\n",
       "      <td>114</td>\n",
       "      <td>165</td>\n",
       "      <td>10</td>\n",
       "    </tr>\n",
       "    <tr>\n",
       "      <th>4</th>\n",
       "      <td>133</td>\n",
       "      <td>126</td>\n",
       "      <td>114</td>\n",
       "      <td>83</td>\n",
       "      <td>89</td>\n",
       "      <td>12</td>\n",
       "      <td>54</td>\n",
       "      <td>78</td>\n",
       "      <td>112</td>\n",
       "      <td>115</td>\n",
       "      <td>...</td>\n",
       "      <td>17</td>\n",
       "      <td>131</td>\n",
       "      <td>155</td>\n",
       "      <td>155</td>\n",
       "      <td>173</td>\n",
       "      <td>114</td>\n",
       "      <td>114</td>\n",
       "      <td>114</td>\n",
       "      <td>165</td>\n",
       "      <td>116</td>\n",
       "    </tr>\n",
       "  </tbody>\n",
       "</table>\n",
       "<p>5 rows × 43 columns</p>\n",
       "</div>"
      ],
      "text/plain": [
       "   MSZoning  Street  Alley  LotShape  LandContour  Utilities  LotConfig  \\\n",
       "0       133     126    114       140           89         12         87   \n",
       "1       133     126    114       140           89         12         54   \n",
       "2       133     126    114        83           89         12         87   \n",
       "3       133     126    114        83           89         12         47   \n",
       "4       133     126    114        83           89         12         54   \n",
       "\n",
       "   LandSlope  Neighborhood  Condition1      ...        GarageType  \\\n",
       "0         78            41         115      ...                17   \n",
       "1         78           163          59      ...                17   \n",
       "2         78            41         115      ...                17   \n",
       "3         78            48         115      ...                50   \n",
       "4         78           112         115      ...                17   \n",
       "\n",
       "   GarageFinish  GarageQual  GarageCond  PavedDrive  PoolQC  Fence  \\\n",
       "0           131         155         155         173     114    114   \n",
       "1           131         155         155         173     114    114   \n",
       "2           131         155         155         173     114    114   \n",
       "3           162         155         155         173     114    114   \n",
       "4           131         155         155         173     114    114   \n",
       "\n",
       "   MiscFeature  SaleType  SaleCondition  \n",
       "0          114       165            116  \n",
       "1          114       165            116  \n",
       "2          114       165            116  \n",
       "3          114       165             10  \n",
       "4          114       165            116  \n",
       "\n",
       "[5 rows x 43 columns]"
      ]
     },
     "execution_count": 57,
     "metadata": {},
     "output_type": "execute_result"
    }
   ],
   "source": [
    "\n",
    "strings = np.array([])\n",
    "for c in object_columns.columns:\n",
    "    strings = np.append(strings, pd.unique(object_columns[c].values))\n",
    "\n",
    "for c in test_object_columns.columns:\n",
    "    strings = np.append(strings, pd.unique(test_object_columns[c].values))\n",
    "\n",
    "print(len(strings), 'distinct labels generated')\n",
    "\n",
    "labeler = LabelEncoder()\n",
    "labeler.fit(strings)\n",
    "\n",
    "for c in object_columns.columns:\n",
    "    object_columns.loc[:,c] = labeler.transform(object_columns.loc[:,c])\n",
    "    test_object_columns.loc[:,c] = labeler.transform(test_object_columns.loc[:,c])\n",
    "\n",
    "object_columns[0:5]"
   ]
  },
  {
   "cell_type": "markdown",
   "metadata": {},
   "source": [
    "# Assembling the datasets"
   ]
  },
  {
   "cell_type": "code",
   "execution_count": 58,
   "metadata": {},
   "outputs": [],
   "source": [
    "# final train dataset\n",
    "train_ds = object_columns.join(int_columns)\n",
    "train_ds[\"SalePrice\"] = np.log1p(train_ds[\"SalePrice\"])\n",
    "\n",
    "# test dataset\n",
    "test_ds = test_object_columns.join(test_int_columns)\n",
    "\n",
    "#correlation matrix\n",
    "corrmat = train_ds.corr()['SalePrice']\n",
    "#f, ax = plt.subplots(figsize=(12, 9))\n",
    "#sns.heatmap(corrmat, vmax=.8, square=True);\n",
    "\n",
    "best_columns = corrmat[abs(corrmat) > 0.0].index\n",
    "train_ds = train_ds[best_columns]\n",
    "test_ds = test_ds[best_columns.drop('SalePrice')]\n"
   ]
  },
  {
   "cell_type": "code",
   "execution_count": 59,
   "metadata": {},
   "outputs": [
    {
     "name": "stdout",
     "output_type": "stream",
     "text": [
      "Training set features shape (1460, 79)\n",
      "Training set labels shape (1460, 1)\n",
      "Test set shape (1459, 79)\n"
     ]
    }
   ],
   "source": [
    "X_train = (train_ds.values[:,:-1])\n",
    "y_train = np.asarray([[t] for t in (train_ds.values[:,-1])])\n",
    "X_test = test_ds.values\n",
    "\n",
    "print('Training set features shape', X_train.shape)\n",
    "print('Training set labels shape', y_train.shape)\n",
    "print('Test set shape', test_ds.shape)\n"
   ]
  },
  {
   "cell_type": "code",
   "execution_count": 60,
   "metadata": {},
   "outputs": [],
   "source": [
    "def train(depth, learning_rate, n_estimators, model_type='xgb'):\n",
    "    if model_type == 'xgb':\n",
    "        model = xgb.XGBRegressor(colsample_bytree=0.4603, gamma=0.0468, \n",
    "                                 learning_rate=learning_rate, max_depth=depth, \n",
    "                                 min_child_weight=1.7817, n_estimators=n_estimators,\n",
    "                                 reg_alpha=0.4640, reg_lambda=0.8571,\n",
    "                                 subsample=0.5213, silent=1,\n",
    "                                 random_state =7, nthread = -1)\n",
    "    if model_type == 'lgb':\n",
    "        model = lgb.LGBMRegressor(colsample_bytree=0.4603, gamma=0.0468, \n",
    "                                 learning_rate=learning_rate, max_depth=depth, \n",
    "                                 min_child_weight=1.7817, n_estimators=n_estimators,\n",
    "                                 reg_alpha=0.4640, reg_lambda=0.8571,\n",
    "                                 subsample=0.5213, silent=1,\n",
    "                                 random_state =7, nthread = -1)\n",
    "    score = rmsle_cv(model)\n",
    "    print(model_type, \" score: depth={:d} lr={:.2f} est={:d} -> mean:{:.5f} std:{:.4f}\".format(depth, learning_rate, n_estimators, score.mean(), score.std()))\n",
    "    return score\n",
    "\n",
    "#Validation function\n",
    "n_folds = 5\n",
    "\n",
    "def rmsle_cv(model):\n",
    "    kf = KFold(n_folds, shuffle=True, random_state=42).get_n_splits(train)\n",
    "    rmse= np.sqrt(-cross_val_score(model, X_train, y_train.flatten(), scoring=\"neg_mean_squared_error\", cv = kf))\n",
    "    return(rmse)\n",
    "\n",
    "\n",
    "def rmsle(y, y_pred):\n",
    "    return np.sqrt(mean_squared_error(y, y_pred))\n"
   ]
  },
  {
   "cell_type": "markdown",
   "metadata": {},
   "source": [
    "# Training: XGBoost\n",
    "## TODO: brute_force in regularization parameters"
   ]
  },
  {
   "cell_type": "code",
   "execution_count": 96,
   "metadata": {},
   "outputs": [
    {
     "name": "stdout",
     "output_type": "stream",
     "text": [
      "xgb  score: depth=4 lr=0.03 est=4400 -> mean:0.12209 std:0.0095\n"
     ]
    }
   ],
   "source": [
    "\n",
    "result = []\n",
    "for depth in range(4, 5):\n",
    "    for learning_rate in range(3, 4, 1):\n",
    "        for n_estimators in range(4400, 4600, 200):\n",
    "            score = train(depth, learning_rate/100, n_estimators, model_type='xgb')\n",
    "            result.append([depth, learning_rate/100, n_estimators, score.mean(), score.std()])\n"
   ]
  },
  {
   "cell_type": "code",
   "execution_count": 97,
   "metadata": {},
   "outputs": [
    {
     "data": {
      "text/html": [
       "<div>\n",
       "<style scoped>\n",
       "    .dataframe tbody tr th:only-of-type {\n",
       "        vertical-align: middle;\n",
       "    }\n",
       "\n",
       "    .dataframe tbody tr th {\n",
       "        vertical-align: top;\n",
       "    }\n",
       "\n",
       "    .dataframe thead th {\n",
       "        text-align: right;\n",
       "    }\n",
       "</style>\n",
       "<table border=\"1\" class=\"dataframe\">\n",
       "  <thead>\n",
       "    <tr style=\"text-align: right;\">\n",
       "      <th></th>\n",
       "      <th>depth</th>\n",
       "      <th>learning_rate</th>\n",
       "      <th>n_estimators</th>\n",
       "      <th>score_mean</th>\n",
       "      <th>score_std</th>\n",
       "    </tr>\n",
       "  </thead>\n",
       "  <tbody>\n",
       "    <tr>\n",
       "      <th>count</th>\n",
       "      <td>1.0</td>\n",
       "      <td>1.00</td>\n",
       "      <td>1.0</td>\n",
       "      <td>1.000000</td>\n",
       "      <td>1.000000</td>\n",
       "    </tr>\n",
       "    <tr>\n",
       "      <th>mean</th>\n",
       "      <td>4.0</td>\n",
       "      <td>0.03</td>\n",
       "      <td>4400.0</td>\n",
       "      <td>0.122087</td>\n",
       "      <td>0.009478</td>\n",
       "    </tr>\n",
       "    <tr>\n",
       "      <th>std</th>\n",
       "      <td>NaN</td>\n",
       "      <td>NaN</td>\n",
       "      <td>NaN</td>\n",
       "      <td>NaN</td>\n",
       "      <td>NaN</td>\n",
       "    </tr>\n",
       "    <tr>\n",
       "      <th>min</th>\n",
       "      <td>4.0</td>\n",
       "      <td>0.03</td>\n",
       "      <td>4400.0</td>\n",
       "      <td>0.122087</td>\n",
       "      <td>0.009478</td>\n",
       "    </tr>\n",
       "    <tr>\n",
       "      <th>25%</th>\n",
       "      <td>4.0</td>\n",
       "      <td>0.03</td>\n",
       "      <td>4400.0</td>\n",
       "      <td>0.122087</td>\n",
       "      <td>0.009478</td>\n",
       "    </tr>\n",
       "    <tr>\n",
       "      <th>50%</th>\n",
       "      <td>4.0</td>\n",
       "      <td>0.03</td>\n",
       "      <td>4400.0</td>\n",
       "      <td>0.122087</td>\n",
       "      <td>0.009478</td>\n",
       "    </tr>\n",
       "    <tr>\n",
       "      <th>75%</th>\n",
       "      <td>4.0</td>\n",
       "      <td>0.03</td>\n",
       "      <td>4400.0</td>\n",
       "      <td>0.122087</td>\n",
       "      <td>0.009478</td>\n",
       "    </tr>\n",
       "    <tr>\n",
       "      <th>max</th>\n",
       "      <td>4.0</td>\n",
       "      <td>0.03</td>\n",
       "      <td>4400.0</td>\n",
       "      <td>0.122087</td>\n",
       "      <td>0.009478</td>\n",
       "    </tr>\n",
       "  </tbody>\n",
       "</table>\n",
       "</div>"
      ],
      "text/plain": [
       "       depth  learning_rate  n_estimators  score_mean  score_std\n",
       "count    1.0           1.00           1.0    1.000000   1.000000\n",
       "mean     4.0           0.03        4400.0    0.122087   0.009478\n",
       "std      NaN            NaN           NaN         NaN        NaN\n",
       "min      4.0           0.03        4400.0    0.122087   0.009478\n",
       "25%      4.0           0.03        4400.0    0.122087   0.009478\n",
       "50%      4.0           0.03        4400.0    0.122087   0.009478\n",
       "75%      4.0           0.03        4400.0    0.122087   0.009478\n",
       "max      4.0           0.03        4400.0    0.122087   0.009478"
      ]
     },
     "execution_count": 97,
     "metadata": {},
     "output_type": "execute_result"
    }
   ],
   "source": [
    "# check results\n",
    "result = pd.DataFrame(result, columns=['depth', 'learning_rate', 'n_estimators', 'score_mean', 'score_std'])\n",
    "result.describe()\n"
   ]
  },
  {
   "cell_type": "code",
   "execution_count": 99,
   "metadata": {},
   "outputs": [
    {
     "name": "stdout",
     "output_type": "stream",
     "text": [
      "Best try = \n",
      " depth               4.000000\n",
      "learning_rate       0.030000\n",
      "n_estimators     4400.000000\n",
      "score_mean          0.122087\n",
      "score_std           0.009478\n",
      "Name: 0, dtype: float64\n"
     ]
    }
   ],
   "source": [
    "best = np.argmin(result['score_mean'].values)\n",
    "print('Best try = \\n', result.iloc[best])\n"
   ]
  },
  {
   "cell_type": "markdown",
   "metadata": {},
   "source": [
    "# Best try = \n",
    "* depth               4.000000\n",
    "* learning_rate       0.030000\n",
    "* n_estimators     4400.000000\n",
    "* score_mean          0.122087\n",
    "* score_std           0.009478\n",
    "* Name: 0, dtype: float64"
   ]
  },
  {
   "cell_type": "code",
   "execution_count": 100,
   "metadata": {},
   "outputs": [
    {
     "name": "stdout",
     "output_type": "stream",
     "text": [
      "Xgboost score: depth=4 lr=0.03 est=4400 -> mean:0.12209 std:0.0095\n",
      "RMSLE XGB =  0.07567717981311464\n"
     ]
    }
   ],
   "source": [
    "# train with the best parameters\n",
    "depth = int(result.iloc[best]['depth'])\n",
    "learning_rate = result.iloc[best]['learning_rate']\n",
    "n_estimators = int(result.iloc[best]['n_estimators'])\n",
    "\n",
    "model_xgb = xgb.XGBRegressor(colsample_bytree=0.4603, gamma=0.0468, \n",
    "                         learning_rate=learning_rate, max_depth=depth, \n",
    "                         min_child_weight=1.7817, n_estimators=n_estimators,\n",
    "                         reg_alpha=0.4640, reg_lambda=0.8571,\n",
    "                         subsample=0.5213, silent=1,\n",
    "                         random_state =7, nthread = -1)\n",
    "\n",
    "score = rmsle_cv(model_xgb)\n",
    "print(\"Xgboost score: depth={:d} lr={:.2f} est={:d} -> mean:{:.5f} std:{:.4f}\".format(depth, learning_rate, n_estimators, score.mean(), score.std()))\n",
    "model_xgb.fit(X_train, y_train)\n",
    "y_pred = model_xgb.predict(X_train)\n",
    "print('RMSLE XGB = ', rmsle(y_train, y_pred))\n"
   ]
  },
  {
   "cell_type": "markdown",
   "metadata": {},
   "source": [
    "* Xgboost score: depth=4 lr=0.03 est=4400 -> mean:0.12209 std:0.0095\n",
    "* RMSLE XGB =  0.07567717981311464\n"
   ]
  },
  {
   "cell_type": "code",
   "execution_count": 101,
   "metadata": {},
   "outputs": [
    {
     "name": "stdout",
     "output_type": "stream",
     "text": [
      "(1460, 1)\n",
      "(1460,)\n"
     ]
    },
    {
     "data": {
      "image/png": "[encoded data removed]",
      "text/plain": [
       "<Figure size 576x576 with 1 Axes>"
      ]
     },
     "metadata": {
      "needs_background": "light"
     },
     "output_type": "display_data"
    }
   ],
   "source": [
    "plt.figure(figsize=(8, 8))\n",
    "y_pred = model_xgb.predict(X_train)\n",
    "print(y_train.shape)\n",
    "print(y_pred.shape)\n",
    "plt.scatter(np.expm1(y_train), np.expm1(y_pred))\n",
    "plt.xlim(0, 800_000)\n",
    "plt.ylim(0, 800_000)\n",
    "plt.xlabel('actual', fontsize=12)\n",
    "plt.ylabel('predicted', fontsize=12)\n",
    "plt.grid()\n",
    "plt.plot([(0, 0), (1_000_000, 1_000_000)], [(0, 0), (1_000_000, 1_000_000)])\n",
    "plt.show()\n"
   ]
  },
  {
   "cell_type": "markdown",
   "metadata": {},
   "source": [
    "# Training: lightgbm\n",
    "## TODO: brute_force in regularization parameters"
   ]
  },
  {
   "cell_type": "code",
   "execution_count": 107,
   "metadata": {},
   "outputs": [
    {
     "name": "stdout",
     "output_type": "stream",
     "text": [
      "lgb  score: depth=5 lr=0.02 est=1200 -> mean:0.12642 std:0.0111\n"
     ]
    }
   ],
   "source": [
    "result = []\n",
    "for depth in range(5, 6):\n",
    "    for learning_rate in range(2, 3, 1):\n",
    "        for n_estimators in range(1200, 1400, 200):\n",
    "            score = train(depth, learning_rate/100, n_estimators, model_type='lgb')\n",
    "            result.append([depth, learning_rate/100, n_estimators, score.mean(), score.std()])\n"
   ]
  },
  {
   "cell_type": "code",
   "execution_count": 108,
   "metadata": {},
   "outputs": [
    {
     "data": {
      "text/html": [
       "<div>\n",
       "<style scoped>\n",
       "    .dataframe tbody tr th:only-of-type {\n",
       "        vertical-align: middle;\n",
       "    }\n",
       "\n",
       "    .dataframe tbody tr th {\n",
       "        vertical-align: top;\n",
       "    }\n",
       "\n",
       "    .dataframe thead th {\n",
       "        text-align: right;\n",
       "    }\n",
       "</style>\n",
       "<table border=\"1\" class=\"dataframe\">\n",
       "  <thead>\n",
       "    <tr style=\"text-align: right;\">\n",
       "      <th></th>\n",
       "      <th>depth</th>\n",
       "      <th>learning_rate</th>\n",
       "      <th>n_estimators</th>\n",
       "      <th>score_mean</th>\n",
       "      <th>score_std</th>\n",
       "    </tr>\n",
       "  </thead>\n",
       "  <tbody>\n",
       "    <tr>\n",
       "      <th>count</th>\n",
       "      <td>1.0</td>\n",
       "      <td>1.00</td>\n",
       "      <td>1.0</td>\n",
       "      <td>1.00000</td>\n",
       "      <td>1.000000</td>\n",
       "    </tr>\n",
       "    <tr>\n",
       "      <th>mean</th>\n",
       "      <td>5.0</td>\n",
       "      <td>0.02</td>\n",
       "      <td>1200.0</td>\n",
       "      <td>0.12642</td>\n",
       "      <td>0.011078</td>\n",
       "    </tr>\n",
       "    <tr>\n",
       "      <th>std</th>\n",
       "      <td>NaN</td>\n",
       "      <td>NaN</td>\n",
       "      <td>NaN</td>\n",
       "      <td>NaN</td>\n",
       "      <td>NaN</td>\n",
       "    </tr>\n",
       "    <tr>\n",
       "      <th>min</th>\n",
       "      <td>5.0</td>\n",
       "      <td>0.02</td>\n",
       "      <td>1200.0</td>\n",
       "      <td>0.12642</td>\n",
       "      <td>0.011078</td>\n",
       "    </tr>\n",
       "    <tr>\n",
       "      <th>25%</th>\n",
       "      <td>5.0</td>\n",
       "      <td>0.02</td>\n",
       "      <td>1200.0</td>\n",
       "      <td>0.12642</td>\n",
       "      <td>0.011078</td>\n",
       "    </tr>\n",
       "    <tr>\n",
       "      <th>50%</th>\n",
       "      <td>5.0</td>\n",
       "      <td>0.02</td>\n",
       "      <td>1200.0</td>\n",
       "      <td>0.12642</td>\n",
       "      <td>0.011078</td>\n",
       "    </tr>\n",
       "    <tr>\n",
       "      <th>75%</th>\n",
       "      <td>5.0</td>\n",
       "      <td>0.02</td>\n",
       "      <td>1200.0</td>\n",
       "      <td>0.12642</td>\n",
       "      <td>0.011078</td>\n",
       "    </tr>\n",
       "    <tr>\n",
       "      <th>max</th>\n",
       "      <td>5.0</td>\n",
       "      <td>0.02</td>\n",
       "      <td>1200.0</td>\n",
       "      <td>0.12642</td>\n",
       "      <td>0.011078</td>\n",
       "    </tr>\n",
       "  </tbody>\n",
       "</table>\n",
       "</div>"
      ],
      "text/plain": [
       "       depth  learning_rate  n_estimators  score_mean  score_std\n",
       "count    1.0           1.00           1.0     1.00000   1.000000\n",
       "mean     5.0           0.02        1200.0     0.12642   0.011078\n",
       "std      NaN            NaN           NaN         NaN        NaN\n",
       "min      5.0           0.02        1200.0     0.12642   0.011078\n",
       "25%      5.0           0.02        1200.0     0.12642   0.011078\n",
       "50%      5.0           0.02        1200.0     0.12642   0.011078\n",
       "75%      5.0           0.02        1200.0     0.12642   0.011078\n",
       "max      5.0           0.02        1200.0     0.12642   0.011078"
      ]
     },
     "execution_count": 108,
     "metadata": {},
     "output_type": "execute_result"
    }
   ],
   "source": [
    "# check results\n",
    "result = pd.DataFrame(result, columns=['depth', 'learning_rate', 'n_estimators', 'score_mean', 'score_std'])\n",
    "result.describe()\n"
   ]
  },
  {
   "cell_type": "code",
   "execution_count": 109,
   "metadata": {},
   "outputs": [
    {
     "name": "stdout",
     "output_type": "stream",
     "text": [
      "Best try = \n",
      " depth               5.000000\n",
      "learning_rate       0.020000\n",
      "n_estimators     1200.000000\n",
      "score_mean          0.126420\n",
      "score_std           0.011078\n",
      "Name: 0, dtype: float64\n"
     ]
    }
   ],
   "source": [
    "best = np.argmin(result['score_mean'].values)\n",
    "print('Best try = \\n', result.iloc[best])\n"
   ]
  },
  {
   "cell_type": "markdown",
   "metadata": {},
   "source": [
    "# Best try = \n",
    "* depth               5.000000\n",
    "* learning_rate       0.020000\n",
    "* n_estimators     1200.000000\n",
    "* score_mean          0.126420\n",
    "* score_std           0.011078\n",
    "* Name: 0, dtype: float64\n"
   ]
  },
  {
   "cell_type": "code",
   "execution_count": 113,
   "metadata": {},
   "outputs": [
    {
     "name": "stdout",
     "output_type": "stream",
     "text": [
      "lgb score: depth=5 lr=0.02 est=1200 -> mean:0.12642 std:0.0111\n",
      "RMSLE LGB =  0.05449049727677453\n"
     ]
    }
   ],
   "source": [
    "# train with the best parameters\n",
    "depth = int(result.iloc[best]['depth'])\n",
    "learning_rate = result.iloc[best]['learning_rate']\n",
    "n_estimators = int(result.iloc[best]['n_estimators'])\n",
    "\n",
    "model_lgb = lgb.LGBMRegressor(colsample_bytree=0.4603, gamma=0.0468, \n",
    "                         learning_rate=learning_rate, max_depth=depth, \n",
    "                         min_child_weight=1.7817, n_estimators=n_estimators,\n",
    "                         reg_alpha=0.4640, reg_lambda=0.8571,\n",
    "                         subsample=0.5213, silent=1,\n",
    "                         random_state =7, nthread = -1)\n",
    "\n",
    "\n",
    "score = rmsle_cv(model_lgb)\n",
    "print(\"lgb score: depth={:d} lr={:.2f} est={:d} -> mean:{:.5f} std:{:.4f}\".format(depth, learning_rate, n_estimators, score.mean(), score.std()))\n",
    "\n",
    "model_lgb.fit(X_train, y_train.flatten())\n",
    "y_pred = model_lgb.predict(X_train)\n",
    "\n",
    "print('RMSLE LGB = ', rmsle(y_train, y_pred))\n"
   ]
  },
  {
   "cell_type": "markdown",
   "metadata": {},
   "source": [
    "* lgb score: depth=5 lr=0.02 est=1200 -> mean:0.12642 std:0.0111\n",
    "* RMSLE LGB =  0.05449049727677453\n"
   ]
  },
  {
   "cell_type": "code",
   "execution_count": 114,
   "metadata": {},
   "outputs": [
    {
     "data": {
      "image/png": "[encoded data removed]",
      "text/plain": [
       "<Figure size 576x576 with 1 Axes>"
      ]
     },
     "metadata": {
      "needs_background": "light"
     },
     "output_type": "display_data"
    }
   ],
   "source": [
    "\n",
    "plt.figure(figsize=(8, 8))\n",
    "plt.scatter(np.expm1(y_train), np.expm1(y_pred))\n",
    "plt.xlim(0, 800_000)\n",
    "plt.ylim(0, 800_000)\n",
    "plt.xlabel('actual', fontsize=12)\n",
    "plt.ylabel('predicted', fontsize=12)\n",
    "plt.plot([(0, 0), (1_000_000, 1_000_000)], [(0, 0), (1_000_000, 1_000_000)])\n",
    "plt.show()\n"
   ]
  },
  {
   "cell_type": "markdown",
   "metadata": {},
   "source": [
    "# Averaged model"
   ]
  },
  {
   "cell_type": "code",
   "execution_count": 115,
   "metadata": {},
   "outputs": [
    {
     "data": {
      "image/png": "[encoded data removed]",
      "text/plain": [
       "<Figure size 576x576 with 1 Axes>"
      ]
     },
     "metadata": {
      "needs_background": "light"
     },
     "output_type": "display_data"
    },
    {
     "name": "stdout",
     "output_type": "stream",
     "text": [
      "RMSLE LGB =  0.06361658360039464\n"
     ]
    }
   ],
   "source": [
    "avg_predict = (model_lgb.predict(X_train) + model_xgb.predict(X_train)) / 2\n",
    "y_pred = avg_predict\n",
    "\n",
    "plt.figure(figsize=(8, 8))\n",
    "plt.scatter(np.expm1(y_train), np.expm1(y_pred))\n",
    "plt.xlim(0, 800_000)\n",
    "plt.ylim(0, 800_000)\n",
    "plt.xlabel('actual', fontsize=12)\n",
    "plt.ylabel('predicted', fontsize=12)\n",
    "plt.plot([(0, 0), (1_000_000, 1_000_000)], [(0, 0), (1_000_000, 1_000_000)])\n",
    "plt.show()\n",
    "\n",
    "print('RMSLE LGB = ', rmsle(y_train, y_pred))\n",
    "\n"
   ]
  },
  {
   "cell_type": "markdown",
   "metadata": {},
   "source": [
    "# Target: RMSLE LGB =  0.06361658360039464\n"
   ]
  },
  {
   "cell_type": "code",
   "execution_count": 116,
   "metadata": {},
   "outputs": [
    {
     "name": "stdout",
     "output_type": "stream",
     "text": [
      "[125654.54 162587.8  178274.34 191233.72 192669.62]\n",
      "[120297.91675682 161143.62994694 182761.24172362 191176.90464365\n",
      " 189035.95558328]\n"
     ]
    },
    {
     "data": {
      "text/html": [
       "<div>\n",
       "<style scoped>\n",
       "    .dataframe tbody tr th:only-of-type {\n",
       "        vertical-align: middle;\n",
       "    }\n",
       "\n",
       "    .dataframe tbody tr th {\n",
       "        vertical-align: top;\n",
       "    }\n",
       "\n",
       "    .dataframe thead th {\n",
       "        text-align: right;\n",
       "    }\n",
       "</style>\n",
       "<table border=\"1\" class=\"dataframe\">\n",
       "  <thead>\n",
       "    <tr style=\"text-align: right;\">\n",
       "      <th></th>\n",
       "      <th>SalePrice</th>\n",
       "      <th>Id</th>\n",
       "    </tr>\n",
       "  </thead>\n",
       "  <tbody>\n",
       "    <tr>\n",
       "      <th>0</th>\n",
       "      <td>122947.059331</td>\n",
       "      <td>1461</td>\n",
       "    </tr>\n",
       "    <tr>\n",
       "      <th>1</th>\n",
       "      <td>161864.102373</td>\n",
       "      <td>1462</td>\n",
       "    </tr>\n",
       "    <tr>\n",
       "      <th>2</th>\n",
       "      <td>180503.849046</td>\n",
       "      <td>1463</td>\n",
       "    </tr>\n",
       "    <tr>\n",
       "      <th>3</th>\n",
       "      <td>191205.304197</td>\n",
       "      <td>1464</td>\n",
       "    </tr>\n",
       "    <tr>\n",
       "      <th>4</th>\n",
       "      <td>190844.143146</td>\n",
       "      <td>1465</td>\n",
       "    </tr>\n",
       "    <tr>\n",
       "      <th>5</th>\n",
       "      <td>174095.449047</td>\n",
       "      <td>1466</td>\n",
       "    </tr>\n",
       "    <tr>\n",
       "      <th>6</th>\n",
       "      <td>178226.743350</td>\n",
       "      <td>1467</td>\n",
       "    </tr>\n",
       "    <tr>\n",
       "      <th>7</th>\n",
       "      <td>167708.015873</td>\n",
       "      <td>1468</td>\n",
       "    </tr>\n",
       "    <tr>\n",
       "      <th>8</th>\n",
       "      <td>177247.937623</td>\n",
       "      <td>1469</td>\n",
       "    </tr>\n",
       "    <tr>\n",
       "      <th>9</th>\n",
       "      <td>123840.694773</td>\n",
       "      <td>1470</td>\n",
       "    </tr>\n",
       "  </tbody>\n",
       "</table>\n",
       "</div>"
      ],
      "text/plain": [
       "       SalePrice    Id\n",
       "0  122947.059331  1461\n",
       "1  161864.102373  1462\n",
       "2  180503.849046  1463\n",
       "3  191205.304197  1464\n",
       "4  190844.143146  1465\n",
       "5  174095.449047  1466\n",
       "6  178226.743350  1467\n",
       "7  167708.015873  1468\n",
       "8  177247.937623  1469\n",
       "9  123840.694773  1470"
      ]
     },
     "execution_count": 116,
     "metadata": {},
     "output_type": "execute_result"
    }
   ],
   "source": [
    "# Submission\n",
    "print(np.expm1(model_xgb.predict(X_test)[0:5]))\n",
    "print(np.expm1(model_lgb.predict(X_test)[0:5]))\n",
    "avg_predict = (model_xgb.predict(X_test) + model_lgb.predict(X_test)) / 2\n",
    "subm_predict = np.expm1(avg_predict)\n",
    "\n",
    "dsubm_predict = pd.DataFrame(subm_predict)\n",
    "dsubm_predict['Id'] = test.values[:,0]\n",
    "dsubm_predict.columns = ['SalePrice', 'Id']\n",
    "\n",
    "dsubm_predict.to_csv('submission.csv', index=False)\n",
    "dsubm_predict[0:10]\n"
   ]
  },
  {
   "cell_type": "markdown",
   "metadata": {},
   "source": [
    "# Score on kaggle: 0.12307"
   ]
  }
 ],
 "metadata": {
  "kernelspec": {
   "display_name": "Python 3",
   "language": "python",
   "name": "python3"
  },
  "language_info": {
   "codemirror_mode": {
    "name": "ipython",
    "version": 3
   },
   "file_extension": ".py",
   "mimetype": "text/x-python",
   "name": "python",
   "nbconvert_exporter": "python",
   "pygments_lexer": "ipython3",
   "version": "3.6.6"
  }
 },
 "nbformat": 4,
 "nbformat_minor": 2
}
