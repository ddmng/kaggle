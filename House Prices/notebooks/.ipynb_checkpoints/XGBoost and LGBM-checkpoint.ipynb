{
 "cells": [
  {
   "cell_type": "markdown",
   "metadata": {
    "_uuid": "4dba2cb6fd6b3736730ccc323756a487ce196143"
   },
   "source": [
    "# Averaged XGBoost and LightGBM model\n",
    "---"
   ]
  },
  {
   "cell_type": "code",
   "execution_count": 1,
   "metadata": {
    "_uuid": "dc2ddb1f7fb33d3d82148fed926c4fc197fb7440"
   },
   "outputs": [
    {
     "name": "stderr",
     "output_type": "stream",
     "text": [
      "Using TensorFlow backend.\n"
     ]
    }
   ],
   "source": [
    "import math\n",
    "import pandas as pd\n",
    "import numpy as np\n",
    "from scipy.stats import stats, norm, skew\n",
    "import seaborn as sns\n",
    "import matplotlib.pyplot as plt\n",
    "import matplotlib.image as mpimg\n",
    "from sklearn import preprocessing\n",
    "from sklearn.metrics import confusion_matrix, mean_squared_error\n",
    "from sklearn.model_selection import train_test_split\n",
    "from sklearn.linear_model import LinearRegression, ElasticNet, Lasso\n",
    "from sklearn.model_selection import KFold\n",
    "from sklearn.preprocessing import StandardScaler, MinMaxScaler, LabelEncoder\n",
    "from sklearn.model_selection import KFold, cross_val_score, train_test_split\n",
    "from keras.models import Sequential\n",
    "from keras.callbacks import ModelCheckpoint\n",
    "from keras.layers import Dense, Dropout, Flatten, Conv2D, MaxPool2D\n",
    "from keras.utils.np_utils import to_categorical\n",
    "from keras.wrappers.scikit_learn import KerasRegressor\n",
    "from scipy.special import boxcox1p\n",
    "import lightgbm as lgb\n",
    "import xgboost as xgb\n",
    "\n",
    "%matplotlib inline\n",
    "np.random.seed(2)"
   ]
  },
  {
   "cell_type": "code",
   "execution_count": 2,
   "metadata": {
    "_uuid": "74d8bbce6441583be05d44397ff39fb79400ee29",
    "scrolled": true
   },
   "outputs": [
    {
     "name": "stdout",
     "output_type": "stream",
     "text": [
      "(1460, 81)\n",
      "(1459, 80)\n"
     ]
    }
   ],
   "source": [
    "# Load the data\n",
    "train = pd.read_csv(\"../input/train.csv\")\n",
    "test = pd.read_csv(\"../input/test.csv\")\n",
    "\n",
    "print(train.shape)\n",
    "print(test.shape)"
   ]
  },
  {
   "cell_type": "code",
   "execution_count": 3,
   "metadata": {
    "_uuid": "57658e23063669c938df1ab759bcdb32bb495d76"
   },
   "outputs": [
    {
     "data": {
      "text/plain": [
       "Index(['MSSubClass', 'MSZoning', 'LotFrontage', 'LotArea', 'Street', 'Alley',\n",
       "       'LotShape', 'LandContour', 'Utilities', 'LotConfig', 'LandSlope',\n",
       "       'Neighborhood', 'Condition1', 'Condition2', 'BldgType', 'HouseStyle',\n",
       "       'OverallQual', 'OverallCond', 'YearBuilt', 'YearRemodAdd', 'RoofStyle',\n",
       "       'RoofMatl', 'Exterior1st', 'Exterior2nd', 'MasVnrType', 'MasVnrArea',\n",
       "       'ExterQual', 'ExterCond', 'Foundation', 'BsmtQual', 'BsmtCond',\n",
       "       'BsmtExposure', 'BsmtFinType1', 'BsmtFinSF1', 'BsmtFinType2',\n",
       "       'BsmtFinSF2', 'BsmtUnfSF', 'TotalBsmtSF', 'Heating', 'HeatingQC',\n",
       "       'CentralAir', 'Electrical', '1stFlrSF', '2ndFlrSF', 'LowQualFinSF',\n",
       "       'GrLivArea', 'BsmtFullBath', 'BsmtHalfBath', 'FullBath', 'HalfBath',\n",
       "       'BedroomAbvGr', 'KitchenAbvGr', 'KitchenQual', 'TotRmsAbvGrd',\n",
       "       'Functional', 'Fireplaces', 'FireplaceQu', 'GarageType', 'GarageYrBlt',\n",
       "       'GarageFinish', 'GarageCars', 'GarageArea', 'GarageQual', 'GarageCond',\n",
       "       'PavedDrive', 'WoodDeckSF', 'OpenPorchSF', 'EnclosedPorch', '3SsnPorch',\n",
       "       'ScreenPorch', 'PoolArea', 'PoolQC', 'Fence', 'MiscFeature', 'MiscVal',\n",
       "       'MoSold', 'YrSold', 'SaleType', 'SaleCondition', 'SalePrice'],\n",
       "      dtype='object')"
      ]
     },
     "execution_count": 3,
     "metadata": {},
     "output_type": "execute_result"
    }
   ],
   "source": [
    "train = train.drop('Id', axis=1)\n",
    "train.columns\n"
   ]
  },
  {
   "cell_type": "markdown",
   "metadata": {
    "_uuid": "68cae77e0948bfd15e175799ad44059a8e825b39"
   },
   "source": [
    "# Filling NaNs\n",
    "\n",
    "## TODO: spend some more time on these columns"
   ]
  },
  {
   "cell_type": "markdown",
   "metadata": {
    "_uuid": "a09a9cf4617e8305e2171b08672d65975f1405b6"
   },
   "source": [
    "### 1: strings"
   ]
  },
  {
   "cell_type": "code",
   "execution_count": 4,
   "metadata": {
    "_uuid": "10693d90c3f6fb7ad0d4b6967a913e1a719bd26a"
   },
   "outputs": [
    {
     "name": "stdout",
     "output_type": "stream",
     "text": [
      "Index(['MSZoning', 'Street', 'Alley', 'LotShape', 'LandContour', 'Utilities',\n",
      "       'LotConfig', 'LandSlope', 'Neighborhood', 'Condition1', 'Condition2',\n",
      "       'BldgType', 'HouseStyle', 'RoofStyle', 'RoofMatl', 'Exterior1st',\n",
      "       'Exterior2nd', 'MasVnrType', 'ExterQual', 'ExterCond', 'Foundation',\n",
      "       'BsmtQual', 'BsmtCond', 'BsmtExposure', 'BsmtFinType1', 'BsmtFinType2',\n",
      "       'Heating', 'HeatingQC', 'CentralAir', 'Electrical', 'KitchenQual',\n",
      "       'Functional', 'FireplaceQu', 'GarageType', 'GarageFinish', 'GarageQual',\n",
      "       'GarageCond', 'PavedDrive', 'PoolQC', 'Fence', 'MiscFeature',\n",
      "       'SaleType', 'SaleCondition'],\n",
      "      dtype='object')\n"
     ]
    },
    {
     "name": "stderr",
     "output_type": "stream",
     "text": [
      "/home/daneel/anaconda3/envs/py36/lib/python3.6/site-packages/pandas/core/indexing.py:630: SettingWithCopyWarning: \n",
      "A value is trying to be set on a copy of a slice from a DataFrame.\n",
      "Try using .loc[row_indexer,col_indexer] = value instead\n",
      "\n",
      "See the caveats in the documentation: http://pandas.pydata.org/pandas-docs/stable/indexing.html#indexing-view-versus-copy\n",
      "  self.obj[item_labels[indexer[info_axis]]] = value\n"
     ]
    },
    {
     "name": "stdout",
     "output_type": "stream",
     "text": [
      "Fixes remaining on train set\n",
      " Series([], dtype: int64)\n",
      "Fixes remaining on test set\n",
      " Series([], dtype: int64)\n"
     ]
    }
   ],
   "source": [
    "cols_with_none_as_nan = [\n",
    "    \"PoolQC\", \n",
    "    \"MiscFeature\", \n",
    "    \"Alley\", \n",
    "    \"Fence\", \n",
    "    \"FireplaceQu\", \n",
    "    'GarageType', \n",
    "    'GarageFinish', \n",
    "    'GarageQual', \n",
    "    'GarageCond', \n",
    "    'BsmtQual', \n",
    "    'BsmtCond', \n",
    "    'BsmtExposure', \n",
    "    'Electrical', \n",
    "    'BsmtFinType1', \n",
    "    'BsmtFinType2', \n",
    "    \"MasVnrType\",\n",
    "    'MSZoning',\n",
    "    'Utilities',\n",
    "    'Exterior1st',\n",
    "    'Exterior2nd',\n",
    "    'KitchenQual',\n",
    "    'Functional',\n",
    "    'SaleType']\n",
    "\n",
    "\n",
    "o = train.dtypes[train.dtypes==object].index\n",
    "print(o)\n",
    "\n",
    "# fill missing text fields with a default string\n",
    "object_columns = train[o]\n",
    "test_object_columns = test[o]\n",
    "\n",
    "# for these colunms the string 'None' will be inserted in place of nan\n",
    "for col in cols_with_none_as_nan:\n",
    "    object_columns.loc[:, col] = object_columns.loc[:, col].fillna('None')\n",
    "    test_object_columns.loc[:, col] = test_object_columns.loc[:, col].fillna('None')\n",
    "\n",
    "remaining_fix = object_columns.isnull().sum()\n",
    "print('Fixes remaining on train set\\n', remaining_fix[remaining_fix>0])\n",
    "\n",
    "remaining_fix = test_object_columns.isnull().sum()\n",
    "print('Fixes remaining on test set\\n',remaining_fix[remaining_fix>0])"
   ]
  },
  {
   "cell_type": "markdown",
   "metadata": {
    "_uuid": "90bf20a95b97aa4b45ab6dda64b5e4c64a9a9347"
   },
   "source": [
    "# From string to ordinal\n",
    "Many categorical features contain **ordinal** values; the chart that follows shows that in most cases, the category influences the SalePrice label."
   ]
  },
  {
   "cell_type": "code",
   "execution_count": 5,
   "metadata": {},
   "outputs": [
    {
     "name": "stderr",
     "output_type": "stream",
     "text": [
      "/home/daneel/anaconda3/envs/py36/lib/python3.6/site-packages/pandas/core/indexing.py:630: SettingWithCopyWarning: \n",
      "A value is trying to be set on a copy of a slice from a DataFrame.\n",
      "Try using .loc[row_indexer,col_indexer] = value instead\n",
      "\n",
      "See the caveats in the documentation: http://pandas.pydata.org/pandas-docs/stable/indexing.html#indexing-view-versus-copy\n",
      "  self.obj[item_labels[indexer[info_axis]]] = value\n",
      "/home/daneel/anaconda3/envs/py36/lib/python3.6/site-packages/pandas/core/indexing.py:543: SettingWithCopyWarning: \n",
      "A value is trying to be set on a copy of a slice from a DataFrame.\n",
      "Try using .loc[row_indexer,col_indexer] = value instead\n",
      "\n",
      "See the caveats in the documentation: http://pandas.pydata.org/pandas-docs/stable/indexing.html#indexing-view-versus-copy\n",
      "  self.obj[item] = s\n"
     ]
    }
   ],
   "source": [
    "# Base scale, taken from 'OverallCond' feature\n",
    "#   10   Very Excellent\n",
    "#   9    Excellent\n",
    "#   8    Very Good\n",
    "#   7    Good\n",
    "#   6    Above Average   \n",
    "#   5    Average\n",
    "#   4    Below Average   \n",
    "#   3    Fair\n",
    "#   2    Poor\n",
    "#   1    Very Poor\n",
    "\n",
    "#   Ex   Excellent (100+ inches) \n",
    "#   Gd   Good (90-99 inches)\n",
    "#   TA   Typical (80-89 inches)\n",
    "#   Fa   Fair (70-79 inches)\n",
    "#   Po   Poor (&lt;70 inches\n",
    "#   NA   No Basement\n",
    "\n",
    "quals_mapping = {\n",
    "    \"Ex\": 9,\n",
    "    \"Gd\": 7,\n",
    "    \"Av\": 5,\n",
    "    \"TA\": 5,\n",
    "    \"Fa\": 3,\n",
    "    \"Po\": 2,\n",
    "    \"NA\": 0,\n",
    "    \"None\": 0\n",
    "}\n",
    "quals_columns = ['ExterQual', 'ExterCond', 'BsmtQual', 'BsmtCond', 'HeatingQC', 'KitchenQual', 'FireplaceQu', 'GarageQual', 'GarageCond', 'PoolQC', ]\n",
    "\n",
    "for c in object_columns.columns:\n",
    "    if c in quals_columns:\n",
    "        vals = np.unique(object_columns[c])\n",
    "        for v in quals_mapping:\n",
    "            object_columns.loc[:,c] = object_columns[c].replace(to_replace=v, value=quals_mapping[v])\n",
    "            test_object_columns.loc[:,c] = test_object_columns[c].replace(to_replace=v, value=quals_mapping[v])\n"
   ]
  },
  {
   "cell_type": "markdown",
   "metadata": {
    "_uuid": "96626fa7eb30e8be4b7244a3f0b5f0aeb7fe4937"
   },
   "source": [
    "In order to make the category influence the predicted price with the correct amount, I'm going to exchange each category with the mean saleprice value for all the entries with that category."
   ]
  },
  {
   "cell_type": "markdown",
   "metadata": {
    "_uuid": "2f07ded6794d332505f5a78915298172030215f3"
   },
   "source": [
    "### 2: numerics"
   ]
  },
  {
   "cell_type": "code",
   "execution_count": 6,
   "metadata": {
    "_uuid": "4a314733c98c389868182d513f01d16d68e1a111"
   },
   "outputs": [
    {
     "name": "stdout",
     "output_type": "stream",
     "text": [
      "Fixes remaining on train set\n",
      " LotFrontage    259\n",
      "MasVnrArea       8\n",
      "GarageYrBlt     81\n",
      "dtype: int64\n",
      "Fixes remaining on test set\n",
      " LotFrontage     227\n",
      "MasVnrArea       15\n",
      "BsmtFinSF1        1\n",
      "BsmtFinSF2        1\n",
      "BsmtUnfSF         1\n",
      "TotalBsmtSF       1\n",
      "BsmtFullBath      2\n",
      "BsmtHalfBath      2\n",
      "GarageYrBlt      78\n",
      "GarageCars        1\n",
      "GarageArea        1\n",
      "dtype: int64\n"
     ]
    }
   ],
   "source": [
    "numeric_columns = train.select_dtypes(include=[int, float])\n",
    "\n",
    "remaining_fix = numeric_columns.isnull().sum()\n",
    "print('Fixes remaining on train set\\n',remaining_fix[remaining_fix>0])\n",
    "\n",
    "test_numeric_columns = test.select_dtypes(include=[int, float])\n",
    "\n",
    "remaining_fix = test_numeric_columns.isnull().sum()\n",
    "print('Fixes remaining on test set\\n',remaining_fix[remaining_fix>0])"
   ]
  },
  {
   "cell_type": "code",
   "execution_count": 7,
   "metadata": {
    "_uuid": "5d40ae5067ae091a3455606912916b5e4ac7b8f7"
   },
   "outputs": [
    {
     "name": "stderr",
     "output_type": "stream",
     "text": [
      "/home/daneel/anaconda3/envs/py36/lib/python3.6/site-packages/pandas/core/indexing.py:543: SettingWithCopyWarning: \n",
      "A value is trying to be set on a copy of a slice from a DataFrame.\n",
      "Try using .loc[row_indexer,col_indexer] = value instead\n",
      "\n",
      "See the caveats in the documentation: http://pandas.pydata.org/pandas-docs/stable/indexing.html#indexing-view-versus-copy\n",
      "  self.obj[item] = s\n"
     ]
    },
    {
     "name": "stdout",
     "output_type": "stream",
     "text": [
      "Fixes remaining on train set\n",
      " Series([], dtype: int64)\n",
      "Fixes remaining on test set\n",
      " Series([], dtype: int64)\n"
     ]
    }
   ],
   "source": [
    "cols_with_zero_as_nan = ['MasVnrArea', \n",
    "                         'GarageYrBlt',\n",
    "                         'BsmtFinSF1',\n",
    "                         'BsmtFinSF2',\n",
    "                         'BsmtUnfSF',\n",
    "                         'TotalBsmtSF',\n",
    "                         'BsmtFullBath',\n",
    "                         'BsmtHalfBath',\n",
    "                         'GarageCars',\n",
    "                         'GarageArea',\n",
    "                        ]\n",
    "cols_with_mean_as_nan = ['LotFrontage']\n",
    "\n",
    "# for these colunms the mean will be inserted in place of nan\n",
    "for col in cols_with_mean_as_nan:\n",
    "    numeric_columns.loc[:, col] = numeric_columns.loc[:, col].fillna(numeric_columns[col].mean())\n",
    "    test_numeric_columns.loc[:, col] = test_numeric_columns.loc[:, col].fillna(test_numeric_columns[col].mean())\n",
    "\n",
    "# for these colunms a zero will be inserted in place of nan\n",
    "for col in cols_with_zero_as_nan:\n",
    "    numeric_columns.loc[:, col] = numeric_columns.loc[:, col].fillna(0)\n",
    "    test_numeric_columns.loc[:, col] = test_numeric_columns.loc[:, col].fillna(0)\n",
    "\n",
    "\n",
    "remaining_fix = numeric_columns.isnull().sum()\n",
    "print('Fixes remaining on train set\\n',remaining_fix[remaining_fix>0])\n",
    "\n",
    "remaining_fix = test_numeric_columns.isnull().sum()\n",
    "print('Fixes remaining on test set\\n',remaining_fix[remaining_fix>0])"
   ]
  },
  {
   "cell_type": "code",
   "execution_count": 8,
   "metadata": {},
   "outputs": [],
   "source": [
    "## Removing outliers in OverallQual and SalePrice"
   ]
  },
  {
   "cell_type": "code",
   "execution_count": 9,
   "metadata": {
    "_uuid": "db16e5effd9993444fdeaf030c7cbbbacd589c84"
   },
   "outputs": [
    {
     "data": {
      "image/png": "[encoded data removed]",
      "text/plain": [
       "<Figure size 720x360 with 1 Axes>"
      ]
     },
     "metadata": {
      "needs_background": "light"
     },
     "output_type": "display_data"
    }
   ],
   "source": [
    "plt.figure(figsize=(10,5))\n",
    "sns.scatterplot(x=numeric_columns.loc[:,'OverallQual'], y=np.log1p(train['SalePrice']))\n",
    "plt.show()\n"
   ]
  },
  {
   "cell_type": "code",
   "execution_count": 10,
   "metadata": {},
   "outputs": [
    {
     "data": {
      "image/png": "[encoded data removed]",
      "text/plain": [
       "<Figure size 720x360 with 1 Axes>"
      ]
     },
     "metadata": {
      "needs_background": "light"
     },
     "output_type": "display_data"
    }
   ],
   "source": [
    "for d in numeric_columns[numeric_columns['OverallQual'] == 4].index:\n",
    "    if np.log1p(numeric_columns.loc[d,'SalePrice']) < 10.8:\n",
    "        numeric_columns = numeric_columns.drop(d, axis=0)\n",
    "        object_columns = object_columns.drop(d, axis=0)\n",
    "\n",
    "plt.figure(figsize=(10,5))\n",
    "sns.scatterplot(x=numeric_columns.loc[:,'OverallQual'], y=np.log1p(train['SalePrice']))\n",
    "plt.show()\n"
   ]
  },
  {
   "cell_type": "code",
   "execution_count": 11,
   "metadata": {},
   "outputs": [
    {
     "data": {
      "image/png": "[encoded data removed]",
      "text/plain": [
       "<Figure size 720x360 with 1 Axes>"
      ]
     },
     "metadata": {
      "needs_background": "light"
     },
     "output_type": "display_data"
    }
   ],
   "source": [
    "plt.figure(figsize=(10,5))\n",
    "sns.scatterplot(x=numeric_columns['GrLivArea'], y=np.log1p(train['SalePrice']))\n",
    "plt.show()\n"
   ]
  },
  {
   "cell_type": "code",
   "execution_count": 12,
   "metadata": {},
   "outputs": [
    {
     "data": {
      "image/png": "[encoded data removed]",
      "text/plain": [
       "<Figure size 720x360 with 1 Axes>"
      ]
     },
     "metadata": {
      "needs_background": "light"
     },
     "output_type": "display_data"
    }
   ],
   "source": [
    "for d in numeric_columns[numeric_columns['GrLivArea'] > 4000].index:\n",
    "    numeric_columns = numeric_columns.drop(d, axis=0)\n",
    "    object_columns = object_columns.drop(d, axis=0)\n",
    "\n",
    "plt.figure(figsize=(10,5))\n",
    "sns.scatterplot(x=numeric_columns['GrLivArea'], y=np.log1p(train['SalePrice']))\n",
    "plt.show()\n"
   ]
  },
  {
   "cell_type": "markdown",
   "metadata": {
    "_uuid": "ed97b678668b83359326b3e8fb5ccefc62dcbf4d"
   },
   "source": [
    "# Features skewness"
   ]
  },
  {
   "cell_type": "code",
   "execution_count": 13,
   "metadata": {
    "_uuid": "7f87cb7125d7c684cb133ef4405cacd87205c5e9"
   },
   "outputs": [],
   "source": [
    "def fix_skewness(dataframe):\n",
    "    skewed_feats = dataframe.apply(lambda x: abs(skew(x.dropna()))).sort_values(ascending=False)\n",
    "    skewness = pd.DataFrame({'Skew': skewed_feats})\n",
    "    skewness = skewness[abs(skewness) > 0.75].dropna()\n",
    "    print(\"There are {} skewed numerical features to transform\".format(skewness.shape[0]))\n",
    "    print(\"\\nSkew > .75 in numerical features: \\n\")\n",
    "    print(skewness)\n",
    "    # Fix skewness\n",
    "    skewed_features = skewness.index\n",
    "    lam = 0.15\n",
    "    for feat in skewed_features:\n",
    "        if feat == 'SalePrice': continue\n",
    "        dataframe[feat] = boxcox1p(dataframe[feat], lam)\n",
    "    print('Fixed skewness')\n",
    "\n",
    "#fix_skewness(numeric_columns)\n",
    "#fix_skewness(test_numeric_columns)\n"
   ]
  },
  {
   "cell_type": "markdown",
   "metadata": {
    "_uuid": "c2b0d02453e88e2ab26186991283c6e67c056132"
   },
   "source": [
    "# Enconding string columns with LabelEncoder"
   ]
  },
  {
   "cell_type": "code",
   "execution_count": 14,
   "metadata": {
    "_uuid": "68ddc308a9b3bdb85100e459d8a7f98eda498fa8"
   },
   "outputs": [
    {
     "name": "stdout",
     "output_type": "stream",
     "text": [
      "422 distinct labels generated\n"
     ]
    },
    {
     "name": "stderr",
     "output_type": "stream",
     "text": [
      "/home/daneel/anaconda3/envs/py36/lib/python3.6/site-packages/pandas/core/indexing.py:543: SettingWithCopyWarning: \n",
      "A value is trying to be set on a copy of a slice from a DataFrame.\n",
      "Try using .loc[row_indexer,col_indexer] = value instead\n",
      "\n",
      "See the caveats in the documentation: http://pandas.pydata.org/pandas-docs/stable/indexing.html#indexing-view-versus-copy\n",
      "  self.obj[item] = s\n"
     ]
    },
    {
     "data": {
      "text/html": [
       "<div>\n",
       "<style scoped>\n",
       "    .dataframe tbody tr th:only-of-type {\n",
       "        vertical-align: middle;\n",
       "    }\n",
       "\n",
       "    .dataframe tbody tr th {\n",
       "        vertical-align: top;\n",
       "    }\n",
       "\n",
       "    .dataframe thead th {\n",
       "        text-align: right;\n",
       "    }\n",
       "</style>\n",
       "<table border=\"1\" class=\"dataframe\">\n",
       "  <thead>\n",
       "    <tr style=\"text-align: right;\">\n",
       "      <th></th>\n",
       "      <th>MSZoning</th>\n",
       "      <th>Street</th>\n",
       "      <th>Alley</th>\n",
       "      <th>LotShape</th>\n",
       "      <th>LandContour</th>\n",
       "      <th>Utilities</th>\n",
       "      <th>LotConfig</th>\n",
       "      <th>LandSlope</th>\n",
       "      <th>Neighborhood</th>\n",
       "      <th>Condition1</th>\n",
       "      <th>...</th>\n",
       "      <th>GarageType</th>\n",
       "      <th>GarageFinish</th>\n",
       "      <th>GarageQual</th>\n",
       "      <th>GarageCond</th>\n",
       "      <th>PavedDrive</th>\n",
       "      <th>PoolQC</th>\n",
       "      <th>Fence</th>\n",
       "      <th>MiscFeature</th>\n",
       "      <th>SaleType</th>\n",
       "      <th>SaleCondition</th>\n",
       "    </tr>\n",
       "  </thead>\n",
       "  <tbody>\n",
       "    <tr>\n",
       "      <th>0</th>\n",
       "      <td>129</td>\n",
       "      <td>123</td>\n",
       "      <td>111</td>\n",
       "      <td>136</td>\n",
       "      <td>86</td>\n",
       "      <td>12</td>\n",
       "      <td>84</td>\n",
       "      <td>75</td>\n",
       "      <td>40</td>\n",
       "      <td>112</td>\n",
       "      <td>...</td>\n",
       "      <td>17</td>\n",
       "      <td>127</td>\n",
       "      <td>5</td>\n",
       "      <td>5</td>\n",
       "      <td>168</td>\n",
       "      <td>0</td>\n",
       "      <td>111</td>\n",
       "      <td>111</td>\n",
       "      <td>160</td>\n",
       "      <td>113</td>\n",
       "    </tr>\n",
       "    <tr>\n",
       "      <th>1</th>\n",
       "      <td>129</td>\n",
       "      <td>123</td>\n",
       "      <td>111</td>\n",
       "      <td>136</td>\n",
       "      <td>86</td>\n",
       "      <td>12</td>\n",
       "      <td>52</td>\n",
       "      <td>75</td>\n",
       "      <td>158</td>\n",
       "      <td>56</td>\n",
       "      <td>...</td>\n",
       "      <td>17</td>\n",
       "      <td>127</td>\n",
       "      <td>5</td>\n",
       "      <td>5</td>\n",
       "      <td>168</td>\n",
       "      <td>0</td>\n",
       "      <td>111</td>\n",
       "      <td>111</td>\n",
       "      <td>160</td>\n",
       "      <td>113</td>\n",
       "    </tr>\n",
       "    <tr>\n",
       "      <th>2</th>\n",
       "      <td>129</td>\n",
       "      <td>123</td>\n",
       "      <td>111</td>\n",
       "      <td>80</td>\n",
       "      <td>86</td>\n",
       "      <td>12</td>\n",
       "      <td>84</td>\n",
       "      <td>75</td>\n",
       "      <td>40</td>\n",
       "      <td>112</td>\n",
       "      <td>...</td>\n",
       "      <td>17</td>\n",
       "      <td>127</td>\n",
       "      <td>5</td>\n",
       "      <td>5</td>\n",
       "      <td>168</td>\n",
       "      <td>0</td>\n",
       "      <td>111</td>\n",
       "      <td>111</td>\n",
       "      <td>160</td>\n",
       "      <td>113</td>\n",
       "    </tr>\n",
       "    <tr>\n",
       "      <th>3</th>\n",
       "      <td>129</td>\n",
       "      <td>123</td>\n",
       "      <td>111</td>\n",
       "      <td>80</td>\n",
       "      <td>86</td>\n",
       "      <td>12</td>\n",
       "      <td>46</td>\n",
       "      <td>75</td>\n",
       "      <td>47</td>\n",
       "      <td>112</td>\n",
       "      <td>...</td>\n",
       "      <td>49</td>\n",
       "      <td>157</td>\n",
       "      <td>5</td>\n",
       "      <td>5</td>\n",
       "      <td>168</td>\n",
       "      <td>0</td>\n",
       "      <td>111</td>\n",
       "      <td>111</td>\n",
       "      <td>160</td>\n",
       "      <td>10</td>\n",
       "    </tr>\n",
       "    <tr>\n",
       "      <th>4</th>\n",
       "      <td>129</td>\n",
       "      <td>123</td>\n",
       "      <td>111</td>\n",
       "      <td>80</td>\n",
       "      <td>86</td>\n",
       "      <td>12</td>\n",
       "      <td>52</td>\n",
       "      <td>75</td>\n",
       "      <td>109</td>\n",
       "      <td>112</td>\n",
       "      <td>...</td>\n",
       "      <td>17</td>\n",
       "      <td>127</td>\n",
       "      <td>5</td>\n",
       "      <td>5</td>\n",
       "      <td>168</td>\n",
       "      <td>0</td>\n",
       "      <td>111</td>\n",
       "      <td>111</td>\n",
       "      <td>160</td>\n",
       "      <td>113</td>\n",
       "    </tr>\n",
       "  </tbody>\n",
       "</table>\n",
       "<p>5 rows × 43 columns</p>\n",
       "</div>"
      ],
      "text/plain": [
       "   MSZoning  Street  Alley  LotShape  LandContour  Utilities  LotConfig  \\\n",
       "0       129     123    111       136           86         12         84   \n",
       "1       129     123    111       136           86         12         52   \n",
       "2       129     123    111        80           86         12         84   \n",
       "3       129     123    111        80           86         12         46   \n",
       "4       129     123    111        80           86         12         52   \n",
       "\n",
       "   LandSlope  Neighborhood  Condition1      ...        GarageType  \\\n",
       "0         75            40         112      ...                17   \n",
       "1         75           158          56      ...                17   \n",
       "2         75            40         112      ...                17   \n",
       "3         75            47         112      ...                49   \n",
       "4         75           109         112      ...                17   \n",
       "\n",
       "   GarageFinish  GarageQual  GarageCond  PavedDrive  PoolQC  Fence  \\\n",
       "0           127           5           5         168       0    111   \n",
       "1           127           5           5         168       0    111   \n",
       "2           127           5           5         168       0    111   \n",
       "3           157           5           5         168       0    111   \n",
       "4           127           5           5         168       0    111   \n",
       "\n",
       "   MiscFeature  SaleType  SaleCondition  \n",
       "0          111       160            113  \n",
       "1          111       160            113  \n",
       "2          111       160            113  \n",
       "3          111       160             10  \n",
       "4          111       160            113  \n",
       "\n",
       "[5 rows x 43 columns]"
      ]
     },
     "execution_count": 14,
     "metadata": {},
     "output_type": "execute_result"
    }
   ],
   "source": [
    "\n",
    "strings = np.array([])\n",
    "for c in object_columns.columns:\n",
    "    if c not in quals_columns:\n",
    "        strings = np.append(strings, pd.unique(object_columns[c].values))\n",
    "\n",
    "for c in test_object_columns.columns:\n",
    "    if c not in quals_columns:\n",
    "        strings = np.append(strings, pd.unique(test_object_columns[c].values))\n",
    "\n",
    "print(len(strings), 'distinct labels generated')\n",
    "\n",
    "labeler = LabelEncoder()\n",
    "labeler.fit(strings)\n",
    "\n",
    "for c in object_columns.columns:\n",
    "    if c not in quals_columns:\n",
    "        object_columns.loc[:,c] = labeler.transform(object_columns.loc[:,c])\n",
    "        test_object_columns.loc[:,c] = labeler.transform(test_object_columns.loc[:,c])\n",
    "\n",
    "object_columns[0:5]"
   ]
  },
  {
   "cell_type": "markdown",
   "metadata": {
    "_uuid": "6351c98e2257cdebcf0b714322255f6d204dd0b2"
   },
   "source": [
    "# Assembling the datasets"
   ]
  },
  {
   "cell_type": "code",
   "execution_count": 15,
   "metadata": {
    "_uuid": "84b482ea5c6f6ae0307044d1f6aef38a619e9e31"
   },
   "outputs": [],
   "source": [
    "# final train dataset\n",
    "train_ds = object_columns.join(numeric_columns)\n",
    "train_ds[\"SalePrice\"] = np.log1p(train_ds[\"SalePrice\"])\n",
    "\n",
    "# test dataset\n",
    "test_ds = test_object_columns.join(test_numeric_columns)\n",
    "\n",
    "#correlation matrix\n",
    "corrmat = train_ds.corr()['SalePrice']\n",
    "#f, ax = plt.subplots(figsize=(12, 9))\n",
    "#sns.heatmap(corrmat, vmax=.8, square=True);\n",
    "\n",
    "best_columns = corrmat[abs(corrmat) > 0.0].index\n",
    "train_ds = train_ds[best_columns]\n",
    "test_ds = test_ds[best_columns.drop('SalePrice')]\n"
   ]
  },
  {
   "cell_type": "code",
   "execution_count": 16,
   "metadata": {
    "_uuid": "3a26edb4051fed7bb1e510988be3c270c89d6955"
   },
   "outputs": [
    {
     "name": "stdout",
     "output_type": "stream",
     "text": [
      "Training set features shape (1454, 79)\n",
      "Training set labels shape (1454, 1)\n",
      "Test set shape (1459, 79)\n"
     ]
    }
   ],
   "source": [
    "X_train = (train_ds.values[:,:-1])\n",
    "y_train = np.asarray([[t] for t in (train_ds.values[:,-1])])\n",
    "X_test = test_ds.values\n",
    "\n",
    "print('Training set features shape', X_train.shape)\n",
    "print('Training set labels shape', y_train.shape)\n",
    "print('Test set shape', test_ds.shape)\n"
   ]
  },
  {
   "cell_type": "markdown",
   "metadata": {
    "_uuid": "4f48f8ebacf9d6fa181a90aa5a003bba4b4ab4c9"
   },
   "source": [
    "#### RobustScaler"
   ]
  },
  {
   "cell_type": "code",
   "execution_count": 17,
   "metadata": {
    "_uuid": "c32c1e5e8819b002f078e1f9145d272bff980947"
   },
   "outputs": [
    {
     "name": "stdout",
     "output_type": "stream",
     "text": [
      "Series([], dtype: object)\n"
     ]
    }
   ],
   "source": [
    "print(test_ds.dtypes[test_ds.dtypes==object])\n",
    "\n",
    "from sklearn.preprocessing import RobustScaler\n",
    "transformer = RobustScaler().fit(X_train)\n",
    "X_train = pd.DataFrame(transformer.transform(X_train))\n",
    "X_test = pd.DataFrame(transformer.transform(X_test))\n"
   ]
  },
  {
   "cell_type": "code",
   "execution_count": 18,
   "metadata": {
    "_uuid": "8afb6450c2760dd3766238f2f78a9fc1d0108050"
   },
   "outputs": [
    {
     "name": "stdout",
     "output_type": "stream",
     "text": [
      "Training set features shape (1454, 79)\n",
      "Training set labels shape (1454, 1)\n"
     ]
    }
   ],
   "source": [
    "print('Training set features shape', X_train.shape)\n",
    "print('Training set labels shape', y_train.shape)\n"
   ]
  },
  {
   "cell_type": "markdown",
   "metadata": {
    "_uuid": "2b950b87c1bf43433a048512e00187dbc68d5144"
   },
   "source": [
    "## Training functions"
   ]
  },
  {
   "cell_type": "code",
   "execution_count": 39,
   "metadata": {
    "_uuid": "6d7f6cf02bdd6411e9612a542b733b63b6456081"
   },
   "outputs": [],
   "source": [
    "def train_model(depth, learning_rate, n_estimators, model_type='xgb'):\n",
    "    if model_type == 'xgb':\n",
    "        print('XGBRegressor')\n",
    "        model = xgb.XGBRegressor(learning_rate=learning_rate, max_depth=depth, \n",
    "                                 n_estimators=n_estimators,\n",
    "                                 silent=1,\n",
    "                                 random_state =7, nthread = -1)\n",
    "    if model_type == 'lgb':\n",
    "        print('LGBMRegressor')\n",
    "        model = lgb.LGBMRegressor(learning_rate=learning_rate, max_depth=depth, \n",
    "                                 n_estimators=n_estimators,\n",
    "                                 silent=1,\n",
    "                                 random_state =7, nthread = -1)\n",
    "    if model_type == 'lasso':\n",
    "        print('Lasso')\n",
    "        model = Lasso(alpha =0.0006)\n",
    "        \n",
    "    if model_type == 'elastic':\n",
    "        print('ElasticNet')\n",
    "        model = ElasticNet(alpha=0.0012, l1_ratio=.5)\n",
    "        \n",
    "    score = rmsle_cv(model)\n",
    "    print(model_type, \" score: depth={:d} lr={:.2f} est={:d} -> mean:{:.5f} std:{:.4f}\".format(depth, learning_rate, n_estimators, score.mean(), score.std()))\n",
    "    return score\n",
    "\n",
    "#Validation function\n",
    "n_folds = 10\n",
    "\n",
    "def rmsle_cv(model):\n",
    "    kf = KFold(n_folds, shuffle=True, random_state=42).get_n_splits(train)\n",
    "    rmse= np.sqrt(-cross_val_score(model, X_train, y_train.flatten(), scoring=\"neg_mean_squared_error\", cv = kf))\n",
    "    return(rmse)\n",
    "\n",
    "\n",
    "def rmsle(y, y_pred):\n",
    "    return np.sqrt(mean_squared_error(y, y_pred))\n"
   ]
  },
  {
   "cell_type": "markdown",
   "metadata": {
    "_uuid": "28922efae3d9b484cdcde66cff880b45dfe01bdb"
   },
   "source": [
    "# Training: Lasso\n"
   ]
  },
  {
   "cell_type": "code",
   "execution_count": 40,
   "metadata": {},
   "outputs": [
    {
     "name": "stdout",
     "output_type": "stream",
     "text": [
      "Lasso\n",
      "lasso  score: depth=0 lr=0.00 est=0 -> mean:0.11705 std:0.0111\n"
     ]
    }
   ],
   "source": [
    "depth = 0\n",
    "learning_rate = 0\n",
    "n_estimators = 0\n",
    "\n",
    "score = train_model(depth, learning_rate/100, n_estimators, model_type='lasso')\n"
   ]
  },
  {
   "cell_type": "code",
   "execution_count": 41,
   "metadata": {
    "_uuid": "c3b6a9558526233332566cc6b22de714965eb1a3"
   },
   "outputs": [
    {
     "name": "stdout",
     "output_type": "stream",
     "text": [
      "model_lr score: depth=0 lr=0.00 est=0 -> mean:0.11705 std:0.0111\n",
      "RMSLE LR =  0.10959884517175518\n"
     ]
    }
   ],
   "source": [
    "# train with the best parameters\n",
    "model_lasso = Lasso(alpha=0.0006)\n",
    "\n",
    "score = rmsle_cv(model_lasso)\n",
    "print(\"model_lr score: depth={:d} lr={:.2f} est={:d} -> mean:{:.5f} std:{:.4f}\".format(depth, learning_rate, n_estimators, score.mean(), score.std()))\n",
    "model_lasso.fit(X_train, y_train)\n",
    "y_pred = model_lasso.predict(X_train)\n",
    "print('RMSLE LR = ', rmsle(y_train, y_pred))\n"
   ]
  },
  {
   "cell_type": "markdown",
   "metadata": {},
   "source": [
    "* model_lr score: depth=0 lr=0.00 est=0 -> mean:0.11706 std:0.0111\n",
    "* RMSLE LR =  0.10950991422359595\n"
   ]
  },
  {
   "cell_type": "code",
   "execution_count": 42,
   "metadata": {
    "_uuid": "5b5b193525d53adc0aeb4df9afa7805d542829a3"
   },
   "outputs": [
    {
     "data": {
      "image/png": "[encoded data removed]",
      "text/plain": [
       "<Figure size 576x576 with 1 Axes>"
      ]
     },
     "metadata": {
      "needs_background": "light"
     },
     "output_type": "display_data"
    }
   ],
   "source": [
    "plt.figure(figsize=(8, 8))\n",
    "y_pred = model_lasso.predict(X_train)\n",
    "plt.scatter(np.expm1(y_train), np.expm1(y_pred))\n",
    "plt.xlim(0, 600_000)\n",
    "plt.ylim(0, 600_000)\n",
    "plt.xlabel('actual', fontsize=12)\n",
    "plt.ylabel('predicted', fontsize=12)\n",
    "plt.grid()\n",
    "plt.plot([(0, 0), (1_000_000, 1_000_000)], [(0, 0), (1_000_000, 1_000_000)])\n",
    "plt.show()\n"
   ]
  },
  {
   "cell_type": "markdown",
   "metadata": {
    "_uuid": "28922efae3d9b484cdcde66cff880b45dfe01bdb"
   },
   "source": [
    "# Training: ElasticNet\n"
   ]
  },
  {
   "cell_type": "code",
   "execution_count": 43,
   "metadata": {},
   "outputs": [
    {
     "name": "stdout",
     "output_type": "stream",
     "text": [
      "ElasticNet\n",
      "elastic  score: depth=0 lr=0.00 est=0 -> mean:0.11703 std:0.0111\n"
     ]
    }
   ],
   "source": [
    "score = train_model(depth, learning_rate/100, n_estimators, model_type='elastic')\n"
   ]
  },
  {
   "cell_type": "code",
   "execution_count": 44,
   "metadata": {
    "_uuid": "c3b6a9558526233332566cc6b22de714965eb1a3"
   },
   "outputs": [
    {
     "name": "stdout",
     "output_type": "stream",
     "text": [
      "model_elastic score: depth=0 lr=0.00 est=0 -> mean:0.11737 std:0.0109\n",
      "RMSLE model_elastic =  0.10935383159571915\n"
     ]
    }
   ],
   "source": [
    "# train with the best parameters\n",
    "model_elastic = ElasticNet(alpha=0.0005, l1_ratio=.5)\n",
    "\n",
    "score = rmsle_cv(model_elastic)\n",
    "print(\"model_elastic score: depth={:d} lr={:.2f} est={:d} -> mean:{:.5f} std:{:.4f}\".format(depth, learning_rate, n_estimators, score.mean(), score.std()))\n",
    "model_elastic.fit(X_train, y_train)\n",
    "y_pred = model_elastic.predict(X_train)\n",
    "print('RMSLE model_elastic = ', rmsle(y_train, y_pred))\n"
   ]
  },
  {
   "cell_type": "markdown",
   "metadata": {},
   "source": [
    "* model_elastic score: depth=0 lr=0.00 est=0 -> mean:0.11709 std:0.0111\n",
    "* RMSLE model_elastic =  0.10947185086398303"
   ]
  },
  {
   "cell_type": "code",
   "execution_count": 45,
   "metadata": {
    "_uuid": "5b5b193525d53adc0aeb4df9afa7805d542829a3"
   },
   "outputs": [
    {
     "data": {
      "image/png": "[encoded data removed]",
      "text/plain": [
       "<Figure size 576x576 with 1 Axes>"
      ]
     },
     "metadata": {
      "needs_background": "light"
     },
     "output_type": "display_data"
    }
   ],
   "source": [
    "plt.figure(figsize=(8, 8))\n",
    "y_pred = model_elastic.predict(X_train)\n",
    "plt.scatter(np.expm1(y_train), np.expm1(y_pred))\n",
    "plt.xlim(0, 600_000)\n",
    "plt.ylim(0, 600_000)\n",
    "plt.xlabel('actual', fontsize=12)\n",
    "plt.ylabel('predicted', fontsize=12)\n",
    "plt.grid()\n",
    "plt.plot([(0, 0), (1_000_000, 1_000_000)], [(0, 0), (1_000_000, 1_000_000)])\n",
    "plt.show()\n"
   ]
  },
  {
   "cell_type": "markdown",
   "metadata": {},
   "source": [
    "# Training: XGBoost\n"
   ]
  },
  {
   "cell_type": "code",
   "execution_count": 46,
   "metadata": {
    "_uuid": "15dd1b30347e94064559123281dc46e5f24eae1b"
   },
   "outputs": [
    {
     "name": "stdout",
     "output_type": "stream",
     "text": [
      "XGBRegressor\n",
      "xgb  score: depth=3 lr=0.02 est=1200 -> mean:0.11381 std:0.0158\n",
      "XGBRegressor\n",
      "xgb  score: depth=3 lr=0.02 est=1400 -> mean:0.11368 std:0.0160\n",
      "XGBRegressor\n",
      "xgb  score: depth=3 lr=0.02 est=1600 -> mean:0.11355 std:0.0160\n",
      "XGBRegressor\n",
      "xgb  score: depth=3 lr=0.02 est=1800 -> mean:0.11343 std:0.0161\n",
      "XGBRegressor\n",
      "xgb  score: depth=3 lr=0.03 est=1200 -> mean:0.11292 std:0.0163\n",
      "XGBRegressor\n",
      "xgb  score: depth=3 lr=0.03 est=1400 -> mean:0.11279 std:0.0163\n",
      "XGBRegressor\n",
      "xgb  score: depth=3 lr=0.03 est=1600 -> mean:0.11282 std:0.0162\n",
      "XGBRegressor\n",
      "xgb  score: depth=3 lr=0.03 est=1800 -> mean:0.11269 std:0.0162\n",
      "XGBRegressor\n",
      "xgb  score: depth=4 lr=0.02 est=1200 -> mean:0.11312 std:0.0154\n",
      "XGBRegressor\n",
      "xgb  score: depth=4 lr=0.02 est=1400 -> mean:0.11332 std:0.0155\n",
      "XGBRegressor\n",
      "xgb  score: depth=4 lr=0.02 est=1600 -> mean:0.11349 std:0.0155\n",
      "XGBRegressor\n",
      "xgb  score: depth=4 lr=0.02 est=1800 -> mean:0.11362 std:0.0156\n",
      "XGBRegressor\n",
      "xgb  score: depth=4 lr=0.03 est=1200 -> mean:0.11382 std:0.0152\n",
      "XGBRegressor\n",
      "xgb  score: depth=4 lr=0.03 est=1400 -> mean:0.11405 std:0.0153\n",
      "XGBRegressor\n",
      "xgb  score: depth=4 lr=0.03 est=1600 -> mean:0.11414 std:0.0153\n",
      "XGBRegressor\n",
      "xgb  score: depth=4 lr=0.03 est=1800 -> mean:0.11429 std:0.0154\n"
     ]
    }
   ],
   "source": [
    "\n",
    "result = []\n",
    "for depth in range(3, 5):\n",
    "    for learning_rate in range(2, 4, 1):\n",
    "        for n_estimators in range(1200, 2000, 200):\n",
    "            score = train_model(depth, learning_rate/100, n_estimators, model_type='xgb')\n",
    "            result.append([depth, learning_rate/100, n_estimators, score.mean(), score.std()])\n"
   ]
  },
  {
   "cell_type": "code",
   "execution_count": 47,
   "metadata": {
    "_uuid": "bdfa69c296172746843d6b388dacdf7a688e90cd"
   },
   "outputs": [
    {
     "data": {
      "text/html": [
       "<div>\n",
       "<style scoped>\n",
       "    .dataframe tbody tr th:only-of-type {\n",
       "        vertical-align: middle;\n",
       "    }\n",
       "\n",
       "    .dataframe tbody tr th {\n",
       "        vertical-align: top;\n",
       "    }\n",
       "\n",
       "    .dataframe thead th {\n",
       "        text-align: right;\n",
       "    }\n",
       "</style>\n",
       "<table border=\"1\" class=\"dataframe\">\n",
       "  <thead>\n",
       "    <tr style=\"text-align: right;\">\n",
       "      <th></th>\n",
       "      <th>depth</th>\n",
       "      <th>learning_rate</th>\n",
       "      <th>n_estimators</th>\n",
       "      <th>score_mean</th>\n",
       "      <th>score_std</th>\n",
       "    </tr>\n",
       "  </thead>\n",
       "  <tbody>\n",
       "    <tr>\n",
       "      <th>count</th>\n",
       "      <td>16.000000</td>\n",
       "      <td>16.000000</td>\n",
       "      <td>16.000000</td>\n",
       "      <td>16.000000</td>\n",
       "      <td>16.000000</td>\n",
       "    </tr>\n",
       "    <tr>\n",
       "      <th>mean</th>\n",
       "      <td>3.500000</td>\n",
       "      <td>0.025000</td>\n",
       "      <td>1500.000000</td>\n",
       "      <td>0.113471</td>\n",
       "      <td>0.015749</td>\n",
       "    </tr>\n",
       "    <tr>\n",
       "      <th>std</th>\n",
       "      <td>0.516398</td>\n",
       "      <td>0.005164</td>\n",
       "      <td>230.940108</td>\n",
       "      <td>0.000498</td>\n",
       "      <td>0.000392</td>\n",
       "    </tr>\n",
       "    <tr>\n",
       "      <th>min</th>\n",
       "      <td>3.000000</td>\n",
       "      <td>0.020000</td>\n",
       "      <td>1200.000000</td>\n",
       "      <td>0.112694</td>\n",
       "      <td>0.015198</td>\n",
       "    </tr>\n",
       "    <tr>\n",
       "      <th>25%</th>\n",
       "      <td>3.000000</td>\n",
       "      <td>0.020000</td>\n",
       "      <td>1350.000000</td>\n",
       "      <td>0.113067</td>\n",
       "      <td>0.015368</td>\n",
       "    </tr>\n",
       "    <tr>\n",
       "      <th>50%</th>\n",
       "      <td>3.500000</td>\n",
       "      <td>0.025000</td>\n",
       "      <td>1500.000000</td>\n",
       "      <td>0.113521</td>\n",
       "      <td>0.015686</td>\n",
       "    </tr>\n",
       "    <tr>\n",
       "      <th>75%</th>\n",
       "      <td>4.000000</td>\n",
       "      <td>0.030000</td>\n",
       "      <td>1650.000000</td>\n",
       "      <td>0.113809</td>\n",
       "      <td>0.016109</td>\n",
       "    </tr>\n",
       "    <tr>\n",
       "      <th>max</th>\n",
       "      <td>4.000000</td>\n",
       "      <td>0.030000</td>\n",
       "      <td>1800.000000</td>\n",
       "      <td>0.114289</td>\n",
       "      <td>0.016275</td>\n",
       "    </tr>\n",
       "  </tbody>\n",
       "</table>\n",
       "</div>"
      ],
      "text/plain": [
       "           depth  learning_rate  n_estimators  score_mean  score_std\n",
       "count  16.000000      16.000000     16.000000   16.000000  16.000000\n",
       "mean    3.500000       0.025000   1500.000000    0.113471   0.015749\n",
       "std     0.516398       0.005164    230.940108    0.000498   0.000392\n",
       "min     3.000000       0.020000   1200.000000    0.112694   0.015198\n",
       "25%     3.000000       0.020000   1350.000000    0.113067   0.015368\n",
       "50%     3.500000       0.025000   1500.000000    0.113521   0.015686\n",
       "75%     4.000000       0.030000   1650.000000    0.113809   0.016109\n",
       "max     4.000000       0.030000   1800.000000    0.114289   0.016275"
      ]
     },
     "execution_count": 47,
     "metadata": {},
     "output_type": "execute_result"
    }
   ],
   "source": [
    "# check results\n",
    "result = pd.DataFrame(result, columns=['depth', 'learning_rate', 'n_estimators', 'score_mean', 'score_std'])\n",
    "result.describe()\n"
   ]
  },
  {
   "cell_type": "code",
   "execution_count": 48,
   "metadata": {
    "_uuid": "1487b13d89089ce17833943a7b3b3148dd903744"
   },
   "outputs": [
    {
     "name": "stdout",
     "output_type": "stream",
     "text": [
      "Best params = \n",
      " depth               3.000000\n",
      "learning_rate       0.030000\n",
      "n_estimators     1800.000000\n",
      "score_mean          0.112694\n",
      "score_std           0.016205\n",
      "Name: 7, dtype: float64\n"
     ]
    }
   ],
   "source": [
    "best = np.argmin(result['score_mean'].values)\n",
    "print('Best params = \\n', result.iloc[best])\n"
   ]
  },
  {
   "cell_type": "markdown",
   "metadata": {
    "_uuid": "ec1e38aa9b6f5d9dc46d2feeeac5d0b02e342c29"
   },
   "source": [
    "```\n",
    "Best params = \n",
    " depth               3.000000\n",
    "learning_rate       0.030000\n",
    "n_estimators     1800.000000\n",
    "score_mean          0.112694\n",
    "score_std           0.016205\n",
    "Name: 7, dtype: float64\n",
    "```"
   ]
  },
  {
   "cell_type": "code",
   "execution_count": 49,
   "metadata": {
    "_uuid": "c3b6a9558526233332566cc6b22de714965eb1a3"
   },
   "outputs": [
    {
     "name": "stdout",
     "output_type": "stream",
     "text": [
      "Xgboost score: depth=3 lr=0.03 est=1800 -> mean:0.11269 std:0.0162\n",
      "RMSLE XGB =  0.04269559832775177\n"
     ]
    }
   ],
   "source": [
    "# train with the best parameters\n",
    "depth = int(result.iloc[best]['depth'])\n",
    "learning_rate = result.iloc[best]['learning_rate']\n",
    "n_estimators = int(result.iloc[best]['n_estimators'])\n",
    "\n",
    "model_xgb = xgb.XGBRegressor(learning_rate=learning_rate, max_depth=depth, \n",
    "                         n_estimators=n_estimators,\n",
    "                         silent=1,\n",
    "                         random_state =7, nthread = -1)\n",
    "\n",
    "score = rmsle_cv(model_xgb)\n",
    "print(\"Xgboost score: depth={:d} lr={:.2f} est={:d} -> mean:{:.5f} std:{:.4f}\".format(depth, learning_rate, n_estimators, score.mean(), score.std()))\n",
    "model_xgb.fit(X_train, y_train)\n",
    "y_pred = model_xgb.predict(X_train)\n",
    "print('RMSLE XGB = ', rmsle(y_train, y_pred))\n"
   ]
  },
  {
   "cell_type": "markdown",
   "metadata": {
    "_uuid": "8e501d3fa190798d26b40de63bf767dfc948bdba"
   },
   "source": [
    "* Xgboost score: depth=3 lr=0.03 est=1800 -> mean:0.11269 std:0.0162\n",
    "* RMSLE XGB =  0.04269559832775177\n"
   ]
  },
  {
   "cell_type": "code",
   "execution_count": 50,
   "metadata": {
    "_uuid": "5b5b193525d53adc0aeb4df9afa7805d542829a3"
   },
   "outputs": [
    {
     "data": {
      "image/png": "[encoded data removed]",
      "text/plain": [
       "<Figure size 576x576 with 1 Axes>"
      ]
     },
     "metadata": {
      "needs_background": "light"
     },
     "output_type": "display_data"
    }
   ],
   "source": [
    "plt.figure(figsize=(8, 8))\n",
    "y_pred = model_xgb.predict(X_train)\n",
    "plt.scatter(np.expm1(y_train), np.expm1(y_pred))\n",
    "plt.xlim(0, 600_000)\n",
    "plt.ylim(0, 600_000)\n",
    "plt.xlabel('actual', fontsize=12)\n",
    "plt.ylabel('predicted', fontsize=12)\n",
    "plt.grid()\n",
    "plt.plot([(0, 0), (1_000_000, 1_000_000)], [(0, 0), (1_000_000, 1_000_000)])\n",
    "plt.show()\n"
   ]
  },
  {
   "cell_type": "markdown",
   "metadata": {
    "_uuid": "1add6e0531b1aac1d8680da2c3dfab01f6224572"
   },
   "source": [
    "# Training: lightgbm\n"
   ]
  },
  {
   "cell_type": "code",
   "execution_count": 51,
   "metadata": {
    "_uuid": "73b324002b4139832c8b2912ff970c1a22237253"
   },
   "outputs": [
    {
     "name": "stdout",
     "output_type": "stream",
     "text": [
      "LGBMRegressor\n",
      "lgb  score: depth=3 lr=0.02 est=1200 -> mean:0.11437 std:0.0155\n",
      "LGBMRegressor\n",
      "lgb  score: depth=3 lr=0.02 est=1400 -> mean:0.11435 std:0.0155\n",
      "LGBMRegressor\n",
      "lgb  score: depth=3 lr=0.02 est=1600 -> mean:0.11441 std:0.0155\n",
      "LGBMRegressor\n",
      "lgb  score: depth=3 lr=0.02 est=1800 -> mean:0.11449 std:0.0155\n",
      "LGBMRegressor\n",
      "lgb  score: depth=3 lr=0.03 est=1200 -> mean:0.11431 std:0.0159\n",
      "LGBMRegressor\n",
      "lgb  score: depth=3 lr=0.03 est=1400 -> mean:0.11457 std:0.0159\n",
      "LGBMRegressor\n",
      "lgb  score: depth=3 lr=0.03 est=1600 -> mean:0.11489 std:0.0159\n",
      "LGBMRegressor\n",
      "lgb  score: depth=3 lr=0.03 est=1800 -> mean:0.11530 std:0.0158\n",
      "LGBMRegressor\n",
      "lgb  score: depth=4 lr=0.02 est=1200 -> mean:0.11636 std:0.0154\n",
      "LGBMRegressor\n",
      "lgb  score: depth=4 lr=0.02 est=1400 -> mean:0.11653 std:0.0154\n",
      "LGBMRegressor\n",
      "lgb  score: depth=4 lr=0.02 est=1600 -> mean:0.11686 std:0.0153\n",
      "LGBMRegressor\n",
      "lgb  score: depth=4 lr=0.02 est=1800 -> mean:0.11722 std:0.0153\n",
      "LGBMRegressor\n",
      "lgb  score: depth=4 lr=0.03 est=1200 -> mean:0.11732 std:0.0157\n",
      "LGBMRegressor\n",
      "lgb  score: depth=4 lr=0.03 est=1400 -> mean:0.11776 std:0.0158\n",
      "LGBMRegressor\n",
      "lgb  score: depth=4 lr=0.03 est=1600 -> mean:0.11816 std:0.0159\n",
      "LGBMRegressor\n",
      "lgb  score: depth=4 lr=0.03 est=1800 -> mean:0.11850 std:0.0159\n"
     ]
    }
   ],
   "source": [
    "result = []\n",
    "for depth in range(3, 5):\n",
    "    for learning_rate in range(2, 4, 1):\n",
    "        for n_estimators in range(1200, 2000, 200):\n",
    "            score = train_model(depth, learning_rate/100, n_estimators, model_type='lgb')\n",
    "            result.append([depth, learning_rate/100, n_estimators, score.mean(), score.std()])\n"
   ]
  },
  {
   "cell_type": "code",
   "execution_count": 52,
   "metadata": {
    "_uuid": "d643d4759adc6993c8c2949e398f71115d7b126a"
   },
   "outputs": [
    {
     "data": {
      "text/html": [
       "<div>\n",
       "<style scoped>\n",
       "    .dataframe tbody tr th:only-of-type {\n",
       "        vertical-align: middle;\n",
       "    }\n",
       "\n",
       "    .dataframe tbody tr th {\n",
       "        vertical-align: top;\n",
       "    }\n",
       "\n",
       "    .dataframe thead th {\n",
       "        text-align: right;\n",
       "    }\n",
       "</style>\n",
       "<table border=\"1\" class=\"dataframe\">\n",
       "  <thead>\n",
       "    <tr style=\"text-align: right;\">\n",
       "      <th></th>\n",
       "      <th>depth</th>\n",
       "      <th>learning_rate</th>\n",
       "      <th>n_estimators</th>\n",
       "      <th>score_mean</th>\n",
       "      <th>score_std</th>\n",
       "    </tr>\n",
       "  </thead>\n",
       "  <tbody>\n",
       "    <tr>\n",
       "      <th>count</th>\n",
       "      <td>16.000000</td>\n",
       "      <td>16.000000</td>\n",
       "      <td>16.000000</td>\n",
       "      <td>16.000000</td>\n",
       "      <td>16.000000</td>\n",
       "    </tr>\n",
       "    <tr>\n",
       "      <th>mean</th>\n",
       "      <td>3.500000</td>\n",
       "      <td>0.025000</td>\n",
       "      <td>1500.000000</td>\n",
       "      <td>0.115963</td>\n",
       "      <td>0.015628</td>\n",
       "    </tr>\n",
       "    <tr>\n",
       "      <th>std</th>\n",
       "      <td>0.516398</td>\n",
       "      <td>0.005164</td>\n",
       "      <td>230.940108</td>\n",
       "      <td>0.001531</td>\n",
       "      <td>0.000243</td>\n",
       "    </tr>\n",
       "    <tr>\n",
       "      <th>min</th>\n",
       "      <td>3.000000</td>\n",
       "      <td>0.020000</td>\n",
       "      <td>1200.000000</td>\n",
       "      <td>0.114307</td>\n",
       "      <td>0.015254</td>\n",
       "    </tr>\n",
       "    <tr>\n",
       "      <th>25%</th>\n",
       "      <td>3.000000</td>\n",
       "      <td>0.020000</td>\n",
       "      <td>1350.000000</td>\n",
       "      <td>0.114473</td>\n",
       "      <td>0.015440</td>\n",
       "    </tr>\n",
       "    <tr>\n",
       "      <th>50%</th>\n",
       "      <td>3.500000</td>\n",
       "      <td>0.025000</td>\n",
       "      <td>1500.000000</td>\n",
       "      <td>0.115831</td>\n",
       "      <td>0.015641</td>\n",
       "    </tr>\n",
       "    <tr>\n",
       "      <th>75%</th>\n",
       "      <td>4.000000</td>\n",
       "      <td>0.030000</td>\n",
       "      <td>1650.000000</td>\n",
       "      <td>0.117245</td>\n",
       "      <td>0.015867</td>\n",
       "    </tr>\n",
       "    <tr>\n",
       "      <th>max</th>\n",
       "      <td>4.000000</td>\n",
       "      <td>0.030000</td>\n",
       "      <td>1800.000000</td>\n",
       "      <td>0.118499</td>\n",
       "      <td>0.015907</td>\n",
       "    </tr>\n",
       "  </tbody>\n",
       "</table>\n",
       "</div>"
      ],
      "text/plain": [
       "           depth  learning_rate  n_estimators  score_mean  score_std\n",
       "count  16.000000      16.000000     16.000000   16.000000  16.000000\n",
       "mean    3.500000       0.025000   1500.000000    0.115963   0.015628\n",
       "std     0.516398       0.005164    230.940108    0.001531   0.000243\n",
       "min     3.000000       0.020000   1200.000000    0.114307   0.015254\n",
       "25%     3.000000       0.020000   1350.000000    0.114473   0.015440\n",
       "50%     3.500000       0.025000   1500.000000    0.115831   0.015641\n",
       "75%     4.000000       0.030000   1650.000000    0.117245   0.015867\n",
       "max     4.000000       0.030000   1800.000000    0.118499   0.015907"
      ]
     },
     "execution_count": 52,
     "metadata": {},
     "output_type": "execute_result"
    }
   ],
   "source": [
    "# check results\n",
    "result = pd.DataFrame(result, columns=['depth', 'learning_rate', 'n_estimators', 'score_mean', 'score_std'])\n",
    "result.describe()\n"
   ]
  },
  {
   "cell_type": "code",
   "execution_count": 53,
   "metadata": {
    "_uuid": "a3c73542978488682a195dad57d9a141447aaae7"
   },
   "outputs": [
    {
     "name": "stdout",
     "output_type": "stream",
     "text": [
      "Best params = \n",
      " depth               3.000000\n",
      "learning_rate       0.030000\n",
      "n_estimators     1200.000000\n",
      "score_mean          0.114307\n",
      "score_std           0.015887\n",
      "Name: 4, dtype: float64\n"
     ]
    }
   ],
   "source": [
    "best = np.argmin(result['score_mean'].values)\n",
    "print('Best params = \\n', result.iloc[best])\n"
   ]
  },
  {
   "cell_type": "markdown",
   "metadata": {
    "_uuid": "e9cc39097ab4602d9e479763accbfffe13b1b8b4"
   },
   "source": [
    "```\n",
    "Best params = \n",
    " depth               3.000000\n",
    "learning_rate       0.030000\n",
    "n_estimators     1200.000000\n",
    "score_mean          0.114307\n",
    "score_std           0.015887\n",
    "Name: 4, dtype: float64\n",
    "```"
   ]
  },
  {
   "cell_type": "code",
   "execution_count": 54,
   "metadata": {
    "_uuid": "157367b0e819634609d9705b4cda88b1a3059266"
   },
   "outputs": [
    {
     "name": "stdout",
     "output_type": "stream",
     "text": [
      "lgb score: depth=3 lr=0.03 est=1200 -> mean:0.11431 std:0.0159\n",
      "RMSLE LGB =  0.0618131706199214\n"
     ]
    }
   ],
   "source": [
    "# train with the best parameters\n",
    "depth = int(result.iloc[best]['depth'])\n",
    "learning_rate = result.iloc[best]['learning_rate']\n",
    "n_estimators = int(result.iloc[best]['n_estimators'])\n",
    "\n",
    "model_lgb = lgb.LGBMRegressor(learning_rate=learning_rate, max_depth=depth, \n",
    "                         n_estimators=n_estimators,\n",
    "                         silent=1,\n",
    "                         random_state =7, nthread = -1)\n",
    "\n",
    "\n",
    "score = rmsle_cv(model_lgb)\n",
    "print(\"lgb score: depth={:d} lr={:.2f} est={:d} -> mean:{:.5f} std:{:.4f}\".format(depth, learning_rate, n_estimators, score.mean(), score.std()))\n",
    "\n",
    "model_lgb.fit(X_train, y_train.flatten())\n",
    "y_pred = model_lgb.predict(X_train)\n",
    "\n",
    "print('RMSLE LGB = ', rmsle(y_train, y_pred))\n"
   ]
  },
  {
   "cell_type": "markdown",
   "metadata": {
    "_uuid": "330281c252b3f08bc5db8568f044f0ffe1091dd1"
   },
   "source": [
    "* lgb score: depth=3 lr=0.03 est=1200 -> mean:0.11431 std:0.0159\n",
    "* RMSLE LGB =  0.0618131706199214\n"
   ]
  },
  {
   "cell_type": "code",
   "execution_count": 55,
   "metadata": {
    "_uuid": "333e608f22ba2024fc53aca2cff094ba32195f78"
   },
   "outputs": [
    {
     "data": {
      "image/png": "[encoded data removed]",
      "text/plain": [
       "<Figure size 576x576 with 1 Axes>"
      ]
     },
     "metadata": {
      "needs_background": "light"
     },
     "output_type": "display_data"
    }
   ],
   "source": [
    "\n",
    "plt.figure(figsize=(8, 8))\n",
    "plt.scatter(np.expm1(y_train), np.expm1(y_pred))\n",
    "plt.xlim(0, 600_000)\n",
    "plt.ylim(0, 600_000)\n",
    "plt.xlabel('actual', fontsize=12)\n",
    "plt.ylabel('predicted', fontsize=12)\n",
    "plt.plot([(0, 0), (1_000_000, 1_000_000)], [(0, 0), (1_000_000, 1_000_000)])\n",
    "plt.show()\n"
   ]
  },
  {
   "cell_type": "markdown",
   "metadata": {
    "_uuid": "8b3c3b3613eae3325d1f1121bdc0fe883635f6fe"
   },
   "source": [
    "# Averaged model"
   ]
  },
  {
   "cell_type": "code",
   "execution_count": 56,
   "metadata": {
    "_uuid": "1870329da538689e80fcd08448c57fa6ab13eb98"
   },
   "outputs": [
    {
     "data": {
      "image/png": "[encoded data removed]",
      "text/plain": [
       "<Figure size 576x576 with 1 Axes>"
      ]
     },
     "metadata": {
      "needs_background": "light"
     },
     "output_type": "display_data"
    },
    {
     "name": "stdout",
     "output_type": "stream",
     "text": [
      "RMSLE LGB =  0.0758455342165887\n"
     ]
    }
   ],
   "source": [
    "\n",
    "avg_predicts = np.column_stack([\n",
    "    model_xgb.predict(X_train),\n",
    "    model_lgb.predict(X_train),\n",
    "    model_lasso.predict(X_train),\n",
    "    model_elastic.predict(X_train)\n",
    "])\n",
    "\n",
    "avg_predict = [np.mean(p) for p in avg_predicts]\n",
    "y_pred = avg_predict\n",
    "\n",
    "plt.figure(figsize=(8, 8))\n",
    "plt.scatter(np.expm1(y_train), np.expm1(y_pred))\n",
    "plt.xlim(0, 600_000)\n",
    "plt.ylim(0, 600_000)\n",
    "plt.xlabel('actual', fontsize=12)\n",
    "plt.ylabel('predicted', fontsize=12)\n",
    "plt.plot([(0, 0), (1_000_000, 1_000_000)], [(0, 0), (1_000_000, 1_000_000)])\n",
    "plt.show()\n",
    "\n",
    "print('RMSLE LGB = ', rmsle(y_train, y_pred))\n",
    "\n"
   ]
  },
  {
   "cell_type": "markdown",
   "metadata": {
    "_uuid": "91fd6baf85bf55fbab85da92b418eeb583eb80a3"
   },
   "source": [
    "# Target: RMSLE LGB =  0.06539346038526068\n"
   ]
  },
  {
   "cell_type": "code",
   "execution_count": 58,
   "metadata": {
    "_uuid": "091eaa2c8b9b30d49b47ac8c57f9ab5a8be009d3"
   },
   "outputs": [
    {
     "data": {
      "text/html": [
       "<div>\n",
       "<style scoped>\n",
       "    .dataframe tbody tr th:only-of-type {\n",
       "        vertical-align: middle;\n",
       "    }\n",
       "\n",
       "    .dataframe tbody tr th {\n",
       "        vertical-align: top;\n",
       "    }\n",
       "\n",
       "    .dataframe thead th {\n",
       "        text-align: right;\n",
       "    }\n",
       "</style>\n",
       "<table border=\"1\" class=\"dataframe\">\n",
       "  <thead>\n",
       "    <tr style=\"text-align: right;\">\n",
       "      <th></th>\n",
       "      <th>SalePrice</th>\n",
       "      <th>Id</th>\n",
       "    </tr>\n",
       "  </thead>\n",
       "  <tbody>\n",
       "    <tr>\n",
       "      <th>0</th>\n",
       "      <td>120591.624570</td>\n",
       "      <td>1461</td>\n",
       "    </tr>\n",
       "    <tr>\n",
       "      <th>1</th>\n",
       "      <td>160781.976579</td>\n",
       "      <td>1462</td>\n",
       "    </tr>\n",
       "    <tr>\n",
       "      <th>2</th>\n",
       "      <td>182589.174868</td>\n",
       "      <td>1463</td>\n",
       "    </tr>\n",
       "    <tr>\n",
       "      <th>3</th>\n",
       "      <td>194565.716850</td>\n",
       "      <td>1464</td>\n",
       "    </tr>\n",
       "    <tr>\n",
       "      <th>4</th>\n",
       "      <td>183624.340959</td>\n",
       "      <td>1465</td>\n",
       "    </tr>\n",
       "    <tr>\n",
       "      <th>5</th>\n",
       "      <td>172540.164276</td>\n",
       "      <td>1466</td>\n",
       "    </tr>\n",
       "    <tr>\n",
       "      <th>6</th>\n",
       "      <td>172857.087218</td>\n",
       "      <td>1467</td>\n",
       "    </tr>\n",
       "    <tr>\n",
       "      <th>7</th>\n",
       "      <td>163910.131687</td>\n",
       "      <td>1468</td>\n",
       "    </tr>\n",
       "    <tr>\n",
       "      <th>8</th>\n",
       "      <td>183933.310662</td>\n",
       "      <td>1469</td>\n",
       "    </tr>\n",
       "    <tr>\n",
       "      <th>9</th>\n",
       "      <td>122870.012564</td>\n",
       "      <td>1470</td>\n",
       "    </tr>\n",
       "  </tbody>\n",
       "</table>\n",
       "</div>"
      ],
      "text/plain": [
       "       SalePrice    Id\n",
       "0  120591.624570  1461\n",
       "1  160781.976579  1462\n",
       "2  182589.174868  1463\n",
       "3  194565.716850  1464\n",
       "4  183624.340959  1465\n",
       "5  172540.164276  1466\n",
       "6  172857.087218  1467\n",
       "7  163910.131687  1468\n",
       "8  183933.310662  1469\n",
       "9  122870.012564  1470"
      ]
     },
     "execution_count": 58,
     "metadata": {},
     "output_type": "execute_result"
    }
   ],
   "source": [
    "# Submission\n",
    "\n",
    "avg_predicts = np.column_stack([\n",
    "    model_xgb.predict(X_test),\n",
    "    model_lgb.predict(X_test),\n",
    "    model_lasso.predict(X_test),\n",
    "    model_elastic.predict(X_test)\n",
    "])\n",
    "\n",
    "\n",
    "avg_predict = [np.mean(p) for p in avg_predicts]\n",
    "\n",
    "subm_predict = np.expm1(avg_predict)\n",
    "\n",
    "dsubm_predict = pd.DataFrame(subm_predict)\n",
    "dsubm_predict['Id'] = test.values[:,0]\n",
    "dsubm_predict.columns = ['SalePrice', 'Id']\n",
    "\n",
    "dsubm_predict.to_csv('submission.csv', index=False)\n",
    "dsubm_predict[0:10]\n"
   ]
  },
  {
   "cell_type": "markdown",
   "metadata": {
    "_uuid": "95396d9c8d80c59a72169fd5b00d58407736edf6"
   },
   "source": [
    "# Best score on kaggle: 0.12174"
   ]
  }
 ],
 "metadata": {
  "kernelspec": {
   "display_name": "Python 3",
   "language": "python",
   "name": "python3"
  },
  "language_info": {
   "codemirror_mode": {
    "name": "ipython",
    "version": 3
   },
   "file_extension": ".py",
   "mimetype": "text/x-python",
   "name": "python",
   "nbconvert_exporter": "python",
   "pygments_lexer": "ipython3",
   "version": "3.6.6"
  }
 },
 "nbformat": 4,
 "nbformat_minor": 1
}
