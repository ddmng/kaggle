{
 "cells": [
  {
   "cell_type": "code",
   "execution_count": 1,
   "metadata": {},
   "outputs": [
    {
     "name": "stderr",
     "output_type": "stream",
     "text": [
      "Using TensorFlow backend.\n"
     ]
    }
   ],
   "source": [
    "import math\n",
    "import itertools\n",
    "import numpy as np\n",
    "import pandas as pd\n",
    "import seaborn as sns\n",
    "import matplotlib.pyplot as plt\n",
    "#import matplotlib.image as mpimg\n",
    "from sklearn.metrics import confusion_matrix, mean_squared_error\n",
    "from sklearn.model_selection import train_test_split\n",
    "from sklearn.model_selection import train_test_split\n",
    "from keras.optimizers import Adam\n",
    "from keras.preprocessing.image import ImageDataGenerator\n",
    "from keras.models import Sequential\n",
    "from keras.layers import Dense, Dropout, Flatten, Conv2D, MaxPool2D\n",
    "from keras.utils.np_utils import to_categorical\n"
   ]
  },
  {
   "cell_type": "code",
   "execution_count": 2,
   "metadata": {},
   "outputs": [
    {
     "name": "stdout",
     "output_type": "stream",
     "text": [
      "(42000, 784)\n",
      "(42000,)\n",
      "(28000, 784)\n"
     ]
    }
   ],
   "source": [
    "# Load the data\n",
    "train = pd.read_csv(\"../input/train.csv\")\n",
    "test = pd.read_csv(\"../input/test.csv\")\n",
    "\n",
    "train_X = train.iloc[:,1:]\n",
    "train_y = train['label']\n",
    "\n",
    "print(train_X.shape)\n",
    "print(train_y.shape)\n",
    "print(test.shape)\n",
    "\n",
    "del train "
   ]
  },
  {
   "cell_type": "code",
   "execution_count": 3,
   "metadata": {},
   "outputs": [
    {
     "data": {
      "text/plain": [
       "1    4684\n",
       "7    4401\n",
       "3    4351\n",
       "9    4188\n",
       "2    4177\n",
       "6    4137\n",
       "0    4132\n",
       "4    4072\n",
       "8    4063\n",
       "5    3795\n",
       "Name: label, dtype: int64"
      ]
     },
     "execution_count": 3,
     "metadata": {},
     "output_type": "execute_result"
    }
   ],
   "source": [
    "train_y.value_counts()"
   ]
  },
  {
   "cell_type": "code",
   "execution_count": 4,
   "metadata": {},
   "outputs": [
    {
     "data": {
      "text/plain": [
       "0"
      ]
     },
     "execution_count": 4,
     "metadata": {},
     "output_type": "execute_result"
    }
   ],
   "source": [
    "train_X.isnull().sum().sum()"
   ]
  },
  {
   "cell_type": "code",
   "execution_count": 5,
   "metadata": {},
   "outputs": [
    {
     "data": {
      "text/plain": [
       "count       784\n",
       "unique        1\n",
       "top       False\n",
       "freq        784\n",
       "dtype: object"
      ]
     },
     "execution_count": 5,
     "metadata": {},
     "output_type": "execute_result"
    }
   ],
   "source": [
    "test.isnull().any().describe()"
   ]
  },
  {
   "cell_type": "code",
   "execution_count": 6,
   "metadata": {},
   "outputs": [],
   "source": [
    "# Normalize the data\n",
    "train_X = train_X / 255.0\n",
    "test = test / 255.0"
   ]
  },
  {
   "cell_type": "code",
   "execution_count": 7,
   "metadata": {},
   "outputs": [],
   "source": [
    "# Reshape image in 3 dimensions (height = 28px, width = 28px , canal = 1)\n",
    "train_X = train_X.values.reshape(-1,28,28,1)\n",
    "test = test.values.reshape(-1,28,28,1)"
   ]
  },
  {
   "cell_type": "code",
   "execution_count": 8,
   "metadata": {},
   "outputs": [],
   "source": [
    "# Encode labels to one hot vectors (ex : 2 -> [0,0,1,0,0,0,0,0,0,0])\n",
    "train_y = to_categorical(train_y, num_classes = 10)"
   ]
  },
  {
   "cell_type": "code",
   "execution_count": 9,
   "metadata": {},
   "outputs": [],
   "source": [
    "# Split the train and the validation set for the fitting\n",
    "train_X, val_X, train_y, val_y = train_test_split(train_X, train_y, test_size = 0.2)\n"
   ]
  },
  {
   "cell_type": "code",
   "execution_count": 10,
   "metadata": {
    "scrolled": true
   },
   "outputs": [
    {
     "data": {
      "text/plain": [
       "<matplotlib.image.AxesImage at 0x7f9b4c6c5ba8>"
      ]
     },
     "execution_count": 10,
     "metadata": {},
     "output_type": "execute_result"
    },
    {
     "data": {
      "image/png": "[encoded data removed]",
      "text/plain": [
       "<Figure size 432x288 with 1 Axes>"
      ]
     },
     "metadata": {
      "needs_background": "light"
     },
     "output_type": "display_data"
    }
   ],
   "source": [
    "plt.imshow(train_X[0][:,:,0])"
   ]
  },
  {
   "cell_type": "code",
   "execution_count": 15,
   "metadata": {},
   "outputs": [],
   "source": [
    "\n",
    "model = Sequential()\n",
    "\n",
    "\n",
    "model.add(Conv2D(filters = 32, kernel_size = (2,2),\n",
    "                 padding = 'Same', \n",
    "                 activation ='relu', \n",
    "                 input_shape = (28,28,1)))\n",
    "\n",
    "model.add(MaxPool2D(pool_size=(2,2)))\n",
    "model.add(Dropout(0.1))\n",
    "\n",
    "model.add(Flatten())\n",
    "model.add(Dense(256, activation = \"relu\"))\n",
    "model.add(Dropout(0.1))\n",
    "model.add(Dense(10, activation = \"softmax\"))\n",
    "\n",
    "opt = Adam(lr=0.012, decay=0.001) # the decay param decreases the learning rate of that amount at each epoch\n",
    "\n",
    "model.compile(optimizer = opt , loss = \"categorical_crossentropy\", metrics=[\"categorical_accuracy\"])"
   ]
  },
  {
   "cell_type": "code",
   "execution_count": 16,
   "metadata": {},
   "outputs": [
    {
     "name": "stdout",
     "output_type": "stream",
     "text": [
      "Epoch 1/15\n",
      "525/525 [==============================] - 24s 46ms/step - loss: 0.4158 - categorical_accuracy: 0.8660 - val_loss: 0.1232 - val_categorical_accuracy: 0.9626\n",
      "Epoch 2/15\n",
      "525/525 [==============================] - 24s 45ms/step - loss: 0.2110 - categorical_accuracy: 0.9329 - val_loss: 0.0820 - val_categorical_accuracy: 0.9757\n",
      "Epoch 3/15\n",
      "525/525 [==============================] - 24s 46ms/step - loss: 0.1798 - categorical_accuracy: 0.9450 - val_loss: 0.0908 - val_categorical_accuracy: 0.9762\n",
      "Epoch 4/15\n",
      "525/525 [==============================] - 24s 45ms/step - loss: 0.1555 - categorical_accuracy: 0.9523 - val_loss: 0.0793 - val_categorical_accuracy: 0.9785\n",
      "Epoch 5/15\n",
      "525/525 [==============================] - 24s 45ms/step - loss: 0.1431 - categorical_accuracy: 0.9557 - val_loss: 0.0749 - val_categorical_accuracy: 0.9796\n",
      "Epoch 6/15\n",
      "525/525 [==============================] - 24s 45ms/step - loss: 0.1292 - categorical_accuracy: 0.9585 - val_loss: 0.0815 - val_categorical_accuracy: 0.9760\n",
      "Epoch 7/15\n",
      "525/525 [==============================] - 24s 45ms/step - loss: 0.1206 - categorical_accuracy: 0.9628 - val_loss: 0.0752 - val_categorical_accuracy: 0.9776\n",
      "Epoch 8/15\n",
      "525/525 [==============================] - 24s 45ms/step - loss: 0.1128 - categorical_accuracy: 0.9649 - val_loss: 0.0583 - val_categorical_accuracy: 0.9833\n",
      "Epoch 9/15\n",
      "525/525 [==============================] - 24s 45ms/step - loss: 0.1110 - categorical_accuracy: 0.9659 - val_loss: 0.0633 - val_categorical_accuracy: 0.9827\n",
      "Epoch 10/15\n",
      "525/525 [==============================] - 24s 45ms/step - loss: 0.1067 - categorical_accuracy: 0.9685 - val_loss: 0.0682 - val_categorical_accuracy: 0.9810\n",
      "Epoch 11/15\n",
      "525/525 [==============================] - 24s 45ms/step - loss: 0.0986 - categorical_accuracy: 0.9698 - val_loss: 0.0533 - val_categorical_accuracy: 0.9851\n",
      "Epoch 12/15\n",
      "525/525 [==============================] - 24s 45ms/step - loss: 0.0908 - categorical_accuracy: 0.9718 - val_loss: 0.0498 - val_categorical_accuracy: 0.9857\n",
      "Epoch 13/15\n",
      "525/525 [==============================] - 24s 45ms/step - loss: 0.0887 - categorical_accuracy: 0.9721 - val_loss: 0.0551 - val_categorical_accuracy: 0.9845\n",
      "Epoch 14/15\n",
      "525/525 [==============================] - 24s 46ms/step - loss: 0.0879 - categorical_accuracy: 0.9723 - val_loss: 0.0480 - val_categorical_accuracy: 0.9858\n",
      "Epoch 15/15\n",
      "525/525 [==============================] - 24s 46ms/step - loss: 0.0838 - categorical_accuracy: 0.9737 - val_loss: 0.0534 - val_categorical_accuracy: 0.9869\n"
     ]
    }
   ],
   "source": [
    "epochs = 15\n",
    "\n",
    "datagen = ImageDataGenerator(\n",
    "    rotation_range=10,\n",
    "    zoom_range=0.1,\n",
    "    width_shift_range=0.1,\n",
    "    height_shift_range=0.1\n",
    ")\n",
    "\n",
    "datagen.fit(train_X)\n",
    "\n",
    "# fits the model on batches with real-time data augmentation:\n",
    "history = model.fit_generator(datagen.flow(train_X, \n",
    "                                 train_y, \n",
    "                                 batch_size=64),\n",
    "                    validation_data = (val_X, val_y),\n",
    "                    epochs=epochs)\n"
   ]
  },
  {
   "cell_type": "code",
   "execution_count": null,
   "metadata": {},
   "outputs": [],
   "source": [
    "pred_y = model.predict(val_X)\n",
    "print('RMSE = %.6f' % math.sqrt(mean_squared_error(pred_y, val_y)))\n"
   ]
  },
  {
   "cell_type": "code",
   "execution_count": null,
   "metadata": {},
   "outputs": [],
   "source": [
    "sns.lineplot(x=range(len(history.history['val_categorical_accuracy'])), y=history.history['val_categorical_accuracy'], label='val_categorical_accuracy')\n",
    "sns.lineplot(x=range(len(history.history['categorical_accuracy'])), y=history.history['categorical_accuracy'], label='categorical_accuracy')\n"
   ]
  },
  {
   "cell_type": "code",
   "execution_count": null,
   "metadata": {},
   "outputs": [],
   "source": [
    "matrix = confusion_matrix(val_y.argmax(axis=1), pred_y.argmax(axis=1))\n",
    "\n",
    "sns.heatmap(matrix, cbar=False, annot=True, fmt='d', cmap=\"Blues\", square=True)\n"
   ]
  },
  {
   "cell_type": "markdown",
   "metadata": {},
   "source": [
    "## Submission"
   ]
  },
  {
   "cell_type": "code",
   "execution_count": null,
   "metadata": {},
   "outputs": [],
   "source": [
    "test_y = model.predict(test)\n",
    "test_y = test_y.round()\n",
    "out_label = [ np.argmax(i) for i in test_y]\n",
    "out_imageid = [ i+1 for i in range(len(test_y))]\n",
    "out = pd.DataFrame()\n",
    "out['ImageId'] = out_imageid\n",
    "out['Label'] = out_label\n",
    "\n",
    "out.to_csv('submission.csv', index=False)\n",
    "out"
   ]
  },
  {
   "cell_type": "code",
   "execution_count": null,
   "metadata": {},
   "outputs": [],
   "source": []
  },
  {
   "cell_type": "code",
   "execution_count": null,
   "metadata": {},
   "outputs": [],
   "source": []
  }
 ],
 "metadata": {
  "kernelspec": {
   "display_name": "Python 3",
   "language": "python",
   "name": "python3"
  },
  "language_info": {
   "codemirror_mode": {
    "name": "ipython",
    "version": 3
   },
   "file_extension": ".py",
   "mimetype": "text/x-python",
   "name": "python",
   "nbconvert_exporter": "python",
   "pygments_lexer": "ipython3",
   "version": "3.6.8"
  }
 },
 "nbformat": 4,
 "nbformat_minor": 2
}
