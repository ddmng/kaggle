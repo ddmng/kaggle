{
 "cells": [
  {
   "cell_type": "code",
   "execution_count": 22,
   "metadata": {},
   "outputs": [],
   "source": [
    "import pandas as pd\n",
    "import numpy as np\n",
    "import matplotlib.pyplot as plt\n",
    "import matplotlib.image as mpimg\n",
    "import seaborn as sns\n",
    "from sklearn.metrics import confusion_matrix, mean_squared_error\n",
    "from sklearn.model_selection import train_test_split\n",
    "import itertools\n",
    "import math\n",
    "\n",
    "%matplotlib inline\n",
    "\n",
    "pd.set_option(\"display.max_rows\", 6)\n",
    "\n",
    "np.random.seed(2)"
   ]
  },
  {
   "cell_type": "code",
   "execution_count": 2,
   "metadata": {},
   "outputs": [
    {
     "name": "stderr",
     "output_type": "stream",
     "text": [
      "Using TensorFlow backend.\n"
     ]
    }
   ],
   "source": [
    "from keras.models import Sequential\n",
    "from keras.layers import Dense, Dropout, Flatten, Conv2D, MaxPool2D\n",
    "from keras.utils.np_utils import to_categorical # convert to one-hot-encoding\n"
   ]
  },
  {
   "cell_type": "code",
   "execution_count": 3,
   "metadata": {},
   "outputs": [
    {
     "name": "stdout",
     "output_type": "stream",
     "text": [
      "(42000, 784)\n",
      "(42000,)\n",
      "(28000, 784)\n"
     ]
    }
   ],
   "source": [
    "# Load the data\n",
    "train = pd.read_csv(\"../input/train.csv\")\n",
    "test = pd.read_csv(\"../input/test.csv\")\n",
    "\n",
    "train_X = train.iloc[:,1:]\n",
    "train_y = train['label']\n",
    "\n",
    "print(train_X.shape)\n",
    "print(train_y.shape)\n",
    "print(test.shape)\n",
    "\n",
    "del train "
   ]
  },
  {
   "cell_type": "code",
   "execution_count": 4,
   "metadata": {},
   "outputs": [
    {
     "data": {
      "text/plain": [
       "1    4684\n",
       "7    4401\n",
       "3    4351\n",
       "     ... \n",
       "4    4072\n",
       "8    4063\n",
       "5    3795\n",
       "Name: label, Length: 10, dtype: int64"
      ]
     },
     "execution_count": 4,
     "metadata": {},
     "output_type": "execute_result"
    },
    {
     "data": {
      "image/png": "[encoded data removed]",
      "text/plain": [
       "<Figure size 432x288 with 1 Axes>"
      ]
     },
     "metadata": {
      "needs_background": "light"
     },
     "output_type": "display_data"
    }
   ],
   "source": [
    "g = sns.countplot(train_y)\n",
    "train_y.value_counts()"
   ]
  },
  {
   "cell_type": "code",
   "execution_count": 5,
   "metadata": {},
   "outputs": [
    {
     "data": {
      "text/plain": [
       "count       784\n",
       "unique        1\n",
       "top       False\n",
       "freq        784\n",
       "dtype: object"
      ]
     },
     "execution_count": 5,
     "metadata": {},
     "output_type": "execute_result"
    }
   ],
   "source": [
    "train_X.isnull().any().describe()"
   ]
  },
  {
   "cell_type": "code",
   "execution_count": 6,
   "metadata": {},
   "outputs": [
    {
     "data": {
      "text/plain": [
       "count       784\n",
       "unique        1\n",
       "top       False\n",
       "freq        784\n",
       "dtype: object"
      ]
     },
     "execution_count": 6,
     "metadata": {},
     "output_type": "execute_result"
    }
   ],
   "source": [
    "test.isnull().any().describe()"
   ]
  },
  {
   "cell_type": "code",
   "execution_count": 7,
   "metadata": {},
   "outputs": [],
   "source": [
    "# Normalize the data\n",
    "train_X = train_X / 255.0\n",
    "test = test / 255.0"
   ]
  },
  {
   "cell_type": "code",
   "execution_count": 8,
   "metadata": {},
   "outputs": [],
   "source": [
    "# Reshape image in 3 dimensions (height = 28px, width = 28px , canal = 1)\n",
    "train_X = train_X.values.reshape(-1,28,28,1)\n",
    "test = test.values.reshape(-1,28,28,1)\n"
   ]
  },
  {
   "cell_type": "code",
   "execution_count": 9,
   "metadata": {},
   "outputs": [],
   "source": [
    "# Encode labels to one hot vectors (ex : 2 -> [0,0,1,0,0,0,0,0,0,0])\n",
    "train_y = to_categorical(train_y, num_classes = 10)"
   ]
  },
  {
   "cell_type": "code",
   "execution_count": 10,
   "metadata": {},
   "outputs": [
    {
     "data": {
      "text/plain": [
       "array([[0., 1., 0., ..., 0., 0., 0.],\n",
       "       [1., 0., 0., ..., 0., 0., 0.],\n",
       "       [0., 1., 0., ..., 0., 0., 0.],\n",
       "       ...,\n",
       "       [0., 0., 0., ..., 1., 0., 0.],\n",
       "       [0., 0., 0., ..., 0., 0., 0.],\n",
       "       [0., 0., 0., ..., 0., 0., 1.]], dtype=float32)"
      ]
     },
     "execution_count": 10,
     "metadata": {},
     "output_type": "execute_result"
    }
   ],
   "source": [
    "train_y"
   ]
  },
  {
   "cell_type": "code",
   "execution_count": 11,
   "metadata": {},
   "outputs": [],
   "source": [
    "# Split the train and the validation set for the fitting\n",
    "train_X, val_X, train_y, val_y = train_test_split(train_X, train_y, test_size = 0.33)"
   ]
  },
  {
   "cell_type": "code",
   "execution_count": 12,
   "metadata": {},
   "outputs": [
    {
     "name": "stdout",
     "output_type": "stream",
     "text": [
      "(28140, 28, 28, 1)\n",
      "(13860, 28, 28, 1)\n",
      "(28140, 10)\n",
      "(13860, 10)\n",
      "(28000, 28, 28, 1)\n"
     ]
    }
   ],
   "source": [
    "print(train_X.shape)\n",
    "print(val_X.shape)\n",
    "print(train_y.shape)\n",
    "print(val_y.shape)\n",
    "print(test.shape)"
   ]
  },
  {
   "cell_type": "code",
   "execution_count": 13,
   "metadata": {},
   "outputs": [
    {
     "data": {
      "image/png": "[encoded data removed]",
      "text/plain": [
       "<Figure size 432x288 with 1 Axes>"
      ]
     },
     "metadata": {
      "needs_background": "light"
     },
     "output_type": "display_data"
    }
   ],
   "source": [
    "g = plt.imshow(train_X[0][:,:,0])"
   ]
  },
  {
   "cell_type": "code",
   "execution_count": 14,
   "metadata": {},
   "outputs": [],
   "source": [
    "model = Sequential()\n",
    "model.add(Conv2D(filters = 64, kernel_size = (5,5),padding = 'Same', \n",
    "                 activation ='relu', input_shape = (28,28,1)))\n",
    "model.add(MaxPool2D(pool_size=(2,2)))\n",
    "model.add(Dropout(0.25))\n",
    "model.add(Flatten())\n",
    "model.add(Dense(10, activation = \"softmax\"))\n",
    "\n",
    "model.compile(optimizer = 'adam' , loss = \"categorical_crossentropy\", metrics=[\"accuracy\"])"
   ]
  },
  {
   "cell_type": "code",
   "execution_count": 15,
   "metadata": {},
   "outputs": [],
   "source": [
    "epochs = 30 "
   ]
  },
  {
   "cell_type": "code",
   "execution_count": 16,
   "metadata": {},
   "outputs": [
    {
     "name": "stdout",
     "output_type": "stream",
     "text": [
      "Train on 28140 samples, validate on 13860 samples\n",
      "Epoch 1/30\n",
      " - 26s - loss: 0.2408 - acc: 0.9280 - val_loss: 0.1162 - val_acc: 0.9650\n",
      "Epoch 2/30\n",
      " - 25s - loss: 0.0852 - acc: 0.9748 - val_loss: 0.0864 - val_acc: 0.9739\n",
      "Epoch 3/30\n",
      " - 25s - loss: 0.0602 - acc: 0.9816 - val_loss: 0.0748 - val_acc: 0.9776\n",
      "Epoch 4/30\n",
      " - 25s - loss: 0.0482 - acc: 0.9850 - val_loss: 0.0592 - val_acc: 0.9821\n",
      "Epoch 5/30\n",
      " - 25s - loss: 0.0378 - acc: 0.9884 - val_loss: 0.0612 - val_acc: 0.9826\n",
      "Epoch 6/30\n",
      " - 25s - loss: 0.0305 - acc: 0.9901 - val_loss: 0.0589 - val_acc: 0.9848\n",
      "Epoch 7/30\n",
      " - 25s - loss: 0.0256 - acc: 0.9917 - val_loss: 0.0565 - val_acc: 0.9843\n",
      "Epoch 8/30\n",
      " - 25s - loss: 0.0241 - acc: 0.9922 - val_loss: 0.0629 - val_acc: 0.9830\n",
      "Epoch 9/30\n",
      " - 25s - loss: 0.0169 - acc: 0.9948 - val_loss: 0.0684 - val_acc: 0.9832\n",
      "Epoch 10/30\n",
      " - 25s - loss: 0.0172 - acc: 0.9940 - val_loss: 0.0648 - val_acc: 0.9845\n",
      "Epoch 11/30\n",
      " - 25s - loss: 0.0147 - acc: 0.9951 - val_loss: 0.0758 - val_acc: 0.9817\n",
      "Epoch 12/30\n",
      " - 25s - loss: 0.0113 - acc: 0.9960 - val_loss: 0.0726 - val_acc: 0.9822\n",
      "Epoch 13/30\n",
      " - 25s - loss: 0.0116 - acc: 0.9959 - val_loss: 0.0700 - val_acc: 0.9843\n",
      "Epoch 14/30\n",
      " - 25s - loss: 0.0098 - acc: 0.9966 - val_loss: 0.0682 - val_acc: 0.9844\n",
      "Epoch 15/30\n",
      " - 25s - loss: 0.0098 - acc: 0.9966 - val_loss: 0.0736 - val_acc: 0.9846\n",
      "Epoch 16/30\n",
      " - 25s - loss: 0.0078 - acc: 0.9975 - val_loss: 0.0680 - val_acc: 0.9851\n",
      "Epoch 17/30\n",
      " - 25s - loss: 0.0089 - acc: 0.9972 - val_loss: 0.0767 - val_acc: 0.9846\n",
      "Epoch 18/30\n",
      " - 25s - loss: 0.0067 - acc: 0.9978 - val_loss: 0.0739 - val_acc: 0.9850\n",
      "Epoch 19/30\n",
      " - 25s - loss: 0.0076 - acc: 0.9976 - val_loss: 0.0800 - val_acc: 0.9842\n",
      "Epoch 20/30\n",
      " - 25s - loss: 0.0052 - acc: 0.9984 - val_loss: 0.0876 - val_acc: 0.9834\n",
      "Epoch 21/30\n",
      " - 26s - loss: 0.0067 - acc: 0.9979 - val_loss: 0.0857 - val_acc: 0.9843\n",
      "Epoch 22/30\n",
      " - 25s - loss: 0.0054 - acc: 0.9985 - val_loss: 0.0886 - val_acc: 0.9840\n",
      "Epoch 23/30\n",
      " - 25s - loss: 0.0051 - acc: 0.9983 - val_loss: 0.0902 - val_acc: 0.9833\n",
      "Epoch 24/30\n",
      " - 25s - loss: 0.0058 - acc: 0.9985 - val_loss: 0.0857 - val_acc: 0.9829\n",
      "Epoch 25/30\n",
      " - 25s - loss: 0.0059 - acc: 0.9983 - val_loss: 0.0939 - val_acc: 0.9829\n",
      "Epoch 26/30\n",
      " - 25s - loss: 0.0052 - acc: 0.9984 - val_loss: 0.0867 - val_acc: 0.9844\n",
      "Epoch 27/30\n",
      " - 25s - loss: 0.0052 - acc: 0.9986 - val_loss: 0.0877 - val_acc: 0.9851\n",
      "Epoch 28/30\n",
      " - 25s - loss: 0.0059 - acc: 0.9980 - val_loss: 0.0876 - val_acc: 0.9848\n",
      "Epoch 29/30\n",
      " - 24s - loss: 0.0045 - acc: 0.9986 - val_loss: 0.0936 - val_acc: 0.9849\n",
      "Epoch 30/30\n",
      " - 24s - loss: 0.0038 - acc: 0.9988 - val_loss: 0.0846 - val_acc: 0.9846\n"
     ]
    }
   ],
   "source": [
    "history = model.fit(train_X, train_y, epochs = epochs, validation_data = (val_X, val_y), verbose = 2)"
   ]
  },
  {
   "cell_type": "code",
   "execution_count": 17,
   "metadata": {},
   "outputs": [
    {
     "data": {
      "image/png": "[encoded data removed]",
      "text/plain": [
       "<Figure size 432x288 with 2 Axes>"
      ]
     },
     "metadata": {
      "needs_background": "light"
     },
     "output_type": "display_data"
    }
   ],
   "source": [
    "# Plot the loss and accuracy curves for training and validation \n",
    "fig, ax = plt.subplots(2,1)\n",
    "ax[0].plot(history.history['loss'], color='b', label=\"Training loss\")\n",
    "ax[0].plot(history.history['val_loss'], color='r', label=\"validation loss\",axes =ax[0])\n",
    "legend = ax[0].legend(loc='best', shadow=True)\n",
    "\n",
    "ax[1].plot(history.history['acc'], color='b', label=\"Training accuracy\")\n",
    "ax[1].plot(history.history['val_acc'], color='r',label=\"Validation accuracy\")\n",
    "legend = ax[1].legend(loc='best', shadow=True)\n"
   ]
  },
  {
   "cell_type": "code",
   "execution_count": 18,
   "metadata": {},
   "outputs": [
    {
     "name": "stdout",
     "output_type": "stream",
     "text": [
      "RMSE = 0.050512\n"
     ]
    },
    {
     "data": {
      "image/png": "[encoded data removed]",
      "text/plain": [
       "<Figure size 432x288 with 2 Axes>"
      ]
     },
     "metadata": {
      "needs_background": "light"
     },
     "output_type": "display_data"
    }
   ],
   "source": [
    "# Look at confusion matrix \n",
    "def plot_confusion_matrix(cm, classes,\n",
    "                          normalize=False,\n",
    "                          title='Confusion matrix',\n",
    "                          cmap=plt.cm.Blues):\n",
    "    \"\"\"\n",
    "    This function prints and plots the confusion matrix.\n",
    "    Normalization can be applied by setting `normalize=True`.\n",
    "    \"\"\"\n",
    "    plt.imshow(cm, interpolation='nearest', cmap=cmap)\n",
    "    plt.title(title)\n",
    "    plt.colorbar()\n",
    "    tick_marks = np.arange(len(classes))\n",
    "    plt.xticks(tick_marks, classes, rotation=45)\n",
    "    plt.yticks(tick_marks, classes)\n",
    "\n",
    "    if normalize:\n",
    "        cm = cm.astype('float') / cm.sum(axis=1)[:, np.newaxis]\n",
    "\n",
    "    thresh = cm.max() / 2.\n",
    "    for i, j in itertools.product(range(cm.shape[0]), range(cm.shape[1])):\n",
    "        plt.text(j, i, cm[i, j],\n",
    "                 horizontalalignment=\"center\",\n",
    "                 color=\"white\" if cm[i, j] > thresh else \"black\")\n",
    "\n",
    "    plt.tight_layout()\n",
    "    plt.ylabel('True label')\n",
    "    plt.xlabel('Predicted label')\n",
    "\n",
    "# Predict the values from the validation dataset\n",
    "Y_pred = model.predict(val_X)\n",
    "# Convert predictions classes to one hot vectors \n",
    "'?:'\n",
    "confusion_mtx = confusion_matrix(Y_true, Y_pred_classes) \n",
    "# plot the confusion matrix\n",
    "plot_confusion_matrix(confusion_mtx, classes = range(10))\n",
    "\n",
    "print('RMSE = %.6f' % math.sqrt(mean_squared_error(Y_pred, val_y)))\n",
    "\n",
    "# 10 epoche: RMSE = 0.049072\n"
   ]
  },
  {
   "cell_type": "code",
   "execution_count": 19,
   "metadata": {},
   "outputs": [],
   "source": [
    "test_y = model.predict(test)\n"
   ]
  },
  {
   "cell_type": "code",
   "execution_count": 20,
   "metadata": {},
   "outputs": [],
   "source": [
    "test_y = test_y.round()"
   ]
  },
  {
   "cell_type": "code",
   "execution_count": 21,
   "metadata": {},
   "outputs": [
    {
     "data": {
      "text/html": [
       "<div>\n",
       "<style scoped>\n",
       "    .dataframe tbody tr th:only-of-type {\n",
       "        vertical-align: middle;\n",
       "    }\n",
       "\n",
       "    .dataframe tbody tr th {\n",
       "        vertical-align: top;\n",
       "    }\n",
       "\n",
       "    .dataframe thead th {\n",
       "        text-align: right;\n",
       "    }\n",
       "</style>\n",
       "<table border=\"1\" class=\"dataframe\">\n",
       "  <thead>\n",
       "    <tr style=\"text-align: right;\">\n",
       "      <th></th>\n",
       "      <th>Label</th>\n",
       "    </tr>\n",
       "  </thead>\n",
       "  <tbody>\n",
       "    <tr>\n",
       "      <th>1</th>\n",
       "      <td>2</td>\n",
       "    </tr>\n",
       "    <tr>\n",
       "      <th>2</th>\n",
       "      <td>0</td>\n",
       "    </tr>\n",
       "    <tr>\n",
       "      <th>3</th>\n",
       "      <td>9</td>\n",
       "    </tr>\n",
       "    <tr>\n",
       "      <th>...</th>\n",
       "      <td>...</td>\n",
       "    </tr>\n",
       "    <tr>\n",
       "      <th>27998</th>\n",
       "      <td>3</td>\n",
       "    </tr>\n",
       "    <tr>\n",
       "      <th>27999</th>\n",
       "      <td>9</td>\n",
       "    </tr>\n",
       "    <tr>\n",
       "      <th>28000</th>\n",
       "      <td>2</td>\n",
       "    </tr>\n",
       "  </tbody>\n",
       "</table>\n",
       "<p>28000 rows × 1 columns</p>\n",
       "</div>"
      ],
      "text/plain": [
       "       Label\n",
       "1          2\n",
       "2          0\n",
       "3          9\n",
       "...      ...\n",
       "27998      3\n",
       "27999      9\n",
       "28000      2\n",
       "\n",
       "[28000 rows x 1 columns]"
      ]
     },
     "execution_count": 21,
     "metadata": {},
     "output_type": "execute_result"
    }
   ],
   "source": [
    "￼\n",
    "test_y = model.predict(test)\n",
    "￼\n",
    "test_y = test_y.round()\n",
    "￼\n",
    "outout_label = [ np.argmax(i) for i in test_y]\n",
    "out_imageid = [ i+1 for i in range(len(test_y))]\n",
    "out = pd.DataFrame()\n",
    "out['Label'] = out_label\n",
    "out.index = out_imageid\n",
    "out.to_csv('submission.csv')\n",
    "out"
   ]
  }
 ],
 "metadata": {
  "kernelspec": {
   "display_name": "Python 3",
   "language": "python",
   "name": "python3"
  },
  "language_info": {
   "codemirror_mode": {
    "name": "ipython",
    "version": 3
   },
   "file_extension": ".py",
   "mimetype": "text/x-python",
   "name": "python",
   "nbconvert_exporter": "python",
   "pygments_lexer": "ipython3",
   "version": "3.6.6"
  }
 },
 "nbformat": 4,
 "nbformat_minor": 2
}
