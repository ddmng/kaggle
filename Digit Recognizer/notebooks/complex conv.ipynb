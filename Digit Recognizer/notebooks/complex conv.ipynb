{
 "cells": [
  {
   "cell_type": "code",
   "execution_count": 1,
   "metadata": {},
   "outputs": [
    {
     "name": "stderr",
     "output_type": "stream",
     "text": [
      "Using TensorFlow backend.\n"
     ]
    }
   ],
   "source": [
    "import math\n",
    "import itertools\n",
    "import numpy as np\n",
    "import pandas as pd\n",
    "import seaborn as sns\n",
    "import matplotlib.pyplot as plt\n",
    "#import matplotlib.image as mpimg\n",
    "from sklearn.metrics import confusion_matrix, mean_squared_error\n",
    "from sklearn.model_selection import train_test_split\n",
    "from sklearn.model_selection import train_test_split\n",
    "from keras.optimizers import Adam\n",
    "from keras.preprocessing.image import ImageDataGenerator\n",
    "from keras.models import Sequential\n",
    "from keras.callbacks import ReduceLROnPlateau, EarlyStopping\n",
    "from keras.layers import Dense, Dropout, Flatten, Conv2D, MaxPool2D\n",
    "from keras.utils.np_utils import to_categorical\n",
    "import tensorflow as tf\n",
    "\n"
   ]
  },
  {
   "cell_type": "code",
   "execution_count": 2,
   "metadata": {},
   "outputs": [
    {
     "name": "stdout",
     "output_type": "stream",
     "text": [
      "(42000, 784)\n",
      "(42000,)\n",
      "(28000, 784)\n"
     ]
    }
   ],
   "source": [
    "# Load the data\n",
    "train = pd.read_csv(\"../input/train.csv\")\n",
    "test = pd.read_csv(\"../input/test.csv\")\n",
    "\n",
    "train_X = train.iloc[:,1:]\n",
    "train_y = train['label']\n",
    "\n",
    "print(train_X.shape)\n",
    "print(train_y.shape)\n",
    "print(test.shape)\n",
    "\n",
    "del train "
   ]
  },
  {
   "cell_type": "code",
   "execution_count": 3,
   "metadata": {},
   "outputs": [
    {
     "data": {
      "text/plain": [
       "1    4684\n",
       "7    4401\n",
       "3    4351\n",
       "9    4188\n",
       "2    4177\n",
       "6    4137\n",
       "0    4132\n",
       "4    4072\n",
       "8    4063\n",
       "5    3795\n",
       "Name: label, dtype: int64"
      ]
     },
     "execution_count": 3,
     "metadata": {},
     "output_type": "execute_result"
    }
   ],
   "source": [
    "train_y.value_counts()"
   ]
  },
  {
   "cell_type": "code",
   "execution_count": 4,
   "metadata": {},
   "outputs": [
    {
     "data": {
      "text/plain": [
       "0"
      ]
     },
     "execution_count": 4,
     "metadata": {},
     "output_type": "execute_result"
    }
   ],
   "source": [
    "train_X.isnull().sum().sum()"
   ]
  },
  {
   "cell_type": "code",
   "execution_count": 5,
   "metadata": {},
   "outputs": [
    {
     "data": {
      "text/plain": [
       "count       784\n",
       "unique        1\n",
       "top       False\n",
       "freq        784\n",
       "dtype: object"
      ]
     },
     "execution_count": 5,
     "metadata": {},
     "output_type": "execute_result"
    }
   ],
   "source": [
    "test.isnull().any().describe()"
   ]
  },
  {
   "cell_type": "code",
   "execution_count": 6,
   "metadata": {},
   "outputs": [],
   "source": [
    "# Normalize the data\n",
    "train_X = train_X / 255.0\n",
    "test = test / 255.0"
   ]
  },
  {
   "cell_type": "code",
   "execution_count": 7,
   "metadata": {},
   "outputs": [],
   "source": [
    "# Reshape image in 3 dimensions (height = 28px, width = 28px , canal = 1)\n",
    "train_X = train_X.values.reshape(-1,28,28,1)\n",
    "test = test.values.reshape(-1,28,28,1)"
   ]
  },
  {
   "cell_type": "code",
   "execution_count": 8,
   "metadata": {},
   "outputs": [],
   "source": [
    "# Encode labels to one hot vectors (ex : 2 -> [0,0,1,0,0,0,0,0,0,0])\n",
    "train_y = to_categorical(train_y, num_classes = 10)"
   ]
  },
  {
   "cell_type": "code",
   "execution_count": 9,
   "metadata": {},
   "outputs": [],
   "source": [
    "# Split the train and the validation set for the fitting\n",
    "train_X, val_X, train_y, val_y = train_test_split(train_X, train_y, test_size = 0.2)\n"
   ]
  },
  {
   "cell_type": "code",
   "execution_count": 10,
   "metadata": {
    "scrolled": true
   },
   "outputs": [
    {
     "data": {
      "text/plain": [
       "<matplotlib.image.AxesImage at 0x7f255c84da58>"
      ]
     },
     "execution_count": 10,
     "metadata": {},
     "output_type": "execute_result"
    },
    {
     "data": {
      "image/png": "[encoded data removed]",
      "text/plain": [
       "<Figure size 432x288 with 1 Axes>"
      ]
     },
     "metadata": {
      "needs_background": "light"
     },
     "output_type": "display_data"
    }
   ],
   "source": [
    "plt.imshow(train_X[0][:,:,0])"
   ]
  },
  {
   "cell_type": "code",
   "execution_count": 15,
   "metadata": {},
   "outputs": [],
   "source": [
    "epochs = 100\n",
    "batch_size = 64\n",
    "\n",
    "model = Sequential()\n",
    "\n",
    "model.add(Conv2D(filters = 32, kernel_size = (5,5),padding = 'Same', \n",
    "                 activation ='relu', input_shape = (28,28,1)))\n",
    "model.add(Conv2D(filters = 32, kernel_size = (5,5),padding = 'Same', \n",
    "                 activation ='relu'))\n",
    "model.add(MaxPool2D(pool_size=(2,2)))\n",
    "model.add(Dropout(0.25))\n",
    "\n",
    "\n",
    "model.add(Conv2D(filters = 64, kernel_size = (3,3),padding = 'Same', \n",
    "                 activation ='relu'))\n",
    "model.add(Conv2D(filters = 64, kernel_size = (3,3),padding = 'Same', \n",
    "                 activation ='relu'))\n",
    "model.add(MaxPool2D(pool_size=(2,2), strides=(2,2)))\n",
    "model.add(Dropout(0.25))\n",
    "\n",
    "\n",
    "model.add(Flatten())\n",
    "model.add(Dense(256, activation = \"relu\"))\n",
    "model.add(Dropout(0.5))\n",
    "model.add(Dense(10, activation = \"softmax\"))\n",
    "\n",
    "opt = Adam(lr=0.007)\n",
    "\n",
    "model.compile(optimizer = opt , loss = \"categorical_crossentropy\", metrics=[\"acc\"])"
   ]
  },
  {
   "cell_type": "code",
   "execution_count": null,
   "metadata": {},
   "outputs": [
    {
     "name": "stdout",
     "output_type": "stream",
     "text": [
      "Epoch 1/100\n",
      "525/525 [==============================] - 150s 285ms/step - loss: 0.6668 - acc: 0.7789 - val_loss: 0.1156 - val_acc: 0.9658\n",
      "Epoch 2/100\n",
      "525/525 [==============================] - 149s 283ms/step - loss: 0.3090 - acc: 0.9076 - val_loss: 0.1091 - val_acc: 0.9674\n",
      "Epoch 3/100\n",
      "525/525 [==============================] - 147s 281ms/step - loss: 0.2710 - acc: 0.9210 - val_loss: 0.0939 - val_acc: 0.9693\n",
      "Epoch 4/100\n",
      "525/525 [==============================] - 149s 284ms/step - loss: 0.2619 - acc: 0.9228 - val_loss: 0.1083 - val_acc: 0.9683\n",
      "Epoch 5/100\n",
      "525/525 [==============================] - 150s 287ms/step - loss: 0.2727 - acc: 0.9219 - val_loss: 0.0812 - val_acc: 0.9758\n",
      "Epoch 6/100\n",
      "525/525 [==============================] - 149s 284ms/step - loss: 0.2592 - acc: 0.9264 - val_loss: 0.0902 - val_acc: 0.9738\n",
      "Epoch 7/100\n",
      "525/525 [==============================] - 150s 285ms/step - loss: 0.2588 - acc: 0.9261 - val_loss: 0.1095 - val_acc: 0.9696\n",
      "\n",
      "Epoch 00007: ReduceLROnPlateau reducing learning rate to 0.0035000001080334187.\n",
      "Epoch 8/100\n",
      "525/525 [==============================] - 149s 284ms/step - loss: 0.1963 - acc: 0.9455 - val_loss: 0.0862 - val_acc: 0.9752\n",
      "Epoch 9/100\n",
      "525/525 [==============================] - 150s 285ms/step - loss: 0.1723 - acc: 0.9502 - val_loss: 0.0604 - val_acc: 0.9812\n",
      "Epoch 10/100\n",
      "525/525 [==============================] - 150s 286ms/step - loss: 0.1696 - acc: 0.9503 - val_loss: 0.0541 - val_acc: 0.9857\n",
      "Epoch 11/100\n",
      "525/525 [==============================] - 150s 285ms/step - loss: 0.1668 - acc: 0.9524 - val_loss: 0.0661 - val_acc: 0.9799\n",
      "Epoch 12/100\n",
      "525/525 [==============================] - 150s 285ms/step - loss: 0.1582 - acc: 0.9546 - val_loss: 0.0664 - val_acc: 0.9807\n",
      "\n",
      "Epoch 00012: ReduceLROnPlateau reducing learning rate to 0.0017500000540167093.\n",
      "Epoch 13/100\n",
      "525/525 [==============================] - 152s 290ms/step - loss: 0.1405 - acc: 0.9591 - val_loss: 0.0501 - val_acc: 0.9855\n",
      "Epoch 14/100\n",
      "525/525 [==============================] - 150s 285ms/step - loss: 0.1285 - acc: 0.9626 - val_loss: 0.0507 - val_acc: 0.9848\n",
      "Epoch 15/100\n",
      "525/525 [==============================] - 151s 287ms/step - loss: 0.1209 - acc: 0.9636 - val_loss: 0.0500 - val_acc: 0.9855\n",
      "\n",
      "Epoch 00015: ReduceLROnPlateau reducing learning rate to 0.0008750000270083547.\n",
      "Epoch 16/100\n",
      "525/525 [==============================] - 151s 288ms/step - loss: 0.1112 - acc: 0.9673 - val_loss: 0.0474 - val_acc: 0.9869\n",
      "Epoch 17/100\n",
      "525/525 [==============================] - 150s 285ms/step - loss: 0.1080 - acc: 0.9681 - val_loss: 0.0458 - val_acc: 0.9873\n",
      "Epoch 18/100\n",
      "525/525 [==============================] - 150s 285ms/step - loss: 0.1028 - acc: 0.9702 - val_loss: 0.0450 - val_acc: 0.9864\n",
      "Epoch 19/100\n",
      "525/525 [==============================] - 149s 283ms/step - loss: 0.1058 - acc: 0.9695 - val_loss: 0.0453 - val_acc: 0.9871\n",
      "Epoch 20/100\n",
      "525/525 [==============================] - 149s 283ms/step - loss: 0.1004 - acc: 0.9695 - val_loss: 0.0439 - val_acc: 0.9868\n",
      "Epoch 21/100\n",
      "525/525 [==============================] - 150s 286ms/step - loss: 0.1014 - acc: 0.9701 - val_loss: 0.0451 - val_acc: 0.9875\n",
      "Epoch 22/100\n",
      "525/525 [==============================] - 148s 282ms/step - loss: 0.0936 - acc: 0.9732 - val_loss: 0.0428 - val_acc: 0.9877\n",
      "Epoch 23/100\n",
      "525/525 [==============================] - 149s 285ms/step - loss: 0.0949 - acc: 0.9719 - val_loss: 0.0412 - val_acc: 0.9874\n",
      "Epoch 24/100\n",
      "525/525 [==============================] - 151s 288ms/step - loss: 0.0977 - acc: 0.9720 - val_loss: 0.0410 - val_acc: 0.9876\n",
      "Epoch 25/100\n",
      "525/525 [==============================] - 150s 285ms/step - loss: 0.0953 - acc: 0.9721 - val_loss: 0.0419 - val_acc: 0.9875\n",
      "Epoch 26/100\n",
      "525/525 [==============================] - 151s 288ms/step - loss: 0.0964 - acc: 0.9717 - val_loss: 0.0429 - val_acc: 0.9870\n",
      "\n",
      "Epoch 00026: ReduceLROnPlateau reducing learning rate to 0.00043750001350417733.\n",
      "Epoch 27/100\n",
      "525/525 [==============================] - 150s 285ms/step - loss: 0.0898 - acc: 0.9736 - val_loss: 0.0402 - val_acc: 0.9882\n",
      "Epoch 28/100\n",
      "525/525 [==============================] - 148s 282ms/step - loss: 0.0901 - acc: 0.9733 - val_loss: 0.0417 - val_acc: 0.9875\n",
      "Epoch 29/100\n",
      "525/525 [==============================] - 150s 286ms/step - loss: 0.0848 - acc: 0.9752 - val_loss: 0.0403 - val_acc: 0.9880\n",
      "\n",
      "Epoch 00029: ReduceLROnPlateau reducing learning rate to 0.00021875000675208867.\n",
      "Epoch 30/100\n",
      "525/525 [==============================] - 149s 285ms/step - loss: 0.0850 - acc: 0.9751 - val_loss: 0.0376 - val_acc: 0.9887\n",
      "Epoch 31/100\n",
      "525/525 [==============================] - 149s 284ms/step - loss: 0.0850 - acc: 0.9744 - val_loss: 0.0383 - val_acc: 0.9881\n",
      "Epoch 32/100\n",
      "525/525 [==============================] - 150s 286ms/step - loss: 0.0806 - acc: 0.9760 - val_loss: 0.0364 - val_acc: 0.9894\n",
      "Epoch 33/100\n",
      "525/525 [==============================] - 150s 285ms/step - loss: 0.0801 - acc: 0.9763 - val_loss: 0.0384 - val_acc: 0.9881\n",
      "Epoch 34/100\n",
      "525/525 [==============================] - 151s 287ms/step - loss: 0.0828 - acc: 0.9751 - val_loss: 0.0362 - val_acc: 0.9889\n",
      "Epoch 35/100\n",
      "525/525 [==============================] - 152s 289ms/step - loss: 0.0813 - acc: 0.9764 - val_loss: 0.0370 - val_acc: 0.9889\n",
      "Epoch 36/100\n",
      "525/525 [==============================] - 151s 287ms/step - loss: 0.0755 - acc: 0.9773 - val_loss: 0.0371 - val_acc: 0.9893\n",
      "\n",
      "Epoch 00036: ReduceLROnPlateau reducing learning rate to 0.00010937500337604433.\n",
      "Epoch 37/100\n",
      "525/525 [==============================] - 152s 289ms/step - loss: 0.0784 - acc: 0.9774 - val_loss: 0.0374 - val_acc: 0.9885\n",
      "Epoch 38/100\n",
      "525/525 [==============================] - 151s 288ms/step - loss: 0.0777 - acc: 0.9782 - val_loss: 0.0366 - val_acc: 0.9888\n",
      "\n",
      "Epoch 00038: ReduceLROnPlateau reducing learning rate to 5.4687501688022166e-05.\n",
      "Epoch 39/100\n",
      "525/525 [==============================] - 150s 286ms/step - loss: 0.0748 - acc: 0.9779 - val_loss: 0.0361 - val_acc: 0.9890\n",
      "Epoch 40/100\n",
      "464/525 [=========================>....] - ETA: 16s - loss: 0.0758 - acc: 0.9777"
     ]
    }
   ],
   "source": [
    "\n",
    "reduce_lr = ReduceLROnPlateau(monitor='val_loss', factor=0.5,\n",
    "                              patience=2, min_lr=0.000001, verbose=1)\n",
    "\n",
    "early_stopping = EarlyStopping(monitor='val_loss', patience=20, min_delta=1e-2, verbose=1, mode='auto', baseline=0.999)\n",
    "\n",
    "datagen = ImageDataGenerator(\n",
    "    rotation_range=10,\n",
    "    zoom_range=0.1,\n",
    "    width_shift_range=0.1,\n",
    "    height_shift_range=0.1\n",
    ")\n",
    "\n",
    "datagen.fit(train_X)\n",
    "with tf.device('/gpu:0'):\n",
    "    # fits the model on batches with real-time data augmentation:\n",
    "    history = model.fit_generator(datagen.flow(train_X, \n",
    "                                     train_y, \n",
    "                                     batch_size=batch_size),\n",
    "                        validation_data = (val_X, val_y),\n",
    "                        steps_per_epoch=len(train_X) // batch_size,\n",
    "                        epochs=epochs,\n",
    "                        callbacks=[reduce_lr, early_stopping])\n"
   ]
  },
  {
   "cell_type": "code",
   "execution_count": null,
   "metadata": {},
   "outputs": [],
   "source": [
    "pred_y = model.predict(val_X)\n",
    "print('RMSE = %.6f' % math.sqrt(mean_squared_error(pred_y, val_y)))\n"
   ]
  },
  {
   "cell_type": "code",
   "execution_count": null,
   "metadata": {},
   "outputs": [],
   "source": [
    "sns.lineplot(x=range(len(history.history['val_acc'])), y=history.history['val_acc'], label='val_acc')\n",
    "sns.lineplot(x=range(len(history.history['acc'])), y=history.history['acc'], label='acc')\n"
   ]
  },
  {
   "cell_type": "code",
   "execution_count": null,
   "metadata": {},
   "outputs": [],
   "source": [
    "matrix = confusion_matrix(val_y.argmax(axis=1), pred_y.argmax(axis=1))\n",
    "\n",
    "sns.heatmap(matrix, cbar=False, annot=True, fmt='d', cmap=\"Blues\", square=True)\n"
   ]
  },
  {
   "cell_type": "markdown",
   "metadata": {},
   "source": [
    "## Submission"
   ]
  },
  {
   "cell_type": "code",
   "execution_count": null,
   "metadata": {},
   "outputs": [],
   "source": [
    "test_y = model.predict(test)\n",
    "test_y = test_y.round()\n",
    "out_label = [ np.argmax(i) for i in test_y]\n",
    "out_imageid = [ i+1 for i in range(len(test_y))]\n",
    "out = pd.DataFrame()\n",
    "out['ImageId'] = out_imageid\n",
    "out['Label'] = out_label\n",
    "\n",
    "out.to_csv('submission.csv', index=False)\n",
    "out"
   ]
  },
  {
   "cell_type": "code",
   "execution_count": null,
   "metadata": {},
   "outputs": [],
   "source": []
  },
  {
   "cell_type": "code",
   "execution_count": null,
   "metadata": {},
   "outputs": [],
   "source": []
  }
 ],
 "metadata": {
  "kernelspec": {
   "display_name": "Python 3",
   "language": "python",
   "name": "python3"
  },
  "language_info": {
   "codemirror_mode": {
    "name": "ipython",
    "version": 3
   },
   "file_extension": ".py",
   "mimetype": "text/x-python",
   "name": "python",
   "nbconvert_exporter": "python",
   "pygments_lexer": "ipython3",
   "version": "3.6.8"
  }
 },
 "nbformat": 4,
 "nbformat_minor": 2
}
