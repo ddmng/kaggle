{
 "cells": [
  {
   "cell_type": "markdown",
   "metadata": {},
   "source": [
    "# Exploring opensky states data"
   ]
  },
  {
   "cell_type": "code",
   "execution_count": 1,
   "metadata": {},
   "outputs": [
    {
     "name": "stderr",
     "output_type": "stream",
     "text": [
      "Using TensorFlow backend.\n"
     ]
    }
   ],
   "source": [
    "import math\n",
    "import pandas as pd\n",
    "import numpy as np\n",
    "from scipy.stats import stats, norm, skew\n",
    "import seaborn as sns\n",
    "import matplotlib.pyplot as plt\n",
    "import matplotlib.image as mpimg\n",
    "from sklearn import preprocessing\n",
    "from sklearn.metrics import confusion_matrix, mean_squared_error\n",
    "from sklearn.model_selection import train_test_split\n",
    "from sklearn.linear_model import LinearRegression, ElasticNet, Lasso\n",
    "from sklearn.model_selection import KFold\n",
    "from sklearn.preprocessing import StandardScaler, MinMaxScaler, LabelEncoder\n",
    "from sklearn.model_selection import KFold, cross_val_score, train_test_split\n",
    "from keras.models import Sequential\n",
    "from keras.callbacks import ModelCheckpoint\n",
    "from keras.layers import Dense, Dropout, Flatten, Conv2D, MaxPool2D\n",
    "from keras.utils.np_utils import to_categorical\n",
    "from keras.wrappers.scikit_learn import KerasRegressor\n",
    "from scipy.special import boxcox1p\n",
    "import lightgbm as lgb\n",
    "import xgboost as xgb\n",
    "\n",
    "%matplotlib inline\n",
    "np.random.seed(2)"
   ]
  },
  {
   "cell_type": "code",
   "execution_count": 2,
   "metadata": {},
   "outputs": [
    {
     "name": "stdout",
     "output_type": "stream",
     "text": [
      "dataset0 loaded\n",
      "dataset1 loaded\n"
     ]
    }
   ],
   "source": [
    "dataset0 = pd.read_csv('../input/states_2019-01-14-00.csv')\n",
    "print('dataset0 loaded')\n",
    "dataset1 = pd.read_csv('../input/states_2019-01-14-01.csv')\n",
    "print('dataset1 loaded')\n",
    "#dataset2 = pd.read_csv('../input/states_2019-01-14-02.csv')\n",
    "#print('dataset2 loaded')\n",
    "#dataset3 = pd.read_csv('../input/states_2019-01-14-03.csv')\n",
    "#print('dataset3 loaded')\n",
    "#dataset4 = pd.read_csv('../input/states_2019-01-14-04.csv')\n",
    "#print('dataset4 loaded')\n",
    "#dataset5 = pd.read_csv('../input/states_2019-01-14-05.csv')\n",
    "#print('dataset5 loaded')\n",
    "#dataset = pd.concat([dataset0, dataset1, dataset2, dataset3, dataset4, dataset5], axis=0)\n",
    "dataset = pd.concat([dataset0, dataset1], axis=0)"
   ]
  },
  {
   "cell_type": "code",
   "execution_count": 3,
   "metadata": {},
   "outputs": [
    {
     "data": {
      "text/html": [
       "<div>\n",
       "<style scoped>\n",
       "    .dataframe tbody tr th:only-of-type {\n",
       "        vertical-align: middle;\n",
       "    }\n",
       "\n",
       "    .dataframe tbody tr th {\n",
       "        vertical-align: top;\n",
       "    }\n",
       "\n",
       "    .dataframe thead th {\n",
       "        text-align: right;\n",
       "    }\n",
       "</style>\n",
       "<table border=\"1\" class=\"dataframe\">\n",
       "  <thead>\n",
       "    <tr style=\"text-align: right;\">\n",
       "      <th></th>\n",
       "      <th>time</th>\n",
       "      <th>icao24</th>\n",
       "      <th>lat</th>\n",
       "      <th>lon</th>\n",
       "      <th>velocity</th>\n",
       "      <th>heading</th>\n",
       "      <th>vertrate</th>\n",
       "      <th>callsign</th>\n",
       "      <th>onground</th>\n",
       "      <th>alert</th>\n",
       "      <th>spi</th>\n",
       "      <th>squawk</th>\n",
       "      <th>baroaltitude</th>\n",
       "      <th>geoaltitude</th>\n",
       "      <th>lastposupdate</th>\n",
       "      <th>lastcontact</th>\n",
       "    </tr>\n",
       "  </thead>\n",
       "  <tbody>\n",
       "    <tr>\n",
       "      <th>0</th>\n",
       "      <td>1547424000</td>\n",
       "      <td>4ca1fe</td>\n",
       "      <td>51.671308</td>\n",
       "      <td>2.311249</td>\n",
       "      <td>127.868055</td>\n",
       "      <td>288.289158</td>\n",
       "      <td>-4.87680</td>\n",
       "      <td>RYR4WA</td>\n",
       "      <td>False</td>\n",
       "      <td>False</td>\n",
       "      <td>False</td>\n",
       "      <td>3117.0</td>\n",
       "      <td>7757.16</td>\n",
       "      <td>7620.00</td>\n",
       "      <td>1.547424e+09</td>\n",
       "      <td>1.547424e+09</td>\n",
       "    </tr>\n",
       "    <tr>\n",
       "      <th>1</th>\n",
       "      <td>1547424000</td>\n",
       "      <td>4b187d</td>\n",
       "      <td>40.537491</td>\n",
       "      <td>-73.051758</td>\n",
       "      <td>204.903762</td>\n",
       "      <td>76.940691</td>\n",
       "      <td>10.07872</td>\n",
       "      <td>SWR17P</td>\n",
       "      <td>False</td>\n",
       "      <td>False</td>\n",
       "      <td>False</td>\n",
       "      <td>1547.0</td>\n",
       "      <td>4099.56</td>\n",
       "      <td>4091.94</td>\n",
       "      <td>1.547424e+09</td>\n",
       "      <td>1.547424e+09</td>\n",
       "    </tr>\n",
       "    <tr>\n",
       "      <th>2</th>\n",
       "      <td>1547424000</td>\n",
       "      <td>a776b2</td>\n",
       "      <td>41.119446</td>\n",
       "      <td>-71.720581</td>\n",
       "      <td>198.127740</td>\n",
       "      <td>246.430252</td>\n",
       "      <td>3.90144</td>\n",
       "      <td>JBU321</td>\n",
       "      <td>False</td>\n",
       "      <td>False</td>\n",
       "      <td>False</td>\n",
       "      <td>2076.0</td>\n",
       "      <td>10195.56</td>\n",
       "      <td>10088.88</td>\n",
       "      <td>1.547424e+09</td>\n",
       "      <td>1.547424e+09</td>\n",
       "    </tr>\n",
       "    <tr>\n",
       "      <th>3</th>\n",
       "      <td>1547424000</td>\n",
       "      <td>40762c</td>\n",
       "      <td>51.964233</td>\n",
       "      <td>8.027344</td>\n",
       "      <td>227.736637</td>\n",
       "      <td>45.732175</td>\n",
       "      <td>0.00000</td>\n",
       "      <td>NPT4069</td>\n",
       "      <td>False</td>\n",
       "      <td>False</td>\n",
       "      <td>False</td>\n",
       "      <td>7130.0</td>\n",
       "      <td>11277.60</td>\n",
       "      <td>10904.22</td>\n",
       "      <td>1.547424e+09</td>\n",
       "      <td>1.547424e+09</td>\n",
       "    </tr>\n",
       "    <tr>\n",
       "      <th>4</th>\n",
       "      <td>1547424000</td>\n",
       "      <td>a278f3</td>\n",
       "      <td>40.795402</td>\n",
       "      <td>-73.304714</td>\n",
       "      <td>222.625901</td>\n",
       "      <td>48.278499</td>\n",
       "      <td>0.00000</td>\n",
       "      <td>CNS818</td>\n",
       "      <td>False</td>\n",
       "      <td>False</td>\n",
       "      <td>False</td>\n",
       "      <td>3055.0</td>\n",
       "      <td>7010.40</td>\n",
       "      <td>6964.68</td>\n",
       "      <td>1.547424e+09</td>\n",
       "      <td>1.547424e+09</td>\n",
       "    </tr>\n",
       "  </tbody>\n",
       "</table>\n",
       "</div>"
      ],
      "text/plain": [
       "         time  icao24        lat        lon    velocity     heading  vertrate  \\\n",
       "0  1547424000  4ca1fe  51.671308   2.311249  127.868055  288.289158  -4.87680   \n",
       "1  1547424000  4b187d  40.537491 -73.051758  204.903762   76.940691  10.07872   \n",
       "2  1547424000  a776b2  41.119446 -71.720581  198.127740  246.430252   3.90144   \n",
       "3  1547424000  40762c  51.964233   8.027344  227.736637   45.732175   0.00000   \n",
       "4  1547424000  a278f3  40.795402 -73.304714  222.625901   48.278499   0.00000   \n",
       "\n",
       "   callsign  onground  alert    spi  squawk  baroaltitude  geoaltitude  \\\n",
       "0  RYR4WA       False  False  False  3117.0       7757.16      7620.00   \n",
       "1  SWR17P       False  False  False  1547.0       4099.56      4091.94   \n",
       "2  JBU321       False  False  False  2076.0      10195.56     10088.88   \n",
       "3  NPT4069      False  False  False  7130.0      11277.60     10904.22   \n",
       "4  CNS818       False  False  False  3055.0       7010.40      6964.68   \n",
       "\n",
       "   lastposupdate   lastcontact  \n",
       "0   1.547424e+09  1.547424e+09  \n",
       "1   1.547424e+09  1.547424e+09  \n",
       "2   1.547424e+09  1.547424e+09  \n",
       "3   1.547424e+09  1.547424e+09  \n",
       "4   1.547424e+09  1.547424e+09  "
      ]
     },
     "execution_count": 3,
     "metadata": {},
     "output_type": "execute_result"
    }
   ],
   "source": [
    "dataset[0:5]\n"
   ]
  },
  {
   "cell_type": "markdown",
   "metadata": {},
   "source": [
    "## Dropping useless columns"
   ]
  },
  {
   "cell_type": "code",
   "execution_count": 4,
   "metadata": {},
   "outputs": [],
   "source": [
    "dataset = dataset.drop('squawk', axis=1)\n",
    "dataset = dataset.drop('time', axis=1)\n",
    "dataset = dataset.drop('lastcontact', axis=1)\n",
    "dataset = dataset.drop('spi', axis=1)"
   ]
  },
  {
   "cell_type": "code",
   "execution_count": 5,
   "metadata": {},
   "outputs": [
    {
     "data": {
      "text/plain": [
       "icao24                 0\n",
       "lat               837627\n",
       "lon               837627\n",
       "velocity          801030\n",
       "heading           801030\n",
       "vertrate          786889\n",
       "callsign          722680\n",
       "onground               0\n",
       "alert                  0\n",
       "baroaltitude      313930\n",
       "geoaltitude      1080490\n",
       "lastposupdate     837627\n",
       "dtype: int64"
      ]
     },
     "execution_count": 5,
     "metadata": {},
     "output_type": "execute_result"
    }
   ],
   "source": [
    "dataset.isnull().sum()"
   ]
  },
  {
   "cell_type": "markdown",
   "metadata": {},
   "source": [
    "## Dropping useless rows"
   ]
  },
  {
   "cell_type": "code",
   "execution_count": 6,
   "metadata": {},
   "outputs": [
    {
     "data": {
      "text/plain": [
       "icao24                0\n",
       "lat                   0\n",
       "lon                   0\n",
       "velocity          69209\n",
       "heading           69209\n",
       "vertrate          68536\n",
       "callsign              0\n",
       "onground              0\n",
       "alert                 0\n",
       "baroaltitude      85222\n",
       "geoaltitude      207463\n",
       "lastposupdate         0\n",
       "dtype: int64"
      ]
     },
     "execution_count": 6,
     "metadata": {},
     "output_type": "execute_result"
    }
   ],
   "source": [
    "dataset = dataset.dropna(axis=0, subset=['lat', 'lon'])\n",
    "dataset = dataset.dropna(axis=0, subset=['callsign'])\n",
    "dataset.isnull().sum()"
   ]
  },
  {
   "cell_type": "markdown",
   "metadata": {},
   "source": [
    "## Filling barometric altitude holes with geoaltitudes and removing the remaninig nulls"
   ]
  },
  {
   "cell_type": "code",
   "execution_count": 7,
   "metadata": {},
   "outputs": [
    {
     "data": {
      "text/plain": [
       "icao24               0\n",
       "lat                  0\n",
       "lon                  0\n",
       "velocity         16820\n",
       "heading          16820\n",
       "vertrate         16181\n",
       "callsign             0\n",
       "onground             0\n",
       "alert                0\n",
       "lastposupdate        0\n",
       "altitude             0\n",
       "dtype: int64"
      ]
     },
     "execution_count": 7,
     "metadata": {},
     "output_type": "execute_result"
    }
   ],
   "source": [
    "dataset['altitude'] = dataset['baroaltitude']\n",
    "dataset['altitude'] = dataset['altitude'].fillna(dataset['geoaltitude'])\n",
    "dataset = dataset.dropna(axis=0, subset=['altitude'])\n",
    "dataset = dataset.drop('geoaltitude', axis=1)\n",
    "dataset = dataset.drop('baroaltitude', axis=1)\n",
    "dataset.isnull().sum()"
   ]
  },
  {
   "cell_type": "markdown",
   "metadata": {},
   "source": [
    "## Data cleaned\n",
    "\n",
    "The remaining nulls could be filled via interpolation once the dataset is splitted over the `icao24` field values"
   ]
  },
  {
   "cell_type": "markdown",
   "metadata": {},
   "source": [
    "## Plotting some flights"
   ]
  },
  {
   "cell_type": "code",
   "execution_count": 9,
   "metadata": {},
   "outputs": [
    {
     "name": "stdout",
     "output_type": "stream",
     "text": [
      "10243 groups\n",
      "removing cur_flight with shape (0, 2)\n",
      "removing cur_flight with shape (0, 2)\n",
      "Flight discovered! (101, 2) points\n",
      "Found  1  paths\n"
     ]
    },
    {
     "data": {
      "text/plain": [
       "[[[38.94551467895508, -77.46537581734037],\n",
       "  [38.94551467895508, -77.46537581734037],\n",
       "  [38.94551467895508, -77.46537581734037],\n",
       "  [38.945509053893005, -77.46537780761719],\n",
       "  [38.94551467895508, -77.46537581734037],\n",
       "  [38.945509053893005, -77.46537780761719],\n",
       "  [38.945509053893005, -77.46537780761719],\n",
       "  [38.945509053893005, -77.46537780761719],\n",
       "  [38.94551467895508, -77.46537581734036],\n",
       "  [38.945509053893005, -77.46537780761719],\n",
       "  [38.94551467895508, -77.46537581734037],\n",
       "  [38.94551467895508, -77.46537581734037],\n",
       "  [38.945509053893005, -77.46537780761719],\n",
       "  [38.945509053893005, -77.46537780761719],\n",
       "  [38.945509053893005, -77.46537780761719],\n",
       "  [38.94551467895508, -77.4653907444166],\n",
       "  [38.94551467895508, -77.4653907444166],\n",
       "  [38.945509053893005, -77.46537780761719],\n",
       "  [38.945509053893005, -77.46537780761719],\n",
       "  [38.94551467895508, -77.46537581734037],\n",
       "  [38.945509053893005, -77.46537780761719],\n",
       "  [38.94551467895508, -77.46537581734037],\n",
       "  [38.94551467895508, -77.46537581734037],\n",
       "  [38.94551467895508, -77.46537581734036],\n",
       "  [38.945509053893005, -77.46537780761719],\n",
       "  [38.945509053893005, -77.46537780761719],\n",
       "  [38.945509053893005, -77.46537780761719],\n",
       "  [38.94550323486328, -77.46537581734037],\n",
       "  [38.945509053893005, -77.46537780761719],\n",
       "  [38.945509053893005, -77.46537780761719],\n",
       "  [38.945509053893005, -77.46537780761719],\n",
       "  [38.945509053893005, -77.46537780761719],\n",
       "  [38.94550323486328, -77.46537581734037],\n",
       "  [38.945509053893005, -77.46537780761719],\n",
       "  [38.945509053893005, -77.46537780761719],\n",
       "  [38.945509053893005, -77.46537780761719],\n",
       "  [38.945509053893005, -77.46537780761719],\n",
       "  [38.94550323486328, -77.46537581734037],\n",
       "  [38.945509053893005, -77.46537780761719],\n",
       "  [38.94550323486328, -77.46537581734037],\n",
       "  [38.94550323486328, -77.46537581734037],\n",
       "  [38.945509053893005, -77.46537780761719],\n",
       "  [38.945509053893005, -77.46537780761719],\n",
       "  [38.945509053893005, -77.46537780761719],\n",
       "  [38.94467111361229, -77.46226501464844],\n",
       "  [38.94467111361229, -77.46226501464844],\n",
       "  [38.94467111361229, -77.46226501464844],\n",
       "  [38.94467111361229, -77.46226501464844],\n",
       "  [38.94467111361229, -77.46226501464844],\n",
       "  [38.94467111361229, -77.46226501464844],\n",
       "  [38.94467111361229, -77.46226501464844],\n",
       "  [38.94451981883938, -77.45989990234375],\n",
       "  [38.94451904296875, -77.45894224747366],\n",
       "  [38.94445037841797, -77.45683752972144],\n",
       "  [38.9443244934082, -77.45649420696753],\n",
       "  [38.942785747980665, -77.45613098144531],\n",
       "  [38.94118881225586, -77.4561658112899],\n",
       "  [38.94092559814453, -77.4561658112899],\n",
       "  [38.94092365846795, -77.45616149902344],\n",
       "  [38.94092365846795, -77.45616149902344],\n",
       "  [38.940888744289595, -77.45616149902344],\n",
       "  [38.94039916992188, -77.4561658112899],\n",
       "  [38.93934088238215, -77.45616149902344],\n",
       "  [38.93853378295898, -77.4561359571374],\n",
       "  [38.93803741972325, -77.45613098144531],\n",
       "  [38.93716049194336, -77.45601654052734],\n",
       "  [38.93559265136719, -77.45515077010447],\n",
       "  [38.93559342723782, -77.45515441894531],\n",
       "  [38.93559342723782, -77.45515441894531],\n",
       "  [38.93559265136719, -77.45515077010447],\n",
       "  [38.93559265136719, -77.45515077010447],\n",
       "  [38.93559265136719, -77.45515077010447],\n",
       "  [38.93559265136719, -77.45515077010445],\n",
       "  [38.93559265136719, -77.45515077010445],\n",
       "  [38.93559342723782, -77.45513916015625],\n",
       "  [38.93559342723782, -77.45513916015625],\n",
       "  [38.93559342723782, -77.45515441894531],\n",
       "  [38.93559342723782, -77.45513916015625],\n",
       "  [38.93559265136719, -77.45515077010447],\n",
       "  [38.93558120727539, -77.45515077010445],\n",
       "  [38.93558120727539, -77.45515077010447],\n",
       "  [38.93558120727539, -77.45515077010447],\n",
       "  [38.93558120727539, -77.45515077010447],\n",
       "  [38.93559265136719, -77.45515077010445],\n",
       "  [38.93559265136719, -77.45515077010445],\n",
       "  [38.93559265136719, -77.45515077010445],\n",
       "  [38.93567276000977, -77.45600161345106],\n",
       "  [38.93575286865234, -77.45670318603516],\n",
       "  [38.935058076502905, -77.45712280273438],\n",
       "  [38.934871673583984, -77.45722563370413],\n",
       "  [38.93464279174805, -77.45733012323797],\n",
       "  [38.934627468303106, -77.45733642578125],\n",
       "  [38.93450546264648, -77.45740475861925],\n",
       "  [38.93432487875728, -77.45748901367188],\n",
       "  [38.93427832651946, -77.45823669433594],\n",
       "  [38.934757232666016, -77.45864370594853],\n",
       "  [38.934757232666016, -77.45864370594853],\n",
       "  [38.934757232666016, -77.45864370594853],\n",
       "  [38.93632507324219, -77.45785257090694],\n",
       "  [38.93718784138308, -77.45745849609375],\n",
       "  [38.93877061746888, -77.45733642578125]]]"
      ]
     },
     "execution_count": 9,
     "metadata": {},
     "output_type": "execute_result"
    }
   ],
   "source": [
    "flight_paths = []\n",
    "\n",
    "groups = dataset.groupby('icao24')\n",
    "print(len(groups.groups), 'groups')\n",
    "max_num = 1\n",
    "num_groups = len(groups)\n",
    "for k, i in groups:\n",
    "    num_groups -= 1\n",
    "    if num_groups % 100 == 0:\n",
    "        print(num_groups, 'remaining')\n",
    "    if i['onground'].where(i['onground'] == True).count() > 0:\n",
    "        # loops over all the points sent by the aircraft ands to flight_paths\n",
    "        # all the sequences of points delimited by two landings: onground=True\n",
    "        last_onground_index = -1\n",
    "        cur_flight = pd.DataFrame(columns = ['lat', 'lon'])\n",
    "        print('removing cur_flight with shape', cur_flight.shape)\n",
    "        for index, el in i.iterrows():\n",
    "            if not el['onground']:\n",
    "                if last_onground_index == -1:\n",
    "                    continue # flight never started\n",
    "                else:\n",
    "                    cur_flight = cur_flight.append( el[['lat', 'lon']] )\n",
    "            else: # ...point is on ground\n",
    "                if last_onground_index == -1:\n",
    "                    cur_flight = cur_flight.append( el[['lat', 'lon']] )\n",
    "                    last_onground_index = index\n",
    "                else:\n",
    "                    cur_flight = cur_flight.append( el[['lat', 'lon']] )\n",
    "                    if cur_flight.shape[0] > 1000:\n",
    "                        flight_paths.append(cur_flight.values.tolist())\n",
    "                        print('Flight discovered!', cur_flight.shape, 'points')\n",
    "                        cur_flight = pd.DataFrame(columns = ['lat', 'lon'])\n",
    "                    \n",
    "    if len(flight_paths) >= max_num:\n",
    "        break\n",
    "    else:\n",
    "        continue\n",
    "\n",
    "print('Found ', len(flight_paths), ' paths')\n",
    "\n",
    "flight_paths "
   ]
  },
  {
   "cell_type": "code",
   "execution_count": 11,
   "metadata": {
    "scrolled": false
   },
   "outputs": [
    {
     "name": "stdout",
     "output_type": "stream",
     "text": [
      "1\n",
      "38.94551467895508 -77.46537581734037\n"
     ]
    },
    {
     "data": {
      "application/vnd.jupyter.widget-view+json": {
       "model_id": "8509f9a44bf34ebfba7ef38634373b5c",
       "version_major": 2,
       "version_minor": 0
      },
      "text/plain": [
       "Map(basemap={'url': 'https://{s}.tile.openstreetmap.org/{z}/{x}/{y}.png', 'max_zoom': 19, 'attribution': 'Map …"
      ]
     },
     "metadata": {},
     "output_type": "display_data"
    }
   ],
   "source": [
    "from ipyleaflet import Map, Polyline\n",
    "\n",
    "print(len(flight_paths))\n",
    "\n",
    "av_lat, av_lon = 38.94551467895508, -77.46537581734037\n",
    "print(av_lat, av_lon)\n",
    "\n",
    "line = Polyline(\n",
    "    locations = [flight_paths],\n",
    "    color = \"green\",\n",
    "    fill=False,\n",
    "    weight=2)\n",
    "m = Map(center = (av_lat, av_lon), zoom = 3)\n",
    "m.add_layer(line)\n",
    "m.layout.width = '100%'\n",
    "m.layout.height = '800px'\n",
    "m"
   ]
  }
 ],
 "metadata": {
  "kernelspec": {
   "display_name": "Python 3",
   "language": "python",
   "name": "python3"
  },
  "language_info": {
   "codemirror_mode": {
    "name": "ipython",
    "version": 3
   },
   "file_extension": ".py",
   "mimetype": "text/x-python",
   "name": "python",
   "nbconvert_exporter": "python",
   "pygments_lexer": "ipython3",
   "version": "3.6.6"
  }
 },
 "nbformat": 4,
 "nbformat_minor": 2
}
