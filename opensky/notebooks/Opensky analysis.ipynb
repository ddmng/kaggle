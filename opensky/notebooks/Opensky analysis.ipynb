{
 "cells": [
  {
   "cell_type": "markdown",
   "metadata": {},
   "source": [
    "# Exploring opensky states data"
   ]
  },
  {
   "cell_type": "code",
   "execution_count": 1,
   "metadata": {},
   "outputs": [
    {
     "name": "stderr",
     "output_type": "stream",
     "text": [
      "Using TensorFlow backend.\n"
     ]
    }
   ],
   "source": [
    "import math\n",
    "import pandas as pd\n",
    "import numpy as np\n",
    "from scipy.stats import stats, norm, skew\n",
    "import seaborn as sns\n",
    "import matplotlib.pyplot as plt\n",
    "import matplotlib.image as mpimg\n",
    "from sklearn import preprocessing\n",
    "from sklearn.metrics import confusion_matrix, mean_squared_error\n",
    "from sklearn.model_selection import train_test_split\n",
    "from sklearn.linear_model import LinearRegression, ElasticNet, Lasso\n",
    "from sklearn.model_selection import KFold\n",
    "from sklearn.preprocessing import StandardScaler, MinMaxScaler, LabelEncoder\n",
    "from sklearn.model_selection import KFold, cross_val_score, train_test_split\n",
    "from keras.models import Sequential\n",
    "from keras.callbacks import ModelCheckpoint\n",
    "from keras.layers import Dense, Dropout, Flatten, Conv2D, MaxPool2D\n",
    "from keras.utils.np_utils import to_categorical\n",
    "from keras.wrappers.scikit_learn import KerasRegressor\n",
    "from scipy.special import boxcox1p\n",
    "import lightgbm as lgb\n",
    "import xgboost as xgb\n",
    "\n",
    "%matplotlib inline\n",
    "np.random.seed(2)"
   ]
  },
  {
   "cell_type": "code",
   "execution_count": 57,
   "metadata": {},
   "outputs": [
    {
     "name": "stdout",
     "output_type": "stream",
     "text": [
      "dataset1 loaded\n",
      "dataset2 loaded\n",
      "dataset3 loaded\n"
     ]
    }
   ],
   "source": [
    "dataset1 = pd.read_csv('../input/states_2019-01-14-00.csv')\n",
    "print('dataset1 loaded')\n",
    "dataset2 = pd.read_csv('../input/states_2019-01-14-01.csv')\n",
    "print('dataset2 loaded')\n",
    "dataset3 = pd.read_csv('../input/states_2019-01-14-02.csv')\n",
    "print('dataset3 loaded')\n",
    "dataset = pd.concat([dataset1, dataset2, dataset3], axis=0)"
   ]
  },
  {
   "cell_type": "code",
   "execution_count": 58,
   "metadata": {},
   "outputs": [
    {
     "data": {
      "text/html": [
       "<div>\n",
       "<style scoped>\n",
       "    .dataframe tbody tr th:only-of-type {\n",
       "        vertical-align: middle;\n",
       "    }\n",
       "\n",
       "    .dataframe tbody tr th {\n",
       "        vertical-align: top;\n",
       "    }\n",
       "\n",
       "    .dataframe thead th {\n",
       "        text-align: right;\n",
       "    }\n",
       "</style>\n",
       "<table border=\"1\" class=\"dataframe\">\n",
       "  <thead>\n",
       "    <tr style=\"text-align: right;\">\n",
       "      <th></th>\n",
       "      <th>time</th>\n",
       "      <th>icao24</th>\n",
       "      <th>lat</th>\n",
       "      <th>lon</th>\n",
       "      <th>velocity</th>\n",
       "      <th>heading</th>\n",
       "      <th>vertrate</th>\n",
       "      <th>callsign</th>\n",
       "      <th>onground</th>\n",
       "      <th>alert</th>\n",
       "      <th>spi</th>\n",
       "      <th>squawk</th>\n",
       "      <th>baroaltitude</th>\n",
       "      <th>geoaltitude</th>\n",
       "      <th>lastposupdate</th>\n",
       "      <th>lastcontact</th>\n",
       "    </tr>\n",
       "  </thead>\n",
       "  <tbody>\n",
       "    <tr>\n",
       "      <th>0</th>\n",
       "      <td>1547424000</td>\n",
       "      <td>4ca1fe</td>\n",
       "      <td>51.671308</td>\n",
       "      <td>2.311249</td>\n",
       "      <td>127.868055</td>\n",
       "      <td>288.289158</td>\n",
       "      <td>-4.87680</td>\n",
       "      <td>RYR4WA</td>\n",
       "      <td>False</td>\n",
       "      <td>False</td>\n",
       "      <td>False</td>\n",
       "      <td>3117.0</td>\n",
       "      <td>7757.16</td>\n",
       "      <td>7620.00</td>\n",
       "      <td>1.547424e+09</td>\n",
       "      <td>1.547424e+09</td>\n",
       "    </tr>\n",
       "    <tr>\n",
       "      <th>1</th>\n",
       "      <td>1547424000</td>\n",
       "      <td>4b187d</td>\n",
       "      <td>40.537491</td>\n",
       "      <td>-73.051758</td>\n",
       "      <td>204.903762</td>\n",
       "      <td>76.940691</td>\n",
       "      <td>10.07872</td>\n",
       "      <td>SWR17P</td>\n",
       "      <td>False</td>\n",
       "      <td>False</td>\n",
       "      <td>False</td>\n",
       "      <td>1547.0</td>\n",
       "      <td>4099.56</td>\n",
       "      <td>4091.94</td>\n",
       "      <td>1.547424e+09</td>\n",
       "      <td>1.547424e+09</td>\n",
       "    </tr>\n",
       "    <tr>\n",
       "      <th>2</th>\n",
       "      <td>1547424000</td>\n",
       "      <td>a776b2</td>\n",
       "      <td>41.119446</td>\n",
       "      <td>-71.720581</td>\n",
       "      <td>198.127740</td>\n",
       "      <td>246.430252</td>\n",
       "      <td>3.90144</td>\n",
       "      <td>JBU321</td>\n",
       "      <td>False</td>\n",
       "      <td>False</td>\n",
       "      <td>False</td>\n",
       "      <td>2076.0</td>\n",
       "      <td>10195.56</td>\n",
       "      <td>10088.88</td>\n",
       "      <td>1.547424e+09</td>\n",
       "      <td>1.547424e+09</td>\n",
       "    </tr>\n",
       "    <tr>\n",
       "      <th>3</th>\n",
       "      <td>1547424000</td>\n",
       "      <td>40762c</td>\n",
       "      <td>51.964233</td>\n",
       "      <td>8.027344</td>\n",
       "      <td>227.736637</td>\n",
       "      <td>45.732175</td>\n",
       "      <td>0.00000</td>\n",
       "      <td>NPT4069</td>\n",
       "      <td>False</td>\n",
       "      <td>False</td>\n",
       "      <td>False</td>\n",
       "      <td>7130.0</td>\n",
       "      <td>11277.60</td>\n",
       "      <td>10904.22</td>\n",
       "      <td>1.547424e+09</td>\n",
       "      <td>1.547424e+09</td>\n",
       "    </tr>\n",
       "    <tr>\n",
       "      <th>4</th>\n",
       "      <td>1547424000</td>\n",
       "      <td>a278f3</td>\n",
       "      <td>40.795402</td>\n",
       "      <td>-73.304714</td>\n",
       "      <td>222.625901</td>\n",
       "      <td>48.278499</td>\n",
       "      <td>0.00000</td>\n",
       "      <td>CNS818</td>\n",
       "      <td>False</td>\n",
       "      <td>False</td>\n",
       "      <td>False</td>\n",
       "      <td>3055.0</td>\n",
       "      <td>7010.40</td>\n",
       "      <td>6964.68</td>\n",
       "      <td>1.547424e+09</td>\n",
       "      <td>1.547424e+09</td>\n",
       "    </tr>\n",
       "  </tbody>\n",
       "</table>\n",
       "</div>"
      ],
      "text/plain": [
       "         time  icao24        lat        lon    velocity     heading  vertrate  \\\n",
       "0  1547424000  4ca1fe  51.671308   2.311249  127.868055  288.289158  -4.87680   \n",
       "1  1547424000  4b187d  40.537491 -73.051758  204.903762   76.940691  10.07872   \n",
       "2  1547424000  a776b2  41.119446 -71.720581  198.127740  246.430252   3.90144   \n",
       "3  1547424000  40762c  51.964233   8.027344  227.736637   45.732175   0.00000   \n",
       "4  1547424000  a278f3  40.795402 -73.304714  222.625901   48.278499   0.00000   \n",
       "\n",
       "   callsign  onground  alert    spi  squawk  baroaltitude  geoaltitude  \\\n",
       "0  RYR4WA       False  False  False  3117.0       7757.16      7620.00   \n",
       "1  SWR17P       False  False  False  1547.0       4099.56      4091.94   \n",
       "2  JBU321       False  False  False  2076.0      10195.56     10088.88   \n",
       "3  NPT4069      False  False  False  7130.0      11277.60     10904.22   \n",
       "4  CNS818       False  False  False  3055.0       7010.40      6964.68   \n",
       "\n",
       "   lastposupdate   lastcontact  \n",
       "0   1.547424e+09  1.547424e+09  \n",
       "1   1.547424e+09  1.547424e+09  \n",
       "2   1.547424e+09  1.547424e+09  \n",
       "3   1.547424e+09  1.547424e+09  \n",
       "4   1.547424e+09  1.547424e+09  "
      ]
     },
     "execution_count": 58,
     "metadata": {},
     "output_type": "execute_result"
    }
   ],
   "source": [
    "dataset[0:5]"
   ]
  },
  {
   "cell_type": "markdown",
   "metadata": {},
   "source": [
    "## Dropping useless columns"
   ]
  },
  {
   "cell_type": "code",
   "execution_count": 59,
   "metadata": {},
   "outputs": [],
   "source": [
    "dataset = dataset.drop('onground', axis=1)\n",
    "dataset = dataset.drop('squawk', axis=1)\n",
    "dataset = dataset.drop('time', axis=1)\n",
    "dataset = dataset.drop('lastcontact', axis=1)\n",
    "dataset = dataset.drop('spi', axis=1)"
   ]
  },
  {
   "cell_type": "code",
   "execution_count": 60,
   "metadata": {},
   "outputs": [
    {
     "data": {
      "text/plain": [
       "icao24                 0\n",
       "lat              1212768\n",
       "lon              1212768\n",
       "velocity         1165636\n",
       "heading          1165636\n",
       "vertrate         1144668\n",
       "callsign         1046304\n",
       "alert                  0\n",
       "baroaltitude      477801\n",
       "geoaltitude      1576856\n",
       "lastposupdate    1212768\n",
       "dtype: int64"
      ]
     },
     "execution_count": 60,
     "metadata": {},
     "output_type": "execute_result"
    }
   ],
   "source": [
    "dataset.isnull().sum()"
   ]
  },
  {
   "cell_type": "markdown",
   "metadata": {},
   "source": [
    "## Dropping useless rows"
   ]
  },
  {
   "cell_type": "code",
   "execution_count": 61,
   "metadata": {},
   "outputs": [
    {
     "data": {
      "text/plain": [
       "icao24                0\n",
       "lat                   0\n",
       "lon                   0\n",
       "velocity         177473\n",
       "heading          177473\n",
       "vertrate         173074\n",
       "callsign         203760\n",
       "alert                 0\n",
       "baroaltitude     167155\n",
       "geoaltitude      445952\n",
       "lastposupdate         0\n",
       "dtype: int64"
      ]
     },
     "execution_count": 61,
     "metadata": {},
     "output_type": "execute_result"
    }
   ],
   "source": [
    "dataset = dataset.dropna(axis=0, subset=['lat', 'lon'])\n",
    "dataset.isnull().sum()"
   ]
  },
  {
   "cell_type": "markdown",
   "metadata": {},
   "source": [
    "## Filling barometric altitude holes with geoaltitudes and removing the remaninig nulls"
   ]
  },
  {
   "cell_type": "code",
   "execution_count": 62,
   "metadata": {},
   "outputs": [
    {
     "data": {
      "text/plain": [
       "icao24                0\n",
       "lat                   0\n",
       "lon                   0\n",
       "velocity          61992\n",
       "heading           61992\n",
       "vertrate          57729\n",
       "callsign         167431\n",
       "alert                 0\n",
       "lastposupdate         0\n",
       "altitude              0\n",
       "dtype: int64"
      ]
     },
     "execution_count": 62,
     "metadata": {},
     "output_type": "execute_result"
    }
   ],
   "source": [
    "dataset['altitude'] = dataset['baroaltitude']\n",
    "dataset['altitude'] = dataset['altitude'].fillna(dataset['geoaltitude'])\n",
    "dataset = dataset.dropna(axis=0, subset=['altitude'])\n",
    "dataset = dataset.drop('geoaltitude', axis=1)\n",
    "dataset = dataset.drop('baroaltitude', axis=1)\n",
    "dataset.isnull().sum()"
   ]
  },
  {
   "cell_type": "markdown",
   "metadata": {},
   "source": [
    "## Data cleaned\n",
    "\n",
    "The remaining nulls could be filled via interpolation once the dataset is splitted over the `icao24` field values"
   ]
  },
  {
   "cell_type": "markdown",
   "metadata": {},
   "source": [
    "## Plotting some flights"
   ]
  },
  {
   "cell_type": "code",
   "execution_count": 71,
   "metadata": {},
   "outputs": [
    {
     "name": "stdout",
     "output_type": "stream",
     "text": [
      "12203\n"
     ]
    }
   ],
   "source": [
    "groups = dataset.groupby('icao24')\n",
    "\n",
    "flight_paths = []\n",
    "\n",
    "print(len(groups.groups))\n",
    "max_num = 1000\n",
    "for k, i in groups:\n",
    "    if max_num == 0: break\n",
    "    max_num -= 1\n",
    "    flight_paths.append(i[['lat', 'lon']].values.tolist())\n"
   ]
  },
  {
   "cell_type": "code",
   "execution_count": 72,
   "metadata": {
    "scrolled": false
   },
   "outputs": [
    {
     "name": "stdout",
     "output_type": "stream",
     "text": [
      "1000\n",
      "41 12\n"
     ]
    },
    {
     "data": {
      "application/vnd.jupyter.widget-view+json": {
       "model_id": "6d0eb747af644fe18341ba73a0666972",
       "version_major": 2,
       "version_minor": 0
      },
      "text/plain": [
       "Map(basemap={'url': 'https://{s}.tile.openstreetmap.org/{z}/{x}/{y}.png', 'max_zoom': 19, 'attribution': 'Map …"
      ]
     },
     "metadata": {},
     "output_type": "display_data"
    }
   ],
   "source": [
    "from ipyleaflet import Map, Polyline\n",
    "\n",
    "print(len(flight_paths))\n",
    "\n",
    "av_lat, av_lon = 41, 12\n",
    "print(av_lat, av_lon)\n",
    "\n",
    "line = Polyline(\n",
    "    locations = [flight_paths],\n",
    "    color = \"green\",\n",
    "    fill=False,\n",
    "    weight=2)\n",
    "m = Map(center = (av_lat, av_lon), zoom = 4)\n",
    "m.add_layer(line)\n",
    "m.layout.width = '100%'\n",
    "m.layout.height = '800px'\n",
    "m"
   ]
  }
 ],
 "metadata": {
  "kernelspec": {
   "display_name": "Python 3",
   "language": "python",
   "name": "python3"
  },
  "language_info": {
   "codemirror_mode": {
    "name": "ipython",
    "version": 3
   },
   "file_extension": ".py",
   "mimetype": "text/x-python",
   "name": "python",
   "nbconvert_exporter": "python",
   "pygments_lexer": "ipython3",
   "version": "3.6.6"
  }
 },
 "nbformat": 4,
 "nbformat_minor": 2
}
